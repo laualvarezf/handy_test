{
 "cells": [
  {
   "cell_type": "code",
   "execution_count": null,
   "id": "VZUs7sJhLGcB",
   "metadata": {
    "colab": {
     "base_uri": "https://localhost:8080/"
    },
    "id": "VZUs7sJhLGcB",
    "outputId": "b6322b87-4b57-4959-eada-024000e38f2a"
   },
   "outputs": [
    {
     "name": "stdout",
     "output_type": "stream",
     "text": [
      "Mounted at /content/drive/\n"
     ]
    }
   ],
   "source": [
    "from google.colab import drive\n",
    "drive.mount('/content/drive/')"
   ]
  },
  {
   "cell_type": "code",
   "execution_count": null,
   "id": "representative-mapping",
   "metadata": {
    "id": "representative-mapping"
   },
   "outputs": [],
   "source": [
    "import pandas as pd\n",
    "from glob import glob\n",
    "import numpy as np\n",
    "import pywt\n",
    "import matplotlib.pyplot as plt\n",
    "from sklearn.preprocessing import StandardScaler\n",
    "from google.cloud import storage\n",
    "from tensorflow.keras.models import Sequential\n",
    "from tensorflow.keras.layers import Dense, Dropout\n",
    "from tensorflow.keras.layers import Embedding\n",
    "from tensorflow.keras.layers import LSTM, BatchNormalization, Conv2D, Flatten, MaxPooling2D, Dropout\n",
    "from tensorflow.keras.optimizers import Adam\n",
    "from tensorflow.keras.callbacks import EarlyStopping\n",
    "from sklearn.metrics import roc_curve, auc, roc_auc_score\n",
    "from sklearn.metrics import multilabel_confusion_matrix, classification_report\n",
    "import time"
   ]
  },
  {
   "cell_type": "markdown",
   "id": "fourth-milwaukee",
   "metadata": {
    "id": "fourth-milwaukee"
   },
   "source": [
    "## Functions to read data and load it"
   ]
  },
  {
   "cell_type": "code",
   "execution_count": null,
   "id": "typical-favorite",
   "metadata": {
    "id": "typical-favorite"
   },
   "outputs": [],
   "source": [
    "\n",
    "\n",
    "def prepare_data_train(fname):\n",
    "    \"\"\" read and prepare training data \"\"\"\n",
    "    # Read data\n",
    "    data = pd.read_csv(fname)\n",
    "    # events file\n",
    "    events_fname = fname.replace('_data','_events')\n",
    "    # read event file\n",
    "    labels= pd.read_csv(events_fname)\n",
    "    clean=data.drop(['id' ], axis=1)#remove id\n",
    "    labels=labels.drop(['id' ], axis=1)#remove id\n",
    "    return  clean,labels"
   ]
  },
  {
   "cell_type": "code",
   "execution_count": null,
   "id": "processed-frame",
   "metadata": {
    "id": "processed-frame"
   },
   "outputs": [],
   "source": [
    "def loading_one_subject(subject_number):\n",
    "    y_raw= []\n",
    "    raw = []\n",
    "    fnames =  sorted(glob('/content/drive/MyDrive/train/subj%d_series*_data.csv' % (subject_number)))\n",
    "    for fname in fnames:\n",
    "        data,labels=prepare_data_train(fname)\n",
    "        raw.append(data)\n",
    "        y_raw.append(labels)\n",
    "    X = pd.concat(raw).reset_index()\n",
    "    X.drop(columns=\"index\", inplace=True)\n",
    "    y = pd.concat(y_raw).reset_index()\n",
    "    y.drop(columns=\"index\", inplace=True)\n",
    "    return X, y"
   ]
  },
  {
   "cell_type": "code",
   "execution_count": null,
   "id": "level-gambling",
   "metadata": {
    "id": "level-gambling"
   },
   "outputs": [],
   "source": [
    "X, y = loading_one_subject(1) "
   ]
  },
  {
   "cell_type": "code",
   "execution_count": null,
   "id": "stopped-intervention",
   "metadata": {
    "colab": {
     "base_uri": "https://localhost:8080/"
    },
    "id": "stopped-intervention",
    "outputId": "9f9b5616-fc95-4fcf-d7f3-32eb61230d2a"
   },
   "outputs": [
    {
     "data": {
      "text/plain": [
       "((1422392, 32), (1422392, 6))"
      ]
     },
     "execution_count": 6,
     "metadata": {
      "tags": []
     },
     "output_type": "execute_result"
    }
   ],
   "source": [
    "X.shape, y.shape\n"
   ]
  },
  {
   "cell_type": "code",
   "execution_count": null,
   "id": "indirect-development",
   "metadata": {
    "colab": {
     "base_uri": "https://localhost:8080/"
    },
    "id": "indirect-development",
    "outputId": "da98e147-9396-4921-ae8f-c9f600aee140"
   },
   "outputs": [
    {
     "data": {
      "text/plain": [
       "(pandas.core.frame.DataFrame, pandas.core.frame.DataFrame)"
      ]
     },
     "execution_count": 7,
     "metadata": {
      "tags": []
     },
     "output_type": "execute_result"
    }
   ],
   "source": [
    "type(X),type(y)"
   ]
  },
  {
   "cell_type": "markdown",
   "id": "cubic-approach",
   "metadata": {
    "id": "cubic-approach"
   },
   "source": [
    "## Function for mean absolute deviation of a signal and wavelet_denoising"
   ]
  },
  {
   "cell_type": "code",
   "execution_count": null,
   "id": "moderate-humanity",
   "metadata": {
    "id": "moderate-humanity"
   },
   "outputs": [],
   "source": [
    "def convert_df_to_numpy(df):\n",
    "    return np.asarray(df.astype(float))\n",
    "  "
   ]
  },
  {
   "cell_type": "code",
   "execution_count": null,
   "id": "greatest-start",
   "metadata": {
    "id": "greatest-start"
   },
   "outputs": [],
   "source": [
    "def madev(d, axis=None):\n",
    "    \"\"\" Mean absolute deviation of a signal \"\"\"\n",
    "    return np.mean(np.absolute(d - np.mean(d, axis)), axis)"
   ]
  },
  {
   "cell_type": "code",
   "execution_count": null,
   "id": "organic-thanksgiving",
   "metadata": {
    "id": "organic-thanksgiving"
   },
   "outputs": [],
   "source": [
    "def wavelet_denoising(X, wavelet='db2', level=3):\n",
    "    coeff = pywt.wavedec(X, wavelet, mode=\"per\")\n",
    "    sigma = (1/0.6745) * madev(coeff[-level])\n",
    "    uthresh = sigma * np.sqrt(2 * np.log(len(X)))\n",
    "    coeff[1:] = (pywt.threshold(i, value=uthresh, mode='hard') for i in coeff[1:])\n",
    "    return pywt.waverec(coeff, wavelet, mode='per')"
   ]
  },
  {
   "cell_type": "code",
   "execution_count": null,
   "id": "welcome-daughter",
   "metadata": {
    "id": "welcome-daughter"
   },
   "outputs": [],
   "source": [
    "def preprocess_data(X, y):\n",
    "    X= convert_df_to_numpy(X)\n",
    "    y=convert_df_to_numpy(y)\n",
    "    X=wavelet_denoising(X)\n",
    "    return X, y"
   ]
  },
  {
   "cell_type": "code",
   "execution_count": null,
   "id": "naughty-discount",
   "metadata": {
    "id": "naughty-discount"
   },
   "outputs": [],
   "source": [
    "X, y = preprocess_data(X,y)"
   ]
  },
  {
   "cell_type": "code",
   "execution_count": null,
   "id": "married-farmer",
   "metadata": {
    "colab": {
     "base_uri": "https://localhost:8080/"
    },
    "id": "married-farmer",
    "outputId": "0ab1c2f6-baad-49c6-f2cf-1bcbba734070",
    "scrolled": true
   },
   "outputs": [
    {
     "data": {
      "text/plain": [
       "((1422392, 32), (1422392, 6))"
      ]
     },
     "execution_count": 13,
     "metadata": {
      "tags": []
     },
     "output_type": "execute_result"
    }
   ],
   "source": [
    "X.shape, y.shape"
   ]
  },
  {
   "cell_type": "code",
   "execution_count": null,
   "id": "theoretical-uruguay",
   "metadata": {
    "colab": {
     "base_uri": "https://localhost:8080/"
    },
    "id": "theoretical-uruguay",
    "outputId": "5f706fd1-c7b7-44a3-ca78-f0b7e5d54fcf"
   },
   "outputs": [
    {
     "data": {
      "text/plain": [
       "(numpy.ndarray, numpy.ndarray)"
      ]
     },
     "execution_count": 14,
     "metadata": {
      "tags": []
     },
     "output_type": "execute_result"
    }
   ],
   "source": [
    "type(X), type(y)"
   ]
  },
  {
   "cell_type": "markdown",
   "id": "coordinated-uganda",
   "metadata": {
    "id": "coordinated-uganda"
   },
   "source": [
    "## Visualizing a signal before and after wavelet denoising"
   ]
  },
  {
   "cell_type": "code",
   "execution_count": null,
   "id": "postal-disorder",
   "metadata": {
    "id": "postal-disorder"
   },
   "outputs": [],
   "source": [
    "#signal=pd.read_csv('../raw_date/train/subj1_series1_data.csv')\n",
    "#signal = signal.drop(\"id\", axis=1)\n",
    "#filtered = wavelet_denoising(signal, wavelet='db2', level=3)\n",
    "\n",
    "#import matplotlib.pyplot as plt\n",
    "#fig, ax = plt.subplots(figsize=(8,5))\n",
    "#ax.plot(signal.iloc[:10000,1], label='signal', color=\"b\", alpha=0.5,)\n",
    "#ax.plot(filtered[:10000,1], label='reconstructed signal',color=\"k\")\n",
    "#ax.legend(loc='upper left')\n",
    "#ax.set_title('Denoising with DWT')\n",
    "#plt.show()"
   ]
  },
  {
   "cell_type": "markdown",
   "id": "lasting-intervention",
   "metadata": {
    "id": "lasting-intervention"
   },
   "source": [
    "## Test splitting data"
   ]
  },
  {
   "cell_type": "code",
   "execution_count": null,
   "id": "prostate-thong",
   "metadata": {
    "id": "prostate-thong"
   },
   "outputs": [],
   "source": [
    "def custom_train_test_split(X, y):\n",
    "     \n",
    "    splitrate=-X.shape[0]//5*2\n",
    "    xval=X[splitrate:splitrate//2]\n",
    "    yval=y[splitrate:splitrate//2]\n",
    "    xtest=X[splitrate//2:]\n",
    "    ytest=y[splitrate//2:]\n",
    "    xtrain=X[:splitrate]\n",
    "    ytrain=y[:splitrate]\n",
    "    \n",
    "    return xtrain, xval, xtest, ytrain, yval, ytest "
   ]
  },
  {
   "cell_type": "code",
   "execution_count": null,
   "id": "weekly-rebel",
   "metadata": {
    "id": "weekly-rebel"
   },
   "outputs": [],
   "source": [
    "# splitting the data \n",
    "xtrain, xval, xtest, ytrain, yval, ytest = custom_train_test_split(X, y)"
   ]
  },
  {
   "cell_type": "code",
   "execution_count": null,
   "id": "wound-heart",
   "metadata": {
    "colab": {
     "base_uri": "https://localhost:8080/"
    },
    "id": "wound-heart",
    "outputId": "1a8f1061-c2df-400e-ed21-6325f6d4e42d"
   },
   "outputs": [
    {
     "data": {
      "text/plain": [
       "((853434, 32),\n",
       " (284479, 32),\n",
       " (284479, 32),\n",
       " (853434, 6),\n",
       " (284479, 6),\n",
       " (284479, 6))"
      ]
     },
     "execution_count": 18,
     "metadata": {
      "tags": []
     },
     "output_type": "execute_result"
    }
   ],
   "source": [
    "xtrain.shape, xval.shape, xtest.shape, ytrain.shape, yval.shape, ytest.shape"
   ]
  },
  {
   "cell_type": "code",
   "execution_count": null,
   "id": "available-plasma",
   "metadata": {
    "colab": {
     "base_uri": "https://localhost:8080/"
    },
    "id": "available-plasma",
    "outputId": "9e90e0bf-e367-44e5-e519-92d778284fa0"
   },
   "outputs": [
    {
     "data": {
      "text/plain": [
       "(numpy.ndarray,\n",
       " numpy.ndarray,\n",
       " numpy.ndarray,\n",
       " numpy.ndarray,\n",
       " numpy.ndarray,\n",
       " numpy.ndarray)"
      ]
     },
     "execution_count": 19,
     "metadata": {
      "tags": []
     },
     "output_type": "execute_result"
    }
   ],
   "source": [
    "type(xtrain), type(xval), type(xtest), type(ytrain), type(yval), type(ytest)"
   ]
  },
  {
   "cell_type": "markdown",
   "id": "taken-raleigh",
   "metadata": {
    "id": "taken-raleigh"
   },
   "source": [
    "## Scaling data"
   ]
  },
  {
   "cell_type": "code",
   "execution_count": null,
   "id": "solved-bracket",
   "metadata": {
    "id": "solved-bracket"
   },
   "outputs": [],
   "source": [
    "scaler= StandardScaler()\n",
    "def data_scaler_train(X):\n",
    "    X_prep=scaler.fit_transform(X)\n",
    "    #do here your preprocessing\n",
    "    return X_prep\n",
    "def data_scaler_test(X):\n",
    "    X_prep=scaler.transform(X)\n",
    "    #do here your preprocessing\n",
    "    return X_prep"
   ]
  },
  {
   "cell_type": "code",
   "execution_count": null,
   "id": "innocent-syndication",
   "metadata": {
    "id": "innocent-syndication"
   },
   "outputs": [],
   "source": [
    "X_train_scaled= data_scaler_train(xtrain)\n",
    "X_val_scaled= data_scaler_test(xval)"
   ]
  },
  {
   "cell_type": "code",
   "execution_count": null,
   "id": "posted-directory",
   "metadata": {
    "colab": {
     "base_uri": "https://localhost:8080/"
    },
    "id": "posted-directory",
    "outputId": "7a8ae2e8-2fa6-44a7-bfaa-423b70558308"
   },
   "outputs": [
    {
     "data": {
      "text/plain": [
       "((853434, 32), (284479, 32))"
      ]
     },
     "execution_count": 22,
     "metadata": {
      "tags": []
     },
     "output_type": "execute_result"
    }
   ],
   "source": [
    "X_train_scaled.shape, X_val_scaled.shape"
   ]
  },
  {
   "cell_type": "code",
   "execution_count": null,
   "id": "portuguese-robin",
   "metadata": {
    "colab": {
     "base_uri": "https://localhost:8080/"
    },
    "id": "portuguese-robin",
    "outputId": "f287d19c-195c-4e6b-f2f8-d7d6ff9bc6e5"
   },
   "outputs": [
    {
     "data": {
      "text/plain": [
       "(numpy.ndarray, numpy.ndarray)"
      ]
     },
     "execution_count": 23,
     "metadata": {
      "tags": []
     },
     "output_type": "execute_result"
    }
   ],
   "source": [
    "type(X_train_scaled), type(X_val_scaled)"
   ]
  },
  {
   "cell_type": "markdown",
   "id": "italian-sponsorship",
   "metadata": {
    "id": "italian-sponsorship"
   },
   "source": [
    "## Generators"
   ]
  },
  {
   "cell_type": "code",
   "execution_count": null,
   "id": "studied-index",
   "metadata": {
    "id": "studied-index"
   },
   "outputs": [],
   "source": [
    "time_steps = 1000\n",
    "subsample = 50"
   ]
  },
  {
   "cell_type": "code",
   "execution_count": null,
   "id": "unlike-services",
   "metadata": {
    "id": "unlike-services"
   },
   "outputs": [],
   "source": [
    "def generator(batch_size, xtrain, ytrain):\n",
    "    while 1:\n",
    "        x_time_data = np.zeros((batch_size, time_steps//subsample, 32))\n",
    "        yy = []\n",
    "        for i in range(batch_size):\n",
    "            random_index = np.random.randint(0, len(xtrain)-time_steps)\n",
    "            x_time_data[i] = xtrain[random_index:random_index+time_steps:subsample]\n",
    "            yy.append(ytrain[random_index + time_steps])\n",
    "        yy = np.asarray(yy)\n",
    "        yield x_time_data.reshape((x_time_data.shape[0],x_time_data.shape[1],  x_time_data.shape[2],1)), yy"
   ]
  },
  {
   "cell_type": "code",
   "execution_count": null,
   "id": "disturbed-mentor",
   "metadata": {
    "id": "disturbed-mentor"
   },
   "outputs": [],
   "source": [
    "def valgenerator(xval, yval):\n",
    "    while 1:\n",
    "        batch_size=32\n",
    "        x_time_data = np.zeros((batch_size, time_steps//subsample, 32))\n",
    "        yy = []\n",
    "        for i in range(batch_size):\n",
    "            random_index = np.random.randint(0, len(xval)-time_steps)\n",
    "            x_time_data[i] = xval[random_index:random_index+time_steps:subsample]\n",
    "            yy.append(yval[random_index + time_steps])\n",
    "        yy = np.asarray(yy)\n",
    "        yield x_time_data.reshape((x_time_data.shape[0],x_time_data.shape[1], x_time_data.shape[2],1)), yy"
   ]
  },
  {
   "cell_type": "markdown",
   "id": "sized-operator",
   "metadata": {
    "id": "sized-operator"
   },
   "source": [
    "# CNN Model "
   ]
  },
  {
   "cell_type": "code",
   "execution_count": null,
   "id": "expected-husband",
   "metadata": {
    "colab": {
     "base_uri": "https://localhost:8080/"
    },
    "id": "expected-husband",
    "outputId": "a78f47d3-bbfb-4ba3-b9ab-648c4b92ae25"
   },
   "outputs": [
    {
     "name": "stdout",
     "output_type": "stream",
     "text": [
      "Model: \"sequential\"\n",
      "_________________________________________________________________\n",
      "Layer (type)                 Output Shape              Param #   \n",
      "=================================================================\n",
      "conv2d (Conv2D)              (None, 20, 32, 64)        3200      \n",
      "_________________________________________________________________\n",
      "batch_normalization (BatchNo (None, 20, 32, 64)        256       \n",
      "_________________________________________________________________\n",
      "conv2d_1 (Conv2D)            (None, 20, 32, 64)        102464    \n",
      "_________________________________________________________________\n",
      "batch_normalization_1 (Batch (None, 20, 32, 64)        256       \n",
      "_________________________________________________________________\n",
      "conv2d_2 (Conv2D)            (None, 20, 32, 64)        36928     \n",
      "_________________________________________________________________\n",
      "batch_normalization_2 (Batch (None, 20, 32, 64)        256       \n",
      "_________________________________________________________________\n",
      "flatten (Flatten)            (None, 40960)             0         \n",
      "_________________________________________________________________\n",
      "dense (Dense)                (None, 32)                1310752   \n",
      "_________________________________________________________________\n",
      "batch_normalization_3 (Batch (None, 32)                128       \n",
      "_________________________________________________________________\n",
      "dense_1 (Dense)              (None, 6)                 198       \n",
      "=================================================================\n",
      "Total params: 1,454,438\n",
      "Trainable params: 1,453,990\n",
      "Non-trainable params: 448\n",
      "_________________________________________________________________\n"
     ]
    }
   ],
   "source": [
    "load = 1\n",
    "\n",
    "model = Sequential()\n",
    "\n",
    "model.add(Conv2D(filters = 64, kernel_size = (7,7), padding = \"same\", activation = \"relu\", input_shape = ((time_steps//subsample), 32, 1)))\n",
    "model.add(BatchNormalization())\n",
    "#model.add(MaxPooling2D(pool_size = (3,3)))\n",
    "model.add(Conv2D(filters = 64, kernel_size = (5,5), padding = \"same\", activation = \"relu\", input_shape = ((time_steps//subsample), 32, 1)))\n",
    "model.add(BatchNormalization())\n",
    "#model.add(MaxPooling2D(pool_size = (3,3)))\n",
    "model.add(Conv2D(filters = 64, kernel_size = (3,3), padding = \"same\", activation = \"relu\", input_shape = ((time_steps//subsample), 32, 1)))\n",
    "model.add(BatchNormalization())\n",
    "#model.add(MaxPooling2D(pool_size = (3,3)))\n",
    "model.add(Flatten())\n",
    "#model.add(Dropout(0.2))\n",
    "model.add(Dense(32, activation = \"relu\"))\n",
    "model.add(BatchNormalization())\n",
    "# model.add(Dropout(0.2))\n",
    "model.add(Dense(6, activation = \"sigmoid\"))\n",
    "\n",
    "\n",
    "adam = Adam(lr = 0.0001)\n",
    "\n",
    "model.compile(optimizer = adam, loss = \"binary_crossentropy\", metrics = ['accuracy','mse'])\n",
    "\n",
    "model.summary()"
   ]
  },
  {
   "cell_type": "code",
   "execution_count": null,
   "id": "informational-stomach",
   "metadata": {
    "colab": {
     "base_uri": "https://localhost:8080/"
    },
    "id": "informational-stomach",
    "outputId": "20273e5a-8675-4989-aeb2-a8e770b1ba0b"
   },
   "outputs": [
    {
     "name": "stderr",
     "output_type": "stream",
     "text": [
      "/usr/local/lib/python3.7/dist-packages/tensorflow/python/keras/engine/training.py:1844: UserWarning: `Model.fit_generator` is deprecated and will be removed in a future version. Please use `Model.fit`, which supports generators.\n",
      "  warnings.warn('`Model.fit_generator` is deprecated and '\n"
     ]
    },
    {
     "name": "stdout",
     "output_type": "stream",
     "text": [
      "Epoch 1/50\n",
      "600/600 [==============================] - 41s 19ms/step - loss: 0.6806 - accuracy: 0.2541 - mse: 0.2422 - val_loss: 0.5361 - val_accuracy: 0.1262 - val_mse: 0.1731\n",
      "Epoch 2/50\n",
      "600/600 [==============================] - 11s 18ms/step - loss: 0.5280 - accuracy: 0.3064 - mse: 0.1695 - val_loss: 0.3554 - val_accuracy: 0.1500 - val_mse: 0.0923\n",
      "Epoch 3/50\n",
      "600/600 [==============================] - 11s 18ms/step - loss: 0.3589 - accuracy: 0.3538 - mse: 0.0943 - val_loss: 0.2379 - val_accuracy: 0.3378 - val_mse: 0.0496\n",
      "Epoch 4/50\n",
      "600/600 [==============================] - 11s 18ms/step - loss: 0.2263 - accuracy: 0.3812 - mse: 0.0474 - val_loss: 0.1443 - val_accuracy: 0.3558 - val_mse: 0.0254\n",
      "Epoch 5/50\n",
      "600/600 [==============================] - 11s 18ms/step - loss: 0.1512 - accuracy: 0.3997 - mse: 0.0284 - val_loss: 0.1016 - val_accuracy: 0.3873 - val_mse: 0.0181\n",
      "Epoch 6/50\n",
      "600/600 [==============================] - 11s 18ms/step - loss: 0.1121 - accuracy: 0.4168 - mse: 0.0215 - val_loss: 0.0853 - val_accuracy: 0.4189 - val_mse: 0.0170\n",
      "Epoch 7/50\n",
      "600/600 [==============================] - 11s 18ms/step - loss: 0.0943 - accuracy: 0.4381 - mse: 0.0199 - val_loss: 0.0763 - val_accuracy: 0.4080 - val_mse: 0.0158\n",
      "Epoch 8/50\n",
      "600/600 [==============================] - 11s 18ms/step - loss: 0.0776 - accuracy: 0.4439 - mse: 0.0169 - val_loss: 0.0702 - val_accuracy: 0.3752 - val_mse: 0.0152\n",
      "Epoch 9/50\n",
      "600/600 [==============================] - 11s 18ms/step - loss: 0.0725 - accuracy: 0.4551 - mse: 0.0170 - val_loss: 0.0631 - val_accuracy: 0.4647 - val_mse: 0.0141\n",
      "Epoch 10/50\n",
      "600/600 [==============================] - 11s 18ms/step - loss: 0.0688 - accuracy: 0.4517 - mse: 0.0169 - val_loss: 0.0650 - val_accuracy: 0.4181 - val_mse: 0.0155\n",
      "Epoch 11/50\n",
      "600/600 [==============================] - 11s 18ms/step - loss: 0.0640 - accuracy: 0.4677 - mse: 0.0160 - val_loss: 0.0594 - val_accuracy: 0.5452 - val_mse: 0.0137\n",
      "Epoch 12/50\n",
      "600/600 [==============================] - 11s 18ms/step - loss: 0.0589 - accuracy: 0.4667 - mse: 0.0150 - val_loss: 0.0626 - val_accuracy: 0.4320 - val_mse: 0.0149\n",
      "Epoch 13/50\n",
      "600/600 [==============================] - 11s 18ms/step - loss: 0.0601 - accuracy: 0.4839 - mse: 0.0157 - val_loss: 0.0632 - val_accuracy: 0.4861 - val_mse: 0.0152\n",
      "Epoch 14/50\n",
      "600/600 [==============================] - 11s 18ms/step - loss: 0.0578 - accuracy: 0.4901 - mse: 0.0154 - val_loss: 0.0616 - val_accuracy: 0.4702 - val_mse: 0.0146\n",
      "Epoch 15/50\n",
      "600/600 [==============================] - 11s 18ms/step - loss: 0.0537 - accuracy: 0.4866 - mse: 0.0141 - val_loss: 0.0601 - val_accuracy: 0.4553 - val_mse: 0.0148\n",
      "Epoch 16/50\n",
      "600/600 [==============================] - 11s 18ms/step - loss: 0.0569 - accuracy: 0.4957 - mse: 0.0155 - val_loss: 0.0578 - val_accuracy: 0.4717 - val_mse: 0.0139\n",
      "Epoch 17/50\n",
      "600/600 [==============================] - 11s 18ms/step - loss: 0.0501 - accuracy: 0.4849 - mse: 0.0135 - val_loss: 0.0615 - val_accuracy: 0.4989 - val_mse: 0.0149\n",
      "Epoch 18/50\n",
      "600/600 [==============================] - 11s 18ms/step - loss: 0.0495 - accuracy: 0.4959 - mse: 0.0135 - val_loss: 0.0637 - val_accuracy: 0.4414 - val_mse: 0.0151\n",
      "Epoch 19/50\n",
      "600/600 [==============================] - 11s 18ms/step - loss: 0.0468 - accuracy: 0.5078 - mse: 0.0127 - val_loss: 0.0627 - val_accuracy: 0.4373 - val_mse: 0.0152\n",
      "Epoch 20/50\n",
      "600/600 [==============================] - 11s 18ms/step - loss: 0.0475 - accuracy: 0.5031 - mse: 0.0129 - val_loss: 0.0599 - val_accuracy: 0.4489 - val_mse: 0.0148\n",
      "Epoch 21/50\n",
      "600/600 [==============================] - 11s 18ms/step - loss: 0.0447 - accuracy: 0.4974 - mse: 0.0122 - val_loss: 0.0612 - val_accuracy: 0.4733 - val_mse: 0.0149\n",
      "Epoch 22/50\n",
      "600/600 [==============================] - 11s 18ms/step - loss: 0.0443 - accuracy: 0.5039 - mse: 0.0120 - val_loss: 0.0605 - val_accuracy: 0.4386 - val_mse: 0.0144\n",
      "Epoch 23/50\n",
      "600/600 [==============================] - 11s 18ms/step - loss: 0.0436 - accuracy: 0.4931 - mse: 0.0121 - val_loss: 0.0644 - val_accuracy: 0.4864 - val_mse: 0.0155\n",
      "Epoch 24/50\n",
      "600/600 [==============================] - 11s 18ms/step - loss: 0.0398 - accuracy: 0.4906 - mse: 0.0109 - val_loss: 0.0655 - val_accuracy: 0.4386 - val_mse: 0.0156\n",
      "Epoch 25/50\n",
      "600/600 [==============================] - 11s 18ms/step - loss: 0.0398 - accuracy: 0.4956 - mse: 0.0109 - val_loss: 0.0683 - val_accuracy: 0.4487 - val_mse: 0.0163\n",
      "Epoch 26/50\n",
      "600/600 [==============================] - 11s 18ms/step - loss: 0.0402 - accuracy: 0.4919 - mse: 0.0112 - val_loss: 0.0634 - val_accuracy: 0.4723 - val_mse: 0.0154\n"
     ]
    }
   ],
   "source": [
    "es= EarlyStopping(patience=10)\n",
    "history =model.fit_generator(generator(32,X_train_scaled,ytrain), steps_per_epoch = 600, epochs = 50,validation_data=valgenerator(X_val_scaled, yval),\n",
    "                              validation_steps=200,callbacks=[es])"
   ]
  },
  {
   "cell_type": "code",
   "execution_count": null,
   "id": "worse-minute",
   "metadata": {
    "colab": {
     "base_uri": "https://localhost:8080/",
     "height": 390
    },
    "id": "worse-minute",
    "outputId": "b50d7918-ec5b-4c7b-bde5-eb9ba1f0dbb1"
   },
   "outputs": [
    {
     "data": {
      "image/png": "[encoded data removed]",
      "text/plain": [
       "<Figure size 1080x432 with 2 Axes>"
      ]
     },
     "metadata": {
      "needs_background": "light",
      "tags": []
     },
     "output_type": "display_data"
    }
   ],
   "source": [
    "def plot_training_history(history):\n",
    "    acc = history.history['accuracy']\n",
    "    loss = history.history['loss']\n",
    "    val_acc = history.history['val_accuracy']\n",
    "    val_loss = history.history['val_loss']\n",
    "    epochs = range(len(acc))\n",
    " \n",
    "    plt.figure(figsize=(15, 6))\n",
    "    plt.subplot(1, 2, 1)\n",
    "    plt.plot(epochs, acc, 'b', label='Training acc',linewidth=2)\n",
    "    plt.plot(epochs, val_acc, 'r--', label='Validation acc',linewidth=2)\n",
    "    plt.title('Training  accuracy')\n",
    "    plt.legend()\n",
    " \n",
    "    plt.subplot(1, 2, 2)\n",
    "    plt.plot(epochs, loss, 'b', label='Training loss')\n",
    "    plt.plot(epochs, val_loss, 'k', label='Validationloss ')\n",
    "    plt.title('Training loss')\n",
    "    plt.legend()\n",
    " \n",
    "    plt.show()\n",
    "plot_training_history(history)\n",
    "\n",
    "\n"
   ]
  },
  {
   "cell_type": "code",
   "execution_count": null,
   "id": "aCYjRXFolxz7",
   "metadata": {
    "id": "aCYjRXFolxz7"
   },
   "outputs": [],
   "source": [
    "# TESTING with Unseen Data"
   ]
  },
  {
   "cell_type": "code",
   "execution_count": null,
   "id": "f0PY9IZkowJ8",
   "metadata": {
    "id": "f0PY9IZkowJ8"
   },
   "outputs": [],
   "source": [
    "def test_generator(xtest, ytest, time_steps= 1000, subsample=1):\n",
    "    while 1:\n",
    "        batch_size = 1\n",
    "        x_time_data = np.zeros((batch_size, time_steps//subsample, 32))\n",
    "        yy = []\n",
    "        for i in range(batch_size):\n",
    "            random_index = np.random.randint(0, len(xtest)-time_steps)\n",
    "            x_time_data[i] = xtest[random_index:random_index+time_steps:subsample]\n",
    "            yy.append(ytest[random_index + time_steps])\n",
    "        yy = np.asarray(yy)\n",
    "        yield x_time_data.reshape((x_time_data.shape[0],x_time_data.shape[1], x_time_data.shape[2], 1)), yy"
   ]
  },
  {
   "cell_type": "code",
   "execution_count": null,
   "id": "Y6A5ffXkpY4t",
   "metadata": {
    "id": "Y6A5ffXkpY4t"
   },
   "outputs": [],
   "source": [
    "X_test_scaled = data_scaler_test(xtest)"
   ]
  },
  {
   "cell_type": "code",
   "execution_count": null,
   "id": "nu2UydMCqJtI",
   "metadata": {
    "id": "nu2UydMCqJtI"
   },
   "outputs": [],
   "source": [
    "gen_data = test_generator(X_test_scaled,ytest)\n",
    "def scores(df, num_test):\n",
    "  scores = []\n",
    "  num_test = num_test\n",
    "  for i in range(num_test):\n",
    "      x_test, y_test = next(df)\n",
    "      while not 1 in y_test:\n",
    "          x_test, y_test = next(df)\n",
    "      score = model.evaluate(x_test, y_test, verbose=0)\n",
    "      scores.append(score[1])\n",
    "  scores = np.asarray(scores)\n",
    "  return \"Accuracy \", np.mean(scores)\n",
    "  "
   ]
  },
  {
   "cell_type": "code",
   "execution_count": null,
   "id": "jDn5krOHIQcT",
   "metadata": {
    "colab": {
     "base_uri": "https://localhost:8080/"
    },
    "id": "jDn5krOHIQcT",
    "outputId": "4b95a047-a245-4388-985e-b484f0bbc6ce"
   },
   "outputs": [
    {
     "data": {
      "text/plain": [
       "('Accuracy ', 0.11999999731779099)"
      ]
     },
     "execution_count": 178,
     "metadata": {
      "tags": []
     },
     "output_type": "execute_result"
    }
   ],
   "source": [
    "scores(gen_data, 1)"
   ]
  },
  {
   "cell_type": "code",
   "execution_count": null,
   "id": "9WE1kzqiMFCr",
   "metadata": {
    "id": "9WE1kzqiMFCr"
   },
   "outputs": [],
   "source": [
    "def prediction(df, num_test):\n",
    "  predictions = []\n",
    "  #not for project personal\n",
    "  y_true= []\n",
    "  num_test = num_test\n",
    "  for i in range(num_test):\n",
    "      x_test, y_test = next(df)\n",
    "      while not 1 in y_test:\n",
    "          x_test, y_test = next(df)\n",
    "      predict = model.predict(x_test)\n",
    "      #personal use\n",
    "      y_true.append(y_test)\n",
    "      predictions.append(predict)\n",
    "  return predictions, y_true"
   ]
  },
  {
   "cell_type": "code",
   "execution_count": null,
   "id": "iko3aHqvMbWG",
   "metadata": {
    "id": "iko3aHqvMbWG"
   },
   "outputs": [],
   "source": [
    "pred, yy =prediction(gen_data, 1)"
   ]
  },
  {
   "cell_type": "code",
   "execution_count": null,
   "id": "J9SLX4AKNuSm",
   "metadata": {
    "id": "J9SLX4AKNuSm"
   },
   "outputs": [],
   "source": [
    "predictions=np.round(pred[0])"
   ]
  },
  {
   "cell_type": "code",
   "execution_count": null,
   "id": "0ABVVjykN2lb",
   "metadata": {
    "colab": {
     "base_uri": "https://localhost:8080/"
    },
    "id": "0ABVVjykN2lb",
    "outputId": "ecc8469a-b17b-405e-a249-39d26d367657"
   },
   "outputs": [
    {
     "data": {
      "text/plain": [
       "[array([[0., 0., 0., 0., 1., 0.]])]"
      ]
     },
     "execution_count": 182,
     "metadata": {
      "tags": []
     },
     "output_type": "execute_result"
    }
   ],
   "source": [
    "yy"
   ]
  },
  {
   "cell_type": "code",
   "execution_count": null,
   "id": "6uvr6OQ2B7aJ",
   "metadata": {
    "id": "6uvr6OQ2B7aJ"
   },
   "outputs": [],
   "source": [
    "y_true=np.asarray(y_test_test).flatten().reshape(5000,6)\n",
    "y_pred=prediction_.flatten().reshape(5000,6)"
   ]
  },
  {
   "cell_type": "code",
   "execution_count": null,
   "id": "tU5xKWaEGeqW",
   "metadata": {
    "colab": {
     "base_uri": "https://localhost:8080/",
     "height": 419
    },
    "id": "tU5xKWaEGeqW",
    "outputId": "e17672e7-a1d4-43df-eb84-3f28e882e77b"
   },
   "outputs": [
    {
     "data": {
      "text/html": [
       "<div>\n",
       "<style scoped>\n",
       "    .dataframe tbody tr th:only-of-type {\n",
       "        vertical-align: middle;\n",
       "    }\n",
       "\n",
       "    .dataframe tbody tr th {\n",
       "        vertical-align: top;\n",
       "    }\n",
       "\n",
       "    .dataframe thead th {\n",
       "        text-align: right;\n",
       "    }\n",
       "</style>\n",
       "<table border=\"1\" class=\"dataframe\">\n",
       "  <thead>\n",
       "    <tr style=\"text-align: right;\">\n",
       "      <th></th>\n",
       "      <th>0</th>\n",
       "      <th>1</th>\n",
       "      <th>2</th>\n",
       "      <th>3</th>\n",
       "      <th>4</th>\n",
       "      <th>5</th>\n",
       "    </tr>\n",
       "  </thead>\n",
       "  <tbody>\n",
       "    <tr>\n",
       "      <th>0</th>\n",
       "      <td>False</td>\n",
       "      <td>True</td>\n",
       "      <td>True</td>\n",
       "      <td>True</td>\n",
       "      <td>True</td>\n",
       "      <td>True</td>\n",
       "    </tr>\n",
       "    <tr>\n",
       "      <th>1</th>\n",
       "      <td>True</td>\n",
       "      <td>False</td>\n",
       "      <td>False</td>\n",
       "      <td>True</td>\n",
       "      <td>True</td>\n",
       "      <td>True</td>\n",
       "    </tr>\n",
       "    <tr>\n",
       "      <th>2</th>\n",
       "      <td>True</td>\n",
       "      <td>False</td>\n",
       "      <td>True</td>\n",
       "      <td>True</td>\n",
       "      <td>True</td>\n",
       "      <td>True</td>\n",
       "    </tr>\n",
       "    <tr>\n",
       "      <th>3</th>\n",
       "      <td>True</td>\n",
       "      <td>True</td>\n",
       "      <td>True</td>\n",
       "      <td>True</td>\n",
       "      <td>False</td>\n",
       "      <td>True</td>\n",
       "    </tr>\n",
       "    <tr>\n",
       "      <th>4</th>\n",
       "      <td>True</td>\n",
       "      <td>True</td>\n",
       "      <td>True</td>\n",
       "      <td>False</td>\n",
       "      <td>True</td>\n",
       "      <td>True</td>\n",
       "    </tr>\n",
       "    <tr>\n",
       "      <th>...</th>\n",
       "      <td>...</td>\n",
       "      <td>...</td>\n",
       "      <td>...</td>\n",
       "      <td>...</td>\n",
       "      <td>...</td>\n",
       "      <td>...</td>\n",
       "    </tr>\n",
       "    <tr>\n",
       "      <th>4995</th>\n",
       "      <td>False</td>\n",
       "      <td>True</td>\n",
       "      <td>True</td>\n",
       "      <td>True</td>\n",
       "      <td>True</td>\n",
       "      <td>True</td>\n",
       "    </tr>\n",
       "    <tr>\n",
       "      <th>4996</th>\n",
       "      <td>False</td>\n",
       "      <td>True</td>\n",
       "      <td>True</td>\n",
       "      <td>True</td>\n",
       "      <td>True</td>\n",
       "      <td>True</td>\n",
       "    </tr>\n",
       "    <tr>\n",
       "      <th>4997</th>\n",
       "      <td>True</td>\n",
       "      <td>True</td>\n",
       "      <td>True</td>\n",
       "      <td>True</td>\n",
       "      <td>False</td>\n",
       "      <td>True</td>\n",
       "    </tr>\n",
       "    <tr>\n",
       "      <th>4998</th>\n",
       "      <td>True</td>\n",
       "      <td>True</td>\n",
       "      <td>True</td>\n",
       "      <td>True</td>\n",
       "      <td>True</td>\n",
       "      <td>False</td>\n",
       "    </tr>\n",
       "    <tr>\n",
       "      <th>4999</th>\n",
       "      <td>True</td>\n",
       "      <td>True</td>\n",
       "      <td>True</td>\n",
       "      <td>True</td>\n",
       "      <td>True</td>\n",
       "      <td>True</td>\n",
       "    </tr>\n",
       "  </tbody>\n",
       "</table>\n",
       "<p>5000 rows × 6 columns</p>\n",
       "</div>"
      ],
      "text/plain": [
       "          0      1      2      3      4      5\n",
       "0     False   True   True   True   True   True\n",
       "1      True  False  False   True   True   True\n",
       "2      True  False   True   True   True   True\n",
       "3      True   True   True   True  False   True\n",
       "4      True   True   True  False   True   True\n",
       "...     ...    ...    ...    ...    ...    ...\n",
       "4995  False   True   True   True   True   True\n",
       "4996  False   True   True   True   True   True\n",
       "4997   True   True   True   True  False   True\n",
       "4998   True   True   True   True   True  False\n",
       "4999   True   True   True   True   True   True\n",
       "\n",
       "[5000 rows x 6 columns]"
      ]
     },
     "execution_count": 154,
     "metadata": {
      "tags": []
     },
     "output_type": "execute_result"
    }
   ],
   "source": [
    "pd.DataFrame(y_true) == pd.DataFrame(y_pred)"
   ]
  },
  {
   "cell_type": "code",
   "execution_count": null,
   "id": "aMNJ5Iz7-wgG",
   "metadata": {
    "id": "aMNJ5Iz7-wgG"
   },
   "outputs": [],
   "source": []
  },
  {
   "cell_type": "code",
   "execution_count": null,
   "id": "siK1lIWPxRUd",
   "metadata": {
    "id": "siK1lIWPxRUd"
   },
   "outputs": [],
   "source": [
    "l=[\"Handstart (HS)\",\"Grasping (GS)\",\"Lift (LT)\",\"Hold (HD)\",\"Replace (RP)\",\"Release (RL)\"]\n",
    "#multilabel_confusion_matrix(y_true,y_pred)"
   ]
  },
  {
   "cell_type": "code",
   "execution_count": null,
   "id": "KdeaVL4LtBNN",
   "metadata": {
    "colab": {
     "base_uri": "https://localhost:8080/"
    },
    "id": "KdeaVL4LtBNN",
    "outputId": "39a45878-08a5-47d1-b014-054158a85829"
   },
   "outputs": [
    {
     "name": "stdout",
     "output_type": "stream",
     "text": [
      "                precision    recall  f1-score   support\n",
      "\n",
      "Handstart (HS)       0.85      0.03      0.06      1121\n",
      " Grasping (GS)       0.78      0.29      0.42      1061\n",
      "     Lift (LT)       0.75      0.32      0.45      1081\n",
      "     Hold (HD)       0.75      0.23      0.35      1105\n",
      "  Replace (RP)       0.78      0.36      0.49      1167\n",
      "  Release (RL)       0.71      0.28      0.40      1103\n",
      "\n",
      "     micro avg       0.76      0.25      0.38      6638\n",
      "     macro avg       0.77      0.25      0.36      6638\n",
      "  weighted avg       0.77      0.25      0.36      6638\n",
      "   samples avg       0.24      0.24      0.23      6638\n",
      "\n"
     ]
    },
    {
     "name": "stderr",
     "output_type": "stream",
     "text": [
      "/usr/local/lib/python3.7/dist-packages/sklearn/metrics/_classification.py:1272: UndefinedMetricWarning: Precision and F-score are ill-defined and being set to 0.0 in samples with no predicted labels. Use `zero_division` parameter to control this behavior.\n",
      "  _warn_prf(average, modifier, msg_start, len(result))\n"
     ]
    }
   ],
   "source": [
    "print(classification_report(y_true, y_pred, target_names=l))"
   ]
  },
  {
   "cell_type": "code",
   "execution_count": null,
   "id": "rK24pqNpEY9R",
   "metadata": {
    "id": "rK24pqNpEY9R"
   },
   "outputs": [],
   "source": [
    "load = 1\n",
    "time_steps = 1000\n",
    "subsample = 50\n",
    "\n",
    "model = Sequential()\n",
    "\n",
    "model.add(Conv2D(filters = 64, kernel_size = (7,7), padding = \"same\", activation = \"relu\", input_shape = ((time_steps//subsample), 32, 1)))\n",
    "model.add(BatchNormalization())\n",
    "model.add(MaxPooling2D(pool_size = (5,5)))\n",
    "model.add(Conv2D(filters = 128, kernel_size = (5,5), padding = \"same\", activation = \"relu\", input_shape = ((time_steps//subsample), 32, 1)))\n",
    "model.add(BatchNormalization())\n",
    "model.add(MaxPooling2D(pool_size = (3,3)))\n",
    "model.add(Conv2D(filters = 256, kernel_size = (3,3), padding = \"same\", activation = \"relu\", input_shape = ((time_steps//subsample), 32, 1)))\n",
    "model.add(BatchNormalization())\n",
    "#model.add(MaxPooling2D(pool_size = (3,3)))\n",
    "\n",
    "model.add(Flatten())\n",
    "\n",
    "model.add(Dense(32, activation = \"relu\"))\n",
    "model.add(Dropout(0.25))\n",
    "\n",
    "model.add(Dense(16, activation = \"relu\"))\n",
    "model.add(BatchNormalization())\n",
    "model.add(Dropout(0.25))\n",
    "model.add(Dense(6, activation = \"sigmoid\"))\n",
    "\n",
    "\n",
    "adam = Adam(lr = 0.0001)\n",
    "\n",
    "model.compile(optimizer = adam, loss = \"categorical_crossentropy\", metrics = ['accuracy','mse'])\n",
    "\n",
    "model.summary()"
   ]
  },
  {
   "cell_type": "code",
   "execution_count": null,
   "id": "cardiac-grammar",
   "metadata": {},
   "outputs": [],
   "source": [
    "start=time.time()\n",
    "#es= EarlyStopping(patience=30, restore_best_weights = True)\n",
    "history =model.fit(gen, epochs = 100, steps_per_epoch = 2500, validation_data = valgen, validation_steps = 2500, verbose = 1)\n",
    "print('training time taken: ',round(time.time()-start,0),'seconds')"
   ]
  },
  {
   "cell_type": "code",
   "execution_count": null,
   "id": "everyday-stanley",
   "metadata": {},
   "outputs": [],
   "source": [
    "plt.figure(figsize = (16,4))\n",
    "ax1 = plt.subplot(1,3,1)\n",
    "ax1.plot(history.history['loss'], label = 'Test Loss')\n",
    "ax1.plot(history.history['val_loss'], label ='Val Loss')\n",
    "ax1.legend()\n",
    "ax1.set_title('Loss Curves')\n",
    "ax2 = plt.subplot(1,3,2)\n",
    "ax2.plot(history.history['accuracy'], label = 'Test Acc')\n",
    "ax2.plot(history.history['val_accuracy'], label ='Val Acc')\n",
    "ax2.set_title('Acccuracy Curves')\n",
    "ax2.legend()\n",
    "ax2 = plt.subplot(1,3,3)\n",
    "ax2.plot(history.history['mse'], label = 'Test mse')\n",
    "ax2.plot(history.history['val_mse'], label ='Val mse')\n",
    "ax2.set_title('Acccuracy Curves')\n",
    "ax2.legend()"
   ]
  },
  {
   "cell_type": "code",
   "execution_count": null,
   "id": "smart-popularity",
   "metadata": {},
   "outputs": [],
   "source": [
    "X_test_scaled = data_scaler_test(xtest)"
   ]
  },
  {
   "cell_type": "code",
   "execution_count": null,
   "id": "grave-component",
   "metadata": {},
   "outputs": [],
   "source": [
    "model.evaluate(X_test_scaled, ytest)"
   ]
  },
  {
   "cell_type": "code",
   "execution_count": null,
   "id": "protected-patient",
   "metadata": {},
   "outputs": [],
   "source": []
  }
 ],
 "metadata": {
  "accelerator": "GPU",
  "colab": {
   "collapsed_sections": [],
   "name": "Hand-Motions-second-draft.ipynb",
   "provenance": []
  },
  "kernelspec": {
   "display_name": "Python 3",
   "language": "python",
   "name": "python3"
  },
  "language_info": {
   "codemirror_mode": {
    "name": "ipython",
    "version": 3
   },
   "file_extension": ".py",
   "mimetype": "text/x-python",
   "name": "python",
   "nbconvert_exporter": "python",
   "pygments_lexer": "ipython3",
   "version": "3.8.6"
  },
  "toc": {
   "base_numbering": 1,
   "nav_menu": {},
   "number_sections": true,
   "sideBar": true,
   "skip_h1_title": false,
   "title_cell": "Table of Contents",
   "title_sidebar": "Contents",
   "toc_cell": false,
   "toc_position": {},
   "toc_section_display": true,
   "toc_window_display": false
  }
 },
 "nbformat": 4,
 "nbformat_minor": 5
}
