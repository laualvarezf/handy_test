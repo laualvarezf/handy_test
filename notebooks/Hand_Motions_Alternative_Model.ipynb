{
  "nbformat": 4,
  "nbformat_minor": 5,
  "metadata": {
    "kernelspec": {
      "display_name": "Python 3",
      "language": "python",
      "name": "python3"
    },
    "language_info": {
      "codemirror_mode": {
        "name": "ipython",
        "version": 3
      },
      "file_extension": ".py",
      "mimetype": "text/x-python",
      "name": "python",
      "nbconvert_exporter": "python",
      "pygments_lexer": "ipython3",
      "version": "3.8.6"
    },
    "toc": {
      "base_numbering": 1,
      "nav_menu": {},
      "number_sections": true,
      "sideBar": true,
      "skip_h1_title": false,
      "title_cell": "Table of Contents",
      "title_sidebar": "Contents",
      "toc_cell": false,
      "toc_position": {},
      "toc_section_display": true,
      "toc_window_display": false
    },
    "colab": {
      "name": "Hand_Motions_Alternative_Model.ipynb",
      "provenance": [],
      "collapsed_sections": []
    },
    "accelerator": "GPU"
  },
  "cells": [
    {
      "cell_type": "code",
      "metadata": {
        "colab": {
          "base_uri": "https://localhost:8080/"
        },
        "id": "VZUs7sJhLGcB",
        "outputId": "2650e100-0687-4421-a91b-e022646028ee"
      },
      "source": [
        "from google.colab import drive\n",
        "drive.mount('/content/drive/')"
      ],
      "id": "VZUs7sJhLGcB",
      "execution_count": null,
      "outputs": [
        {
          "output_type": "stream",
          "text": [
            "Drive already mounted at /content/drive/; to attempt to forcibly remount, call drive.mount(\"/content/drive/\", force_remount=True).\n"
          ],
          "name": "stdout"
        }
      ]
    },
    {
      "cell_type": "code",
      "metadata": {
        "id": "representative-mapping"
      },
      "source": [
        "import pandas as pd\n",
        "from glob import glob\n",
        "import numpy as np\n",
        "import os\n",
        "\n",
        "import pywt\n",
        "import matplotlib.pyplot as plt\n",
        "from sklearn.preprocessing import StandardScaler\n",
        "from google.cloud import storage\n",
        "from tensorflow.keras.models import Sequential\n",
        "from tensorflow.keras.layers import Dense, Dropout\n",
        "from tensorflow.keras.layers import Embedding\n",
        "from tensorflow.keras.layers import LSTM, BatchNormalization, Conv2D, Flatten, MaxPooling2D, Dropout\n",
        "from tensorflow.keras.optimizers import Adam\n",
        "from tensorflow.keras.callbacks import EarlyStopping\n",
        "from sklearn.metrics import roc_curve, auc, roc_auc_score\n",
        "from sklearn.metrics import multilabel_confusion_matrix, classification_report\n",
        "import time\n"
      ],
      "id": "representative-mapping",
      "execution_count": null,
      "outputs": []
    },
    {
      "cell_type": "markdown",
      "metadata": {
        "id": "fourth-milwaukee"
      },
      "source": [
        "## Functions to read data and load it"
      ],
      "id": "fourth-milwaukee"
    },
    {
      "cell_type": "code",
      "metadata": {
        "id": "typical-favorite"
      },
      "source": [
        "\n",
        "\n",
        "def prepare_data_train(fname):\n",
        "    \"\"\" read and prepare training data \"\"\"\n",
        "    # Read data\n",
        "    data = pd.read_csv(fname)\n",
        "    # events file\n",
        "    events_fname = fname.replace('_data','_events')\n",
        "    # read event file\n",
        "    labels= pd.read_csv(events_fname)\n",
        "    clean=data.drop(['id' ], axis=1)#remove id\n",
        "    labels=labels.drop(['id' ], axis=1)#remove id\n",
        "    return  clean,labels"
      ],
      "id": "typical-favorite",
      "execution_count": null,
      "outputs": []
    },
    {
      "cell_type": "code",
      "metadata": {
        "id": "processed-frame"
      },
      "source": [
        "def loading_one_subject(subject_number):\n",
        "    y_raw= []\n",
        "    raw = []\n",
        "    fnames =  sorted(glob('/content/drive/MyDrive/train/subj%d_series*_data.csv' % (subject_number)))\n",
        "    for fname in fnames:\n",
        "        data,labels=prepare_data_train(fname)\n",
        "        raw.append(data)\n",
        "        y_raw.append(labels)\n",
        "    X = pd.concat(raw).reset_index()\n",
        "    X.drop(columns=\"index\", inplace=True)\n",
        "    y = pd.concat(y_raw).reset_index()\n",
        "    y.drop(columns=\"index\", inplace=True)\n",
        "    return X, y"
      ],
      "id": "processed-frame",
      "execution_count": null,
      "outputs": []
    },
    {
      "cell_type": "code",
      "metadata": {
        "id": "level-gambling"
      },
      "source": [
        "\n",
        "X, y = loading_one_subject(4) "
      ],
      "id": "level-gambling",
      "execution_count": null,
      "outputs": []
    },
    {
      "cell_type": "code",
      "metadata": {
        "id": "stopped-intervention"
      },
      "source": [
        "y['movement_sum']  = y.sum(axis = 1)\n"
      ],
      "id": "stopped-intervention",
      "execution_count": null,
      "outputs": []
    },
    {
      "cell_type": "code",
      "metadata": {
        "id": "_m35NqOoyPEd"
      },
      "source": [
        "y['movement'] = y['movement_sum'].apply(lambda x: 1 if x > 0 else 0)"
      ],
      "id": "_m35NqOoyPEd",
      "execution_count": null,
      "outputs": []
    },
    {
      "cell_type": "code",
      "metadata": {
        "id": "E6DS0ZfkzXip"
      },
      "source": [
        "y = y['movement']"
      ],
      "id": "E6DS0ZfkzXip",
      "execution_count": null,
      "outputs": []
    },
    {
      "cell_type": "code",
      "metadata": {
        "id": "J51uPm6czmae"
      },
      "source": [
        "y_df= pd.DataFrame(y)"
      ],
      "id": "J51uPm6czmae",
      "execution_count": null,
      "outputs": []
    },
    {
      "cell_type": "code",
      "metadata": {
        "id": "FiI4qxzW9elg"
      },
      "source": [
        "df = pd.concat([X, y_df], axis= 1)"
      ],
      "id": "FiI4qxzW9elg",
      "execution_count": null,
      "outputs": []
    },
    {
      "cell_type": "code",
      "metadata": {
        "id": "FlQRM4XxCAH7"
      },
      "source": [
        "reduction=np.round(len(df[df['movement'] == 0]) * 0.33)"
      ],
      "id": "FlQRM4XxCAH7",
      "execution_count": null,
      "outputs": []
    },
    {
      "cell_type": "code",
      "metadata": {
        "colab": {
          "base_uri": "https://localhost:8080/",
          "height": 439
        },
        "id": "GE4YaG0RCQ50",
        "outputId": "1eed11de-4259-448f-f54b-71bbcba0f384"
      },
      "source": [
        "df"
      ],
      "id": "GE4YaG0RCQ50",
      "execution_count": null,
      "outputs": [
        {
          "output_type": "execute_result",
          "data": {
            "text/html": [
              "<div>\n",
              "<style scoped>\n",
              "    .dataframe tbody tr th:only-of-type {\n",
              "        vertical-align: middle;\n",
              "    }\n",
              "\n",
              "    .dataframe tbody tr th {\n",
              "        vertical-align: top;\n",
              "    }\n",
              "\n",
              "    .dataframe thead th {\n",
              "        text-align: right;\n",
              "    }\n",
              "</style>\n",
              "<table border=\"1\" class=\"dataframe\">\n",
              "  <thead>\n",
              "    <tr style=\"text-align: right;\">\n",
              "      <th></th>\n",
              "      <th>Fp1</th>\n",
              "      <th>Fp2</th>\n",
              "      <th>F7</th>\n",
              "      <th>F3</th>\n",
              "      <th>Fz</th>\n",
              "      <th>F4</th>\n",
              "      <th>F8</th>\n",
              "      <th>FC5</th>\n",
              "      <th>FC1</th>\n",
              "      <th>FC2</th>\n",
              "      <th>FC6</th>\n",
              "      <th>T7</th>\n",
              "      <th>C3</th>\n",
              "      <th>Cz</th>\n",
              "      <th>C4</th>\n",
              "      <th>T8</th>\n",
              "      <th>TP9</th>\n",
              "      <th>CP5</th>\n",
              "      <th>CP1</th>\n",
              "      <th>CP2</th>\n",
              "      <th>CP6</th>\n",
              "      <th>TP10</th>\n",
              "      <th>P7</th>\n",
              "      <th>P3</th>\n",
              "      <th>Pz</th>\n",
              "      <th>P4</th>\n",
              "      <th>P8</th>\n",
              "      <th>PO9</th>\n",
              "      <th>O1</th>\n",
              "      <th>Oz</th>\n",
              "      <th>O2</th>\n",
              "      <th>PO10</th>\n",
              "      <th>movement</th>\n",
              "    </tr>\n",
              "  </thead>\n",
              "  <tbody>\n",
              "    <tr>\n",
              "      <th>0</th>\n",
              "      <td>708</td>\n",
              "      <td>885</td>\n",
              "      <td>1053</td>\n",
              "      <td>592</td>\n",
              "      <td>327</td>\n",
              "      <td>637</td>\n",
              "      <td>738</td>\n",
              "      <td>906</td>\n",
              "      <td>51</td>\n",
              "      <td>495</td>\n",
              "      <td>475</td>\n",
              "      <td>971</td>\n",
              "      <td>677</td>\n",
              "      <td>608</td>\n",
              "      <td>207</td>\n",
              "      <td>966</td>\n",
              "      <td>1065</td>\n",
              "      <td>811</td>\n",
              "      <td>318</td>\n",
              "      <td>471</td>\n",
              "      <td>152</td>\n",
              "      <td>813</td>\n",
              "      <td>893</td>\n",
              "      <td>333</td>\n",
              "      <td>213</td>\n",
              "      <td>450</td>\n",
              "      <td>657</td>\n",
              "      <td>417</td>\n",
              "      <td>521</td>\n",
              "      <td>372</td>\n",
              "      <td>308</td>\n",
              "      <td>419</td>\n",
              "      <td>0</td>\n",
              "    </tr>\n",
              "    <tr>\n",
              "      <th>1</th>\n",
              "      <td>779</td>\n",
              "      <td>797</td>\n",
              "      <td>1061</td>\n",
              "      <td>538</td>\n",
              "      <td>364</td>\n",
              "      <td>716</td>\n",
              "      <td>736</td>\n",
              "      <td>930</td>\n",
              "      <td>60</td>\n",
              "      <td>513</td>\n",
              "      <td>479</td>\n",
              "      <td>1162</td>\n",
              "      <td>665</td>\n",
              "      <td>633</td>\n",
              "      <td>233</td>\n",
              "      <td>1034</td>\n",
              "      <td>1003</td>\n",
              "      <td>851</td>\n",
              "      <td>338</td>\n",
              "      <td>494</td>\n",
              "      <td>159</td>\n",
              "      <td>902</td>\n",
              "      <td>938</td>\n",
              "      <td>369</td>\n",
              "      <td>226</td>\n",
              "      <td>479</td>\n",
              "      <td>665</td>\n",
              "      <td>510</td>\n",
              "      <td>552</td>\n",
              "      <td>393</td>\n",
              "      <td>324</td>\n",
              "      <td>433</td>\n",
              "      <td>0</td>\n",
              "    </tr>\n",
              "    <tr>\n",
              "      <th>2</th>\n",
              "      <td>819</td>\n",
              "      <td>797</td>\n",
              "      <td>1131</td>\n",
              "      <td>559</td>\n",
              "      <td>346</td>\n",
              "      <td>685</td>\n",
              "      <td>730</td>\n",
              "      <td>710</td>\n",
              "      <td>53</td>\n",
              "      <td>499</td>\n",
              "      <td>460</td>\n",
              "      <td>1278</td>\n",
              "      <td>623</td>\n",
              "      <td>657</td>\n",
              "      <td>249</td>\n",
              "      <td>1010</td>\n",
              "      <td>1072</td>\n",
              "      <td>851</td>\n",
              "      <td>347</td>\n",
              "      <td>512</td>\n",
              "      <td>185</td>\n",
              "      <td>919</td>\n",
              "      <td>906</td>\n",
              "      <td>368</td>\n",
              "      <td>252</td>\n",
              "      <td>477</td>\n",
              "      <td>704</td>\n",
              "      <td>567</td>\n",
              "      <td>539</td>\n",
              "      <td>419</td>\n",
              "      <td>332</td>\n",
              "      <td>410</td>\n",
              "      <td>0</td>\n",
              "    </tr>\n",
              "    <tr>\n",
              "      <th>3</th>\n",
              "      <td>827</td>\n",
              "      <td>818</td>\n",
              "      <td>1138</td>\n",
              "      <td>507</td>\n",
              "      <td>285</td>\n",
              "      <td>620</td>\n",
              "      <td>747</td>\n",
              "      <td>732</td>\n",
              "      <td>23</td>\n",
              "      <td>468</td>\n",
              "      <td>441</td>\n",
              "      <td>1070</td>\n",
              "      <td>611</td>\n",
              "      <td>618</td>\n",
              "      <td>201</td>\n",
              "      <td>794</td>\n",
              "      <td>1065</td>\n",
              "      <td>819</td>\n",
              "      <td>316</td>\n",
              "      <td>470</td>\n",
              "      <td>134</td>\n",
              "      <td>735</td>\n",
              "      <td>846</td>\n",
              "      <td>305</td>\n",
              "      <td>192</td>\n",
              "      <td>449</td>\n",
              "      <td>695</td>\n",
              "      <td>505</td>\n",
              "      <td>503</td>\n",
              "      <td>368</td>\n",
              "      <td>284</td>\n",
              "      <td>382</td>\n",
              "      <td>0</td>\n",
              "    </tr>\n",
              "    <tr>\n",
              "      <th>4</th>\n",
              "      <td>851</td>\n",
              "      <td>875</td>\n",
              "      <td>1185</td>\n",
              "      <td>493</td>\n",
              "      <td>296</td>\n",
              "      <td>636</td>\n",
              "      <td>754</td>\n",
              "      <td>848</td>\n",
              "      <td>31</td>\n",
              "      <td>488</td>\n",
              "      <td>493</td>\n",
              "      <td>871</td>\n",
              "      <td>670</td>\n",
              "      <td>628</td>\n",
              "      <td>235</td>\n",
              "      <td>843</td>\n",
              "      <td>1030</td>\n",
              "      <td>834</td>\n",
              "      <td>342</td>\n",
              "      <td>485</td>\n",
              "      <td>171</td>\n",
              "      <td>701</td>\n",
              "      <td>869</td>\n",
              "      <td>332</td>\n",
              "      <td>216</td>\n",
              "      <td>467</td>\n",
              "      <td>693</td>\n",
              "      <td>531</td>\n",
              "      <td>540</td>\n",
              "      <td>383</td>\n",
              "      <td>290</td>\n",
              "      <td>385</td>\n",
              "      <td>0</td>\n",
              "    </tr>\n",
              "    <tr>\n",
              "      <th>...</th>\n",
              "      <td>...</td>\n",
              "      <td>...</td>\n",
              "      <td>...</td>\n",
              "      <td>...</td>\n",
              "      <td>...</td>\n",
              "      <td>...</td>\n",
              "      <td>...</td>\n",
              "      <td>...</td>\n",
              "      <td>...</td>\n",
              "      <td>...</td>\n",
              "      <td>...</td>\n",
              "      <td>...</td>\n",
              "      <td>...</td>\n",
              "      <td>...</td>\n",
              "      <td>...</td>\n",
              "      <td>...</td>\n",
              "      <td>...</td>\n",
              "      <td>...</td>\n",
              "      <td>...</td>\n",
              "      <td>...</td>\n",
              "      <td>...</td>\n",
              "      <td>...</td>\n",
              "      <td>...</td>\n",
              "      <td>...</td>\n",
              "      <td>...</td>\n",
              "      <td>...</td>\n",
              "      <td>...</td>\n",
              "      <td>...</td>\n",
              "      <td>...</td>\n",
              "      <td>...</td>\n",
              "      <td>...</td>\n",
              "      <td>...</td>\n",
              "      <td>...</td>\n",
              "    </tr>\n",
              "    <tr>\n",
              "      <th>1402519</th>\n",
              "      <td>325</td>\n",
              "      <td>44</td>\n",
              "      <td>425</td>\n",
              "      <td>3</td>\n",
              "      <td>161</td>\n",
              "      <td>370</td>\n",
              "      <td>-29</td>\n",
              "      <td>442</td>\n",
              "      <td>195</td>\n",
              "      <td>184</td>\n",
              "      <td>277</td>\n",
              "      <td>452</td>\n",
              "      <td>413</td>\n",
              "      <td>-80</td>\n",
              "      <td>135</td>\n",
              "      <td>156</td>\n",
              "      <td>387</td>\n",
              "      <td>283</td>\n",
              "      <td>172</td>\n",
              "      <td>-129</td>\n",
              "      <td>-16</td>\n",
              "      <td>564</td>\n",
              "      <td>393</td>\n",
              "      <td>364</td>\n",
              "      <td>111</td>\n",
              "      <td>257</td>\n",
              "      <td>84</td>\n",
              "      <td>94</td>\n",
              "      <td>308</td>\n",
              "      <td>44</td>\n",
              "      <td>155</td>\n",
              "      <td>112</td>\n",
              "      <td>0</td>\n",
              "    </tr>\n",
              "    <tr>\n",
              "      <th>1402520</th>\n",
              "      <td>220</td>\n",
              "      <td>-187</td>\n",
              "      <td>334</td>\n",
              "      <td>4</td>\n",
              "      <td>139</td>\n",
              "      <td>661</td>\n",
              "      <td>-203</td>\n",
              "      <td>329</td>\n",
              "      <td>172</td>\n",
              "      <td>218</td>\n",
              "      <td>336</td>\n",
              "      <td>286</td>\n",
              "      <td>414</td>\n",
              "      <td>-64</td>\n",
              "      <td>150</td>\n",
              "      <td>182</td>\n",
              "      <td>301</td>\n",
              "      <td>257</td>\n",
              "      <td>156</td>\n",
              "      <td>-127</td>\n",
              "      <td>-9</td>\n",
              "      <td>554</td>\n",
              "      <td>320</td>\n",
              "      <td>316</td>\n",
              "      <td>106</td>\n",
              "      <td>254</td>\n",
              "      <td>80</td>\n",
              "      <td>67</td>\n",
              "      <td>276</td>\n",
              "      <td>34</td>\n",
              "      <td>119</td>\n",
              "      <td>77</td>\n",
              "      <td>0</td>\n",
              "    </tr>\n",
              "    <tr>\n",
              "      <th>1402521</th>\n",
              "      <td>165</td>\n",
              "      <td>-117</td>\n",
              "      <td>335</td>\n",
              "      <td>8</td>\n",
              "      <td>161</td>\n",
              "      <td>502</td>\n",
              "      <td>-285</td>\n",
              "      <td>363</td>\n",
              "      <td>191</td>\n",
              "      <td>201</td>\n",
              "      <td>223</td>\n",
              "      <td>117</td>\n",
              "      <td>434</td>\n",
              "      <td>-64</td>\n",
              "      <td>146</td>\n",
              "      <td>131</td>\n",
              "      <td>324</td>\n",
              "      <td>279</td>\n",
              "      <td>178</td>\n",
              "      <td>-117</td>\n",
              "      <td>-13</td>\n",
              "      <td>553</td>\n",
              "      <td>393</td>\n",
              "      <td>356</td>\n",
              "      <td>119</td>\n",
              "      <td>237</td>\n",
              "      <td>71</td>\n",
              "      <td>42</td>\n",
              "      <td>280</td>\n",
              "      <td>34</td>\n",
              "      <td>139</td>\n",
              "      <td>130</td>\n",
              "      <td>0</td>\n",
              "    </tr>\n",
              "    <tr>\n",
              "      <th>1402522</th>\n",
              "      <td>122</td>\n",
              "      <td>-159</td>\n",
              "      <td>371</td>\n",
              "      <td>-37</td>\n",
              "      <td>158</td>\n",
              "      <td>491</td>\n",
              "      <td>-263</td>\n",
              "      <td>449</td>\n",
              "      <td>187</td>\n",
              "      <td>193</td>\n",
              "      <td>171</td>\n",
              "      <td>215</td>\n",
              "      <td>451</td>\n",
              "      <td>-58</td>\n",
              "      <td>140</td>\n",
              "      <td>187</td>\n",
              "      <td>383</td>\n",
              "      <td>309</td>\n",
              "      <td>189</td>\n",
              "      <td>-123</td>\n",
              "      <td>-18</td>\n",
              "      <td>509</td>\n",
              "      <td>447</td>\n",
              "      <td>376</td>\n",
              "      <td>128</td>\n",
              "      <td>234</td>\n",
              "      <td>12</td>\n",
              "      <td>29</td>\n",
              "      <td>299</td>\n",
              "      <td>38</td>\n",
              "      <td>134</td>\n",
              "      <td>226</td>\n",
              "      <td>0</td>\n",
              "    </tr>\n",
              "    <tr>\n",
              "      <th>1402523</th>\n",
              "      <td>217</td>\n",
              "      <td>-102</td>\n",
              "      <td>400</td>\n",
              "      <td>-81</td>\n",
              "      <td>148</td>\n",
              "      <td>496</td>\n",
              "      <td>-196</td>\n",
              "      <td>429</td>\n",
              "      <td>183</td>\n",
              "      <td>201</td>\n",
              "      <td>167</td>\n",
              "      <td>447</td>\n",
              "      <td>425</td>\n",
              "      <td>-26</td>\n",
              "      <td>142</td>\n",
              "      <td>427</td>\n",
              "      <td>431</td>\n",
              "      <td>350</td>\n",
              "      <td>197</td>\n",
              "      <td>-112</td>\n",
              "      <td>-38</td>\n",
              "      <td>619</td>\n",
              "      <td>411</td>\n",
              "      <td>398</td>\n",
              "      <td>147</td>\n",
              "      <td>244</td>\n",
              "      <td>-37</td>\n",
              "      <td>111</td>\n",
              "      <td>320</td>\n",
              "      <td>67</td>\n",
              "      <td>179</td>\n",
              "      <td>291</td>\n",
              "      <td>0</td>\n",
              "    </tr>\n",
              "  </tbody>\n",
              "</table>\n",
              "<p>1402524 rows × 33 columns</p>\n",
              "</div>"
            ],
            "text/plain": [
              "         Fp1  Fp2    F7   F3   Fz   F4  ...  PO9   O1   Oz   O2  PO10  movement\n",
              "0        708  885  1053  592  327  637  ...  417  521  372  308   419         0\n",
              "1        779  797  1061  538  364  716  ...  510  552  393  324   433         0\n",
              "2        819  797  1131  559  346  685  ...  567  539  419  332   410         0\n",
              "3        827  818  1138  507  285  620  ...  505  503  368  284   382         0\n",
              "4        851  875  1185  493  296  636  ...  531  540  383  290   385         0\n",
              "...      ...  ...   ...  ...  ...  ...  ...  ...  ...  ...  ...   ...       ...\n",
              "1402519  325   44   425    3  161  370  ...   94  308   44  155   112         0\n",
              "1402520  220 -187   334    4  139  661  ...   67  276   34  119    77         0\n",
              "1402521  165 -117   335    8  161  502  ...   42  280   34  139   130         0\n",
              "1402522  122 -159   371  -37  158  491  ...   29  299   38  134   226         0\n",
              "1402523  217 -102   400  -81  148  496  ...  111  320   67  179   291         0\n",
              "\n",
              "[1402524 rows x 33 columns]"
            ]
          },
          "metadata": {
            "tags": []
          },
          "execution_count": 16
        }
      ]
    },
    {
      "cell_type": "code",
      "metadata": {
        "colab": {
          "base_uri": "https://localhost:8080/",
          "height": 439
        },
        "id": "fTRHRyDF_Odw",
        "outputId": "1472412e-f311-40ff-840e-45ee01f3660f"
      },
      "source": [
        "df[df['movement'] == 0]"
      ],
      "id": "fTRHRyDF_Odw",
      "execution_count": null,
      "outputs": [
        {
          "output_type": "execute_result",
          "data": {
            "text/html": [
              "<div>\n",
              "<style scoped>\n",
              "    .dataframe tbody tr th:only-of-type {\n",
              "        vertical-align: middle;\n",
              "    }\n",
              "\n",
              "    .dataframe tbody tr th {\n",
              "        vertical-align: top;\n",
              "    }\n",
              "\n",
              "    .dataframe thead th {\n",
              "        text-align: right;\n",
              "    }\n",
              "</style>\n",
              "<table border=\"1\" class=\"dataframe\">\n",
              "  <thead>\n",
              "    <tr style=\"text-align: right;\">\n",
              "      <th></th>\n",
              "      <th>Fp1</th>\n",
              "      <th>Fp2</th>\n",
              "      <th>F7</th>\n",
              "      <th>F3</th>\n",
              "      <th>Fz</th>\n",
              "      <th>F4</th>\n",
              "      <th>F8</th>\n",
              "      <th>FC5</th>\n",
              "      <th>FC1</th>\n",
              "      <th>FC2</th>\n",
              "      <th>FC6</th>\n",
              "      <th>T7</th>\n",
              "      <th>C3</th>\n",
              "      <th>Cz</th>\n",
              "      <th>C4</th>\n",
              "      <th>T8</th>\n",
              "      <th>TP9</th>\n",
              "      <th>CP5</th>\n",
              "      <th>CP1</th>\n",
              "      <th>CP2</th>\n",
              "      <th>CP6</th>\n",
              "      <th>TP10</th>\n",
              "      <th>P7</th>\n",
              "      <th>P3</th>\n",
              "      <th>Pz</th>\n",
              "      <th>P4</th>\n",
              "      <th>P8</th>\n",
              "      <th>PO9</th>\n",
              "      <th>O1</th>\n",
              "      <th>Oz</th>\n",
              "      <th>O2</th>\n",
              "      <th>PO10</th>\n",
              "      <th>movement</th>\n",
              "    </tr>\n",
              "  </thead>\n",
              "  <tbody>\n",
              "    <tr>\n",
              "      <th>0</th>\n",
              "      <td>708</td>\n",
              "      <td>885</td>\n",
              "      <td>1053</td>\n",
              "      <td>592</td>\n",
              "      <td>327</td>\n",
              "      <td>637</td>\n",
              "      <td>738</td>\n",
              "      <td>906</td>\n",
              "      <td>51</td>\n",
              "      <td>495</td>\n",
              "      <td>475</td>\n",
              "      <td>971</td>\n",
              "      <td>677</td>\n",
              "      <td>608</td>\n",
              "      <td>207</td>\n",
              "      <td>966</td>\n",
              "      <td>1065</td>\n",
              "      <td>811</td>\n",
              "      <td>318</td>\n",
              "      <td>471</td>\n",
              "      <td>152</td>\n",
              "      <td>813</td>\n",
              "      <td>893</td>\n",
              "      <td>333</td>\n",
              "      <td>213</td>\n",
              "      <td>450</td>\n",
              "      <td>657</td>\n",
              "      <td>417</td>\n",
              "      <td>521</td>\n",
              "      <td>372</td>\n",
              "      <td>308</td>\n",
              "      <td>419</td>\n",
              "      <td>0</td>\n",
              "    </tr>\n",
              "    <tr>\n",
              "      <th>1</th>\n",
              "      <td>779</td>\n",
              "      <td>797</td>\n",
              "      <td>1061</td>\n",
              "      <td>538</td>\n",
              "      <td>364</td>\n",
              "      <td>716</td>\n",
              "      <td>736</td>\n",
              "      <td>930</td>\n",
              "      <td>60</td>\n",
              "      <td>513</td>\n",
              "      <td>479</td>\n",
              "      <td>1162</td>\n",
              "      <td>665</td>\n",
              "      <td>633</td>\n",
              "      <td>233</td>\n",
              "      <td>1034</td>\n",
              "      <td>1003</td>\n",
              "      <td>851</td>\n",
              "      <td>338</td>\n",
              "      <td>494</td>\n",
              "      <td>159</td>\n",
              "      <td>902</td>\n",
              "      <td>938</td>\n",
              "      <td>369</td>\n",
              "      <td>226</td>\n",
              "      <td>479</td>\n",
              "      <td>665</td>\n",
              "      <td>510</td>\n",
              "      <td>552</td>\n",
              "      <td>393</td>\n",
              "      <td>324</td>\n",
              "      <td>433</td>\n",
              "      <td>0</td>\n",
              "    </tr>\n",
              "    <tr>\n",
              "      <th>2</th>\n",
              "      <td>819</td>\n",
              "      <td>797</td>\n",
              "      <td>1131</td>\n",
              "      <td>559</td>\n",
              "      <td>346</td>\n",
              "      <td>685</td>\n",
              "      <td>730</td>\n",
              "      <td>710</td>\n",
              "      <td>53</td>\n",
              "      <td>499</td>\n",
              "      <td>460</td>\n",
              "      <td>1278</td>\n",
              "      <td>623</td>\n",
              "      <td>657</td>\n",
              "      <td>249</td>\n",
              "      <td>1010</td>\n",
              "      <td>1072</td>\n",
              "      <td>851</td>\n",
              "      <td>347</td>\n",
              "      <td>512</td>\n",
              "      <td>185</td>\n",
              "      <td>919</td>\n",
              "      <td>906</td>\n",
              "      <td>368</td>\n",
              "      <td>252</td>\n",
              "      <td>477</td>\n",
              "      <td>704</td>\n",
              "      <td>567</td>\n",
              "      <td>539</td>\n",
              "      <td>419</td>\n",
              "      <td>332</td>\n",
              "      <td>410</td>\n",
              "      <td>0</td>\n",
              "    </tr>\n",
              "    <tr>\n",
              "      <th>3</th>\n",
              "      <td>827</td>\n",
              "      <td>818</td>\n",
              "      <td>1138</td>\n",
              "      <td>507</td>\n",
              "      <td>285</td>\n",
              "      <td>620</td>\n",
              "      <td>747</td>\n",
              "      <td>732</td>\n",
              "      <td>23</td>\n",
              "      <td>468</td>\n",
              "      <td>441</td>\n",
              "      <td>1070</td>\n",
              "      <td>611</td>\n",
              "      <td>618</td>\n",
              "      <td>201</td>\n",
              "      <td>794</td>\n",
              "      <td>1065</td>\n",
              "      <td>819</td>\n",
              "      <td>316</td>\n",
              "      <td>470</td>\n",
              "      <td>134</td>\n",
              "      <td>735</td>\n",
              "      <td>846</td>\n",
              "      <td>305</td>\n",
              "      <td>192</td>\n",
              "      <td>449</td>\n",
              "      <td>695</td>\n",
              "      <td>505</td>\n",
              "      <td>503</td>\n",
              "      <td>368</td>\n",
              "      <td>284</td>\n",
              "      <td>382</td>\n",
              "      <td>0</td>\n",
              "    </tr>\n",
              "    <tr>\n",
              "      <th>4</th>\n",
              "      <td>851</td>\n",
              "      <td>875</td>\n",
              "      <td>1185</td>\n",
              "      <td>493</td>\n",
              "      <td>296</td>\n",
              "      <td>636</td>\n",
              "      <td>754</td>\n",
              "      <td>848</td>\n",
              "      <td>31</td>\n",
              "      <td>488</td>\n",
              "      <td>493</td>\n",
              "      <td>871</td>\n",
              "      <td>670</td>\n",
              "      <td>628</td>\n",
              "      <td>235</td>\n",
              "      <td>843</td>\n",
              "      <td>1030</td>\n",
              "      <td>834</td>\n",
              "      <td>342</td>\n",
              "      <td>485</td>\n",
              "      <td>171</td>\n",
              "      <td>701</td>\n",
              "      <td>869</td>\n",
              "      <td>332</td>\n",
              "      <td>216</td>\n",
              "      <td>467</td>\n",
              "      <td>693</td>\n",
              "      <td>531</td>\n",
              "      <td>540</td>\n",
              "      <td>383</td>\n",
              "      <td>290</td>\n",
              "      <td>385</td>\n",
              "      <td>0</td>\n",
              "    </tr>\n",
              "    <tr>\n",
              "      <th>...</th>\n",
              "      <td>...</td>\n",
              "      <td>...</td>\n",
              "      <td>...</td>\n",
              "      <td>...</td>\n",
              "      <td>...</td>\n",
              "      <td>...</td>\n",
              "      <td>...</td>\n",
              "      <td>...</td>\n",
              "      <td>...</td>\n",
              "      <td>...</td>\n",
              "      <td>...</td>\n",
              "      <td>...</td>\n",
              "      <td>...</td>\n",
              "      <td>...</td>\n",
              "      <td>...</td>\n",
              "      <td>...</td>\n",
              "      <td>...</td>\n",
              "      <td>...</td>\n",
              "      <td>...</td>\n",
              "      <td>...</td>\n",
              "      <td>...</td>\n",
              "      <td>...</td>\n",
              "      <td>...</td>\n",
              "      <td>...</td>\n",
              "      <td>...</td>\n",
              "      <td>...</td>\n",
              "      <td>...</td>\n",
              "      <td>...</td>\n",
              "      <td>...</td>\n",
              "      <td>...</td>\n",
              "      <td>...</td>\n",
              "      <td>...</td>\n",
              "      <td>...</td>\n",
              "    </tr>\n",
              "    <tr>\n",
              "      <th>1402519</th>\n",
              "      <td>325</td>\n",
              "      <td>44</td>\n",
              "      <td>425</td>\n",
              "      <td>3</td>\n",
              "      <td>161</td>\n",
              "      <td>370</td>\n",
              "      <td>-29</td>\n",
              "      <td>442</td>\n",
              "      <td>195</td>\n",
              "      <td>184</td>\n",
              "      <td>277</td>\n",
              "      <td>452</td>\n",
              "      <td>413</td>\n",
              "      <td>-80</td>\n",
              "      <td>135</td>\n",
              "      <td>156</td>\n",
              "      <td>387</td>\n",
              "      <td>283</td>\n",
              "      <td>172</td>\n",
              "      <td>-129</td>\n",
              "      <td>-16</td>\n",
              "      <td>564</td>\n",
              "      <td>393</td>\n",
              "      <td>364</td>\n",
              "      <td>111</td>\n",
              "      <td>257</td>\n",
              "      <td>84</td>\n",
              "      <td>94</td>\n",
              "      <td>308</td>\n",
              "      <td>44</td>\n",
              "      <td>155</td>\n",
              "      <td>112</td>\n",
              "      <td>0</td>\n",
              "    </tr>\n",
              "    <tr>\n",
              "      <th>1402520</th>\n",
              "      <td>220</td>\n",
              "      <td>-187</td>\n",
              "      <td>334</td>\n",
              "      <td>4</td>\n",
              "      <td>139</td>\n",
              "      <td>661</td>\n",
              "      <td>-203</td>\n",
              "      <td>329</td>\n",
              "      <td>172</td>\n",
              "      <td>218</td>\n",
              "      <td>336</td>\n",
              "      <td>286</td>\n",
              "      <td>414</td>\n",
              "      <td>-64</td>\n",
              "      <td>150</td>\n",
              "      <td>182</td>\n",
              "      <td>301</td>\n",
              "      <td>257</td>\n",
              "      <td>156</td>\n",
              "      <td>-127</td>\n",
              "      <td>-9</td>\n",
              "      <td>554</td>\n",
              "      <td>320</td>\n",
              "      <td>316</td>\n",
              "      <td>106</td>\n",
              "      <td>254</td>\n",
              "      <td>80</td>\n",
              "      <td>67</td>\n",
              "      <td>276</td>\n",
              "      <td>34</td>\n",
              "      <td>119</td>\n",
              "      <td>77</td>\n",
              "      <td>0</td>\n",
              "    </tr>\n",
              "    <tr>\n",
              "      <th>1402521</th>\n",
              "      <td>165</td>\n",
              "      <td>-117</td>\n",
              "      <td>335</td>\n",
              "      <td>8</td>\n",
              "      <td>161</td>\n",
              "      <td>502</td>\n",
              "      <td>-285</td>\n",
              "      <td>363</td>\n",
              "      <td>191</td>\n",
              "      <td>201</td>\n",
              "      <td>223</td>\n",
              "      <td>117</td>\n",
              "      <td>434</td>\n",
              "      <td>-64</td>\n",
              "      <td>146</td>\n",
              "      <td>131</td>\n",
              "      <td>324</td>\n",
              "      <td>279</td>\n",
              "      <td>178</td>\n",
              "      <td>-117</td>\n",
              "      <td>-13</td>\n",
              "      <td>553</td>\n",
              "      <td>393</td>\n",
              "      <td>356</td>\n",
              "      <td>119</td>\n",
              "      <td>237</td>\n",
              "      <td>71</td>\n",
              "      <td>42</td>\n",
              "      <td>280</td>\n",
              "      <td>34</td>\n",
              "      <td>139</td>\n",
              "      <td>130</td>\n",
              "      <td>0</td>\n",
              "    </tr>\n",
              "    <tr>\n",
              "      <th>1402522</th>\n",
              "      <td>122</td>\n",
              "      <td>-159</td>\n",
              "      <td>371</td>\n",
              "      <td>-37</td>\n",
              "      <td>158</td>\n",
              "      <td>491</td>\n",
              "      <td>-263</td>\n",
              "      <td>449</td>\n",
              "      <td>187</td>\n",
              "      <td>193</td>\n",
              "      <td>171</td>\n",
              "      <td>215</td>\n",
              "      <td>451</td>\n",
              "      <td>-58</td>\n",
              "      <td>140</td>\n",
              "      <td>187</td>\n",
              "      <td>383</td>\n",
              "      <td>309</td>\n",
              "      <td>189</td>\n",
              "      <td>-123</td>\n",
              "      <td>-18</td>\n",
              "      <td>509</td>\n",
              "      <td>447</td>\n",
              "      <td>376</td>\n",
              "      <td>128</td>\n",
              "      <td>234</td>\n",
              "      <td>12</td>\n",
              "      <td>29</td>\n",
              "      <td>299</td>\n",
              "      <td>38</td>\n",
              "      <td>134</td>\n",
              "      <td>226</td>\n",
              "      <td>0</td>\n",
              "    </tr>\n",
              "    <tr>\n",
              "      <th>1402523</th>\n",
              "      <td>217</td>\n",
              "      <td>-102</td>\n",
              "      <td>400</td>\n",
              "      <td>-81</td>\n",
              "      <td>148</td>\n",
              "      <td>496</td>\n",
              "      <td>-196</td>\n",
              "      <td>429</td>\n",
              "      <td>183</td>\n",
              "      <td>201</td>\n",
              "      <td>167</td>\n",
              "      <td>447</td>\n",
              "      <td>425</td>\n",
              "      <td>-26</td>\n",
              "      <td>142</td>\n",
              "      <td>427</td>\n",
              "      <td>431</td>\n",
              "      <td>350</td>\n",
              "      <td>197</td>\n",
              "      <td>-112</td>\n",
              "      <td>-38</td>\n",
              "      <td>619</td>\n",
              "      <td>411</td>\n",
              "      <td>398</td>\n",
              "      <td>147</td>\n",
              "      <td>244</td>\n",
              "      <td>-37</td>\n",
              "      <td>111</td>\n",
              "      <td>320</td>\n",
              "      <td>67</td>\n",
              "      <td>179</td>\n",
              "      <td>291</td>\n",
              "      <td>0</td>\n",
              "    </tr>\n",
              "  </tbody>\n",
              "</table>\n",
              "<p>1220995 rows × 33 columns</p>\n",
              "</div>"
            ],
            "text/plain": [
              "         Fp1  Fp2    F7   F3   Fz   F4  ...  PO9   O1   Oz   O2  PO10  movement\n",
              "0        708  885  1053  592  327  637  ...  417  521  372  308   419         0\n",
              "1        779  797  1061  538  364  716  ...  510  552  393  324   433         0\n",
              "2        819  797  1131  559  346  685  ...  567  539  419  332   410         0\n",
              "3        827  818  1138  507  285  620  ...  505  503  368  284   382         0\n",
              "4        851  875  1185  493  296  636  ...  531  540  383  290   385         0\n",
              "...      ...  ...   ...  ...  ...  ...  ...  ...  ...  ...  ...   ...       ...\n",
              "1402519  325   44   425    3  161  370  ...   94  308   44  155   112         0\n",
              "1402520  220 -187   334    4  139  661  ...   67  276   34  119    77         0\n",
              "1402521  165 -117   335    8  161  502  ...   42  280   34  139   130         0\n",
              "1402522  122 -159   371  -37  158  491  ...   29  299   38  134   226         0\n",
              "1402523  217 -102   400  -81  148  496  ...  111  320   67  179   291         0\n",
              "\n",
              "[1220995 rows x 33 columns]"
            ]
          },
          "metadata": {
            "tags": []
          },
          "execution_count": 19
        }
      ]
    },
    {
      "cell_type": "code",
      "metadata": {
        "colab": {
          "base_uri": "https://localhost:8080/"
        },
        "id": "e9SH4eXvDWeE",
        "outputId": "40edc4b6-c691-4bfd-b373-ae9771bf8f64"
      },
      "source": [
        "1220995-181529 "
      ],
      "id": "e9SH4eXvDWeE",
      "execution_count": null,
      "outputs": [
        {
          "output_type": "execute_result",
          "data": {
            "text/plain": [
              "1039466"
            ]
          },
          "metadata": {
            "tags": []
          },
          "execution_count": 20
        }
      ]
    },
    {
      "cell_type": "code",
      "metadata": {
        "colab": {
          "base_uri": "https://localhost:8080/",
          "height": 198
        },
        "id": "xNqM1K9S-5TX",
        "outputId": "b52565a6-4831-49db-d831-29780c5eeff7"
      },
      "source": [
        "drop_indices = np.random.choice(df[df['movement'] == 0].index, size=(857937), replace=False)\n",
        "df_subset = df.drop(drop_indices)"
      ],
      "id": "xNqM1K9S-5TX",
      "execution_count": null,
      "outputs": [
        {
          "output_type": "error",
          "ename": "NameError",
          "evalue": "ignored",
          "traceback": [
            "\u001b[0;31m---------------------------------------------------------------------------\u001b[0m",
            "\u001b[0;31mNameError\u001b[0m                                 Traceback (most recent call last)",
            "\u001b[0;32m<ipython-input-6-2c5803c42837>\u001b[0m in \u001b[0;36m<module>\u001b[0;34m()\u001b[0m\n\u001b[0;32m----> 1\u001b[0;31m \u001b[0mdrop_indices\u001b[0m \u001b[0;34m=\u001b[0m \u001b[0mnp\u001b[0m\u001b[0;34m.\u001b[0m\u001b[0mrandom\u001b[0m\u001b[0;34m.\u001b[0m\u001b[0mchoice\u001b[0m\u001b[0;34m(\u001b[0m\u001b[0mdf\u001b[0m\u001b[0;34m[\u001b[0m\u001b[0mdf\u001b[0m\u001b[0;34m[\u001b[0m\u001b[0;34m'movement'\u001b[0m\u001b[0;34m]\u001b[0m \u001b[0;34m==\u001b[0m \u001b[0;36m0\u001b[0m\u001b[0;34m]\u001b[0m\u001b[0;34m.\u001b[0m\u001b[0mindex\u001b[0m\u001b[0;34m,\u001b[0m \u001b[0msize\u001b[0m\u001b[0;34m=\u001b[0m\u001b[0;34m(\u001b[0m\u001b[0;36m857937\u001b[0m\u001b[0;34m)\u001b[0m\u001b[0;34m,\u001b[0m \u001b[0mreplace\u001b[0m\u001b[0;34m=\u001b[0m\u001b[0;32mFalse\u001b[0m\u001b[0;34m)\u001b[0m\u001b[0;34m\u001b[0m\u001b[0;34m\u001b[0m\u001b[0m\n\u001b[0m\u001b[1;32m      2\u001b[0m \u001b[0mdf_subset\u001b[0m \u001b[0;34m=\u001b[0m \u001b[0mdf\u001b[0m\u001b[0;34m.\u001b[0m\u001b[0mdrop\u001b[0m\u001b[0;34m(\u001b[0m\u001b[0mdrop_indices\u001b[0m\u001b[0;34m)\u001b[0m\u001b[0;34m\u001b[0m\u001b[0;34m\u001b[0m\u001b[0m\n",
            "\u001b[0;31mNameError\u001b[0m: name 'df' is not defined"
          ]
        }
      ]
    },
    {
      "cell_type": "code",
      "metadata": {
        "colab": {
          "base_uri": "https://localhost:8080/",
          "height": 439
        },
        "id": "ohQ4tQkTASQe",
        "outputId": "036b4833-7bef-4bc8-8b4f-d00a6a11b195"
      },
      "source": [
        "X=df_subset.drop(columns='movement').reset_index()\n",
        "X= X.drop(columns='index')\n",
        "X"
      ],
      "id": "ohQ4tQkTASQe",
      "execution_count": null,
      "outputs": [
        {
          "output_type": "execute_result",
          "data": {
            "text/html": [
              "<div>\n",
              "<style scoped>\n",
              "    .dataframe tbody tr th:only-of-type {\n",
              "        vertical-align: middle;\n",
              "    }\n",
              "\n",
              "    .dataframe tbody tr th {\n",
              "        vertical-align: top;\n",
              "    }\n",
              "\n",
              "    .dataframe thead th {\n",
              "        text-align: right;\n",
              "    }\n",
              "</style>\n",
              "<table border=\"1\" class=\"dataframe\">\n",
              "  <thead>\n",
              "    <tr style=\"text-align: right;\">\n",
              "      <th></th>\n",
              "      <th>Fp1</th>\n",
              "      <th>Fp2</th>\n",
              "      <th>F7</th>\n",
              "      <th>F3</th>\n",
              "      <th>Fz</th>\n",
              "      <th>F4</th>\n",
              "      <th>F8</th>\n",
              "      <th>FC5</th>\n",
              "      <th>FC1</th>\n",
              "      <th>FC2</th>\n",
              "      <th>FC6</th>\n",
              "      <th>T7</th>\n",
              "      <th>C3</th>\n",
              "      <th>Cz</th>\n",
              "      <th>C4</th>\n",
              "      <th>T8</th>\n",
              "      <th>TP9</th>\n",
              "      <th>CP5</th>\n",
              "      <th>CP1</th>\n",
              "      <th>CP2</th>\n",
              "      <th>CP6</th>\n",
              "      <th>TP10</th>\n",
              "      <th>P7</th>\n",
              "      <th>P3</th>\n",
              "      <th>Pz</th>\n",
              "      <th>P4</th>\n",
              "      <th>P8</th>\n",
              "      <th>PO9</th>\n",
              "      <th>O1</th>\n",
              "      <th>Oz</th>\n",
              "      <th>O2</th>\n",
              "      <th>PO10</th>\n",
              "    </tr>\n",
              "  </thead>\n",
              "  <tbody>\n",
              "    <tr>\n",
              "      <th>0</th>\n",
              "      <td>829</td>\n",
              "      <td>946</td>\n",
              "      <td>1244</td>\n",
              "      <td>491</td>\n",
              "      <td>309</td>\n",
              "      <td>669</td>\n",
              "      <td>709</td>\n",
              "      <td>813</td>\n",
              "      <td>44</td>\n",
              "      <td>514</td>\n",
              "      <td>563</td>\n",
              "      <td>855</td>\n",
              "      <td>698</td>\n",
              "      <td>675</td>\n",
              "      <td>357</td>\n",
              "      <td>979</td>\n",
              "      <td>1089</td>\n",
              "      <td>837</td>\n",
              "      <td>399</td>\n",
              "      <td>653</td>\n",
              "      <td>414</td>\n",
              "      <td>961</td>\n",
              "      <td>886</td>\n",
              "      <td>417</td>\n",
              "      <td>406</td>\n",
              "      <td>697</td>\n",
              "      <td>915</td>\n",
              "      <td>418</td>\n",
              "      <td>546</td>\n",
              "      <td>455</td>\n",
              "      <td>457</td>\n",
              "      <td>560</td>\n",
              "    </tr>\n",
              "    <tr>\n",
              "      <th>1</th>\n",
              "      <td>820</td>\n",
              "      <td>852</td>\n",
              "      <td>1337</td>\n",
              "      <td>552</td>\n",
              "      <td>334</td>\n",
              "      <td>698</td>\n",
              "      <td>728</td>\n",
              "      <td>799</td>\n",
              "      <td>104</td>\n",
              "      <td>498</td>\n",
              "      <td>547</td>\n",
              "      <td>1297</td>\n",
              "      <td>760</td>\n",
              "      <td>660</td>\n",
              "      <td>315</td>\n",
              "      <td>1076</td>\n",
              "      <td>1229</td>\n",
              "      <td>978</td>\n",
              "      <td>448</td>\n",
              "      <td>629</td>\n",
              "      <td>355</td>\n",
              "      <td>968</td>\n",
              "      <td>1033</td>\n",
              "      <td>505</td>\n",
              "      <td>349</td>\n",
              "      <td>665</td>\n",
              "      <td>888</td>\n",
              "      <td>655</td>\n",
              "      <td>658</td>\n",
              "      <td>470</td>\n",
              "      <td>438</td>\n",
              "      <td>555</td>\n",
              "    </tr>\n",
              "    <tr>\n",
              "      <th>2</th>\n",
              "      <td>869</td>\n",
              "      <td>910</td>\n",
              "      <td>1342</td>\n",
              "      <td>514</td>\n",
              "      <td>314</td>\n",
              "      <td>668</td>\n",
              "      <td>699</td>\n",
              "      <td>559</td>\n",
              "      <td>87</td>\n",
              "      <td>501</td>\n",
              "      <td>548</td>\n",
              "      <td>1277</td>\n",
              "      <td>746</td>\n",
              "      <td>671</td>\n",
              "      <td>295</td>\n",
              "      <td>1074</td>\n",
              "      <td>1258</td>\n",
              "      <td>1022</td>\n",
              "      <td>456</td>\n",
              "      <td>593</td>\n",
              "      <td>353</td>\n",
              "      <td>976</td>\n",
              "      <td>955</td>\n",
              "      <td>514</td>\n",
              "      <td>360</td>\n",
              "      <td>670</td>\n",
              "      <td>934</td>\n",
              "      <td>773</td>\n",
              "      <td>667</td>\n",
              "      <td>481</td>\n",
              "      <td>481</td>\n",
              "      <td>462</td>\n",
              "    </tr>\n",
              "    <tr>\n",
              "      <th>3</th>\n",
              "      <td>742</td>\n",
              "      <td>861</td>\n",
              "      <td>1240</td>\n",
              "      <td>478</td>\n",
              "      <td>306</td>\n",
              "      <td>652</td>\n",
              "      <td>652</td>\n",
              "      <td>842</td>\n",
              "      <td>37</td>\n",
              "      <td>498</td>\n",
              "      <td>554</td>\n",
              "      <td>1245</td>\n",
              "      <td>679</td>\n",
              "      <td>669</td>\n",
              "      <td>266</td>\n",
              "      <td>1101</td>\n",
              "      <td>1297</td>\n",
              "      <td>893</td>\n",
              "      <td>453</td>\n",
              "      <td>599</td>\n",
              "      <td>368</td>\n",
              "      <td>1026</td>\n",
              "      <td>1036</td>\n",
              "      <td>491</td>\n",
              "      <td>408</td>\n",
              "      <td>701</td>\n",
              "      <td>981</td>\n",
              "      <td>693</td>\n",
              "      <td>676</td>\n",
              "      <td>494</td>\n",
              "      <td>502</td>\n",
              "      <td>558</td>\n",
              "    </tr>\n",
              "    <tr>\n",
              "      <th>4</th>\n",
              "      <td>510</td>\n",
              "      <td>828</td>\n",
              "      <td>965</td>\n",
              "      <td>581</td>\n",
              "      <td>328</td>\n",
              "      <td>718</td>\n",
              "      <td>839</td>\n",
              "      <td>817</td>\n",
              "      <td>63</td>\n",
              "      <td>509</td>\n",
              "      <td>619</td>\n",
              "      <td>1016</td>\n",
              "      <td>698</td>\n",
              "      <td>691</td>\n",
              "      <td>335</td>\n",
              "      <td>1204</td>\n",
              "      <td>1137</td>\n",
              "      <td>889</td>\n",
              "      <td>434</td>\n",
              "      <td>675</td>\n",
              "      <td>448</td>\n",
              "      <td>1058</td>\n",
              "      <td>942</td>\n",
              "      <td>443</td>\n",
              "      <td>423</td>\n",
              "      <td>753</td>\n",
              "      <td>1040</td>\n",
              "      <td>532</td>\n",
              "      <td>638</td>\n",
              "      <td>550</td>\n",
              "      <td>546</td>\n",
              "      <td>391</td>\n",
              "    </tr>\n",
              "    <tr>\n",
              "      <th>...</th>\n",
              "      <td>...</td>\n",
              "      <td>...</td>\n",
              "      <td>...</td>\n",
              "      <td>...</td>\n",
              "      <td>...</td>\n",
              "      <td>...</td>\n",
              "      <td>...</td>\n",
              "      <td>...</td>\n",
              "      <td>...</td>\n",
              "      <td>...</td>\n",
              "      <td>...</td>\n",
              "      <td>...</td>\n",
              "      <td>...</td>\n",
              "      <td>...</td>\n",
              "      <td>...</td>\n",
              "      <td>...</td>\n",
              "      <td>...</td>\n",
              "      <td>...</td>\n",
              "      <td>...</td>\n",
              "      <td>...</td>\n",
              "      <td>...</td>\n",
              "      <td>...</td>\n",
              "      <td>...</td>\n",
              "      <td>...</td>\n",
              "      <td>...</td>\n",
              "      <td>...</td>\n",
              "      <td>...</td>\n",
              "      <td>...</td>\n",
              "      <td>...</td>\n",
              "      <td>...</td>\n",
              "      <td>...</td>\n",
              "      <td>...</td>\n",
              "    </tr>\n",
              "    <tr>\n",
              "      <th>363053</th>\n",
              "      <td>129</td>\n",
              "      <td>-213</td>\n",
              "      <td>280</td>\n",
              "      <td>70</td>\n",
              "      <td>180</td>\n",
              "      <td>555</td>\n",
              "      <td>-117</td>\n",
              "      <td>447</td>\n",
              "      <td>211</td>\n",
              "      <td>175</td>\n",
              "      <td>115</td>\n",
              "      <td>121</td>\n",
              "      <td>460</td>\n",
              "      <td>-94</td>\n",
              "      <td>57</td>\n",
              "      <td>181</td>\n",
              "      <td>279</td>\n",
              "      <td>273</td>\n",
              "      <td>120</td>\n",
              "      <td>-197</td>\n",
              "      <td>-95</td>\n",
              "      <td>484</td>\n",
              "      <td>364</td>\n",
              "      <td>305</td>\n",
              "      <td>82</td>\n",
              "      <td>183</td>\n",
              "      <td>9</td>\n",
              "      <td>-49</td>\n",
              "      <td>244</td>\n",
              "      <td>19</td>\n",
              "      <td>128</td>\n",
              "      <td>164</td>\n",
              "    </tr>\n",
              "    <tr>\n",
              "      <th>363054</th>\n",
              "      <td>144</td>\n",
              "      <td>-240</td>\n",
              "      <td>138</td>\n",
              "      <td>47</td>\n",
              "      <td>157</td>\n",
              "      <td>652</td>\n",
              "      <td>-384</td>\n",
              "      <td>429</td>\n",
              "      <td>209</td>\n",
              "      <td>182</td>\n",
              "      <td>158</td>\n",
              "      <td>303</td>\n",
              "      <td>407</td>\n",
              "      <td>-110</td>\n",
              "      <td>67</td>\n",
              "      <td>333</td>\n",
              "      <td>208</td>\n",
              "      <td>250</td>\n",
              "      <td>95</td>\n",
              "      <td>-223</td>\n",
              "      <td>-91</td>\n",
              "      <td>527</td>\n",
              "      <td>332</td>\n",
              "      <td>290</td>\n",
              "      <td>58</td>\n",
              "      <td>160</td>\n",
              "      <td>-64</td>\n",
              "      <td>-112</td>\n",
              "      <td>199</td>\n",
              "      <td>-19</td>\n",
              "      <td>59</td>\n",
              "      <td>115</td>\n",
              "    </tr>\n",
              "    <tr>\n",
              "      <th>363055</th>\n",
              "      <td>454</td>\n",
              "      <td>297</td>\n",
              "      <td>631</td>\n",
              "      <td>-226</td>\n",
              "      <td>161</td>\n",
              "      <td>191</td>\n",
              "      <td>242</td>\n",
              "      <td>404</td>\n",
              "      <td>177</td>\n",
              "      <td>196</td>\n",
              "      <td>184</td>\n",
              "      <td>419</td>\n",
              "      <td>303</td>\n",
              "      <td>-98</td>\n",
              "      <td>164</td>\n",
              "      <td>114</td>\n",
              "      <td>321</td>\n",
              "      <td>206</td>\n",
              "      <td>85</td>\n",
              "      <td>-116</td>\n",
              "      <td>10</td>\n",
              "      <td>600</td>\n",
              "      <td>343</td>\n",
              "      <td>310</td>\n",
              "      <td>144</td>\n",
              "      <td>262</td>\n",
              "      <td>61</td>\n",
              "      <td>161</td>\n",
              "      <td>310</td>\n",
              "      <td>42</td>\n",
              "      <td>168</td>\n",
              "      <td>252</td>\n",
              "    </tr>\n",
              "    <tr>\n",
              "      <th>363056</th>\n",
              "      <td>223</td>\n",
              "      <td>147</td>\n",
              "      <td>465</td>\n",
              "      <td>27</td>\n",
              "      <td>141</td>\n",
              "      <td>206</td>\n",
              "      <td>122</td>\n",
              "      <td>510</td>\n",
              "      <td>214</td>\n",
              "      <td>175</td>\n",
              "      <td>190</td>\n",
              "      <td>503</td>\n",
              "      <td>460</td>\n",
              "      <td>-66</td>\n",
              "      <td>111</td>\n",
              "      <td>118</td>\n",
              "      <td>273</td>\n",
              "      <td>339</td>\n",
              "      <td>193</td>\n",
              "      <td>-154</td>\n",
              "      <td>2</td>\n",
              "      <td>600</td>\n",
              "      <td>431</td>\n",
              "      <td>396</td>\n",
              "      <td>153</td>\n",
              "      <td>276</td>\n",
              "      <td>137</td>\n",
              "      <td>48</td>\n",
              "      <td>325</td>\n",
              "      <td>65</td>\n",
              "      <td>179</td>\n",
              "      <td>39</td>\n",
              "    </tr>\n",
              "    <tr>\n",
              "      <th>363057</th>\n",
              "      <td>390</td>\n",
              "      <td>130</td>\n",
              "      <td>463</td>\n",
              "      <td>-71</td>\n",
              "      <td>152</td>\n",
              "      <td>279</td>\n",
              "      <td>89</td>\n",
              "      <td>490</td>\n",
              "      <td>191</td>\n",
              "      <td>176</td>\n",
              "      <td>199</td>\n",
              "      <td>535</td>\n",
              "      <td>423</td>\n",
              "      <td>-79</td>\n",
              "      <td>132</td>\n",
              "      <td>132</td>\n",
              "      <td>377</td>\n",
              "      <td>335</td>\n",
              "      <td>183</td>\n",
              "      <td>-150</td>\n",
              "      <td>-17</td>\n",
              "      <td>589</td>\n",
              "      <td>466</td>\n",
              "      <td>390</td>\n",
              "      <td>141</td>\n",
              "      <td>267</td>\n",
              "      <td>148</td>\n",
              "      <td>87</td>\n",
              "      <td>307</td>\n",
              "      <td>58</td>\n",
              "      <td>164</td>\n",
              "      <td>84</td>\n",
              "    </tr>\n",
              "  </tbody>\n",
              "</table>\n",
              "<p>363058 rows × 32 columns</p>\n",
              "</div>"
            ],
            "text/plain": [
              "        Fp1  Fp2    F7   F3   Fz   F4   F8  ...   P4    P8  PO9   O1   Oz   O2  PO10\n",
              "0       829  946  1244  491  309  669  709  ...  697   915  418  546  455  457   560\n",
              "1       820  852  1337  552  334  698  728  ...  665   888  655  658  470  438   555\n",
              "2       869  910  1342  514  314  668  699  ...  670   934  773  667  481  481   462\n",
              "3       742  861  1240  478  306  652  652  ...  701   981  693  676  494  502   558\n",
              "4       510  828   965  581  328  718  839  ...  753  1040  532  638  550  546   391\n",
              "...     ...  ...   ...  ...  ...  ...  ...  ...  ...   ...  ...  ...  ...  ...   ...\n",
              "363053  129 -213   280   70  180  555 -117  ...  183     9  -49  244   19  128   164\n",
              "363054  144 -240   138   47  157  652 -384  ...  160   -64 -112  199  -19   59   115\n",
              "363055  454  297   631 -226  161  191  242  ...  262    61  161  310   42  168   252\n",
              "363056  223  147   465   27  141  206  122  ...  276   137   48  325   65  179    39\n",
              "363057  390  130   463  -71  152  279   89  ...  267   148   87  307   58  164    84\n",
              "\n",
              "[363058 rows x 32 columns]"
            ]
          },
          "metadata": {
            "tags": []
          },
          "execution_count": 24
        }
      ]
    },
    {
      "cell_type": "code",
      "metadata": {
        "colab": {
          "base_uri": "https://localhost:8080/",
          "height": 419
        },
        "id": "mMEH38UBA2jp",
        "outputId": "0f5a66cf-a334-426b-ec72-e89aed57278d"
      },
      "source": [
        "y=df_subset['movement'].reset_index()\n",
        "y= y.drop(columns='index')\n",
        "y"
      ],
      "id": "mMEH38UBA2jp",
      "execution_count": null,
      "outputs": [
        {
          "output_type": "execute_result",
          "data": {
            "text/html": [
              "<div>\n",
              "<style scoped>\n",
              "    .dataframe tbody tr th:only-of-type {\n",
              "        vertical-align: middle;\n",
              "    }\n",
              "\n",
              "    .dataframe tbody tr th {\n",
              "        vertical-align: top;\n",
              "    }\n",
              "\n",
              "    .dataframe thead th {\n",
              "        text-align: right;\n",
              "    }\n",
              "</style>\n",
              "<table border=\"1\" class=\"dataframe\">\n",
              "  <thead>\n",
              "    <tr style=\"text-align: right;\">\n",
              "      <th></th>\n",
              "      <th>movement</th>\n",
              "    </tr>\n",
              "  </thead>\n",
              "  <tbody>\n",
              "    <tr>\n",
              "      <th>0</th>\n",
              "      <td>0</td>\n",
              "    </tr>\n",
              "    <tr>\n",
              "      <th>1</th>\n",
              "      <td>0</td>\n",
              "    </tr>\n",
              "    <tr>\n",
              "      <th>2</th>\n",
              "      <td>0</td>\n",
              "    </tr>\n",
              "    <tr>\n",
              "      <th>3</th>\n",
              "      <td>0</td>\n",
              "    </tr>\n",
              "    <tr>\n",
              "      <th>4</th>\n",
              "      <td>0</td>\n",
              "    </tr>\n",
              "    <tr>\n",
              "      <th>...</th>\n",
              "      <td>...</td>\n",
              "    </tr>\n",
              "    <tr>\n",
              "      <th>363053</th>\n",
              "      <td>0</td>\n",
              "    </tr>\n",
              "    <tr>\n",
              "      <th>363054</th>\n",
              "      <td>0</td>\n",
              "    </tr>\n",
              "    <tr>\n",
              "      <th>363055</th>\n",
              "      <td>0</td>\n",
              "    </tr>\n",
              "    <tr>\n",
              "      <th>363056</th>\n",
              "      <td>0</td>\n",
              "    </tr>\n",
              "    <tr>\n",
              "      <th>363057</th>\n",
              "      <td>0</td>\n",
              "    </tr>\n",
              "  </tbody>\n",
              "</table>\n",
              "<p>363058 rows × 1 columns</p>\n",
              "</div>"
            ],
            "text/plain": [
              "        movement\n",
              "0              0\n",
              "1              0\n",
              "2              0\n",
              "3              0\n",
              "4              0\n",
              "...          ...\n",
              "363053         0\n",
              "363054         0\n",
              "363055         0\n",
              "363056         0\n",
              "363057         0\n",
              "\n",
              "[363058 rows x 1 columns]"
            ]
          },
          "metadata": {
            "tags": []
          },
          "execution_count": 25
        }
      ]
    },
    {
      "cell_type": "code",
      "metadata": {
        "colab": {
          "base_uri": "https://localhost:8080/"
        },
        "id": "indirect-development",
        "outputId": "59e9e1b4-b0c4-44d9-8909-997573493bda"
      },
      "source": [
        "type(X),type(y)"
      ],
      "id": "indirect-development",
      "execution_count": null,
      "outputs": [
        {
          "output_type": "execute_result",
          "data": {
            "text/plain": [
              "(pandas.core.frame.DataFrame, pandas.core.frame.DataFrame)"
            ]
          },
          "metadata": {
            "tags": []
          },
          "execution_count": 26
        }
      ]
    },
    {
      "cell_type": "markdown",
      "metadata": {
        "id": "cubic-approach"
      },
      "source": [
        "## Function for mean absolute deviation of a signal and wavelet_denoising"
      ],
      "id": "cubic-approach"
    },
    {
      "cell_type": "code",
      "metadata": {
        "id": "moderate-humanity"
      },
      "source": [
        "def convert_df_to_numpy(df):\n",
        "    return np.asarray(df.astype(float))\n",
        "  "
      ],
      "id": "moderate-humanity",
      "execution_count": null,
      "outputs": []
    },
    {
      "cell_type": "code",
      "metadata": {
        "id": "greatest-start"
      },
      "source": [
        "def madev(d, axis=None):\n",
        "    \"\"\" Mean absolute deviation of a signal \"\"\"\n",
        "    return np.mean(np.absolute(d - np.mean(d, axis)), axis)"
      ],
      "id": "greatest-start",
      "execution_count": null,
      "outputs": []
    },
    {
      "cell_type": "code",
      "metadata": {
        "id": "organic-thanksgiving"
      },
      "source": [
        "def wavelet_denoising(X, wavelet='db2', level=3):\n",
        "    coeff = pywt.wavedec(X, wavelet, mode=\"per\")\n",
        "    sigma = (1/0.6745) * madev(coeff[-level])\n",
        "    uthresh = sigma * np.sqrt(2 * np.log(len(X)))\n",
        "    coeff[1:] = (pywt.threshold(i, value=uthresh, mode='hard') for i in coeff[1:])\n",
        "    return pywt.waverec(coeff, wavelet, mode='per')"
      ],
      "id": "organic-thanksgiving",
      "execution_count": null,
      "outputs": []
    },
    {
      "cell_type": "code",
      "metadata": {
        "id": "welcome-daughter"
      },
      "source": [
        "def preprocess_data(X, y):\n",
        "    X= convert_df_to_numpy(X)\n",
        "    y=convert_df_to_numpy(y)\n",
        "    X=wavelet_denoising(X)\n",
        "    return X, y"
      ],
      "id": "welcome-daughter",
      "execution_count": null,
      "outputs": []
    },
    {
      "cell_type": "code",
      "metadata": {
        "id": "naughty-discount"
      },
      "source": [
        "X, y = preprocess_data(X,y)"
      ],
      "id": "naughty-discount",
      "execution_count": null,
      "outputs": []
    },
    {
      "cell_type": "code",
      "metadata": {
        "scrolled": true,
        "colab": {
          "base_uri": "https://localhost:8080/"
        },
        "id": "married-farmer",
        "outputId": "8b9dbda0-080f-4c81-f053-76f30ab4a2c5"
      },
      "source": [
        "X.shape, y.shape"
      ],
      "id": "married-farmer",
      "execution_count": null,
      "outputs": [
        {
          "output_type": "execute_result",
          "data": {
            "text/plain": [
              "((363058, 32), (363058, 1))"
            ]
          },
          "metadata": {
            "tags": []
          },
          "execution_count": 32
        }
      ]
    },
    {
      "cell_type": "code",
      "metadata": {
        "colab": {
          "base_uri": "https://localhost:8080/"
        },
        "id": "theoretical-uruguay",
        "outputId": "09ea169e-cefa-4905-cf15-0e261d489f4c"
      },
      "source": [
        "type(X), type(y)"
      ],
      "id": "theoretical-uruguay",
      "execution_count": null,
      "outputs": [
        {
          "output_type": "execute_result",
          "data": {
            "text/plain": [
              "(numpy.ndarray, numpy.ndarray)"
            ]
          },
          "metadata": {
            "tags": []
          },
          "execution_count": 33
        }
      ]
    },
    {
      "cell_type": "markdown",
      "metadata": {
        "id": "coordinated-uganda"
      },
      "source": [
        "## Visualizing a signal before and after wavelet denoising"
      ],
      "id": "coordinated-uganda"
    },
    {
      "cell_type": "code",
      "metadata": {
        "id": "postal-disorder"
      },
      "source": [
        "#signal=pd.read_csv('../raw_date/train/subj1_series1_data.csv')\n",
        "#signal = signal.drop(\"id\", axis=1)\n",
        "#filtered = wavelet_denoising(signal, wavelet='db2', level=3)\n",
        "\n",
        "#import matplotlib.pyplot as plt\n",
        "#fig, ax = plt.subplots(figsize=(8,5))\n",
        "#ax.plot(signal.iloc[:10000,1], label='signal', color=\"b\", alpha=0.5,)\n",
        "#ax.plot(filtered[:10000,1], label='reconstructed signal',color=\"k\")\n",
        "#ax.legend(loc='upper left')\n",
        "#ax.set_title('Denoising with DWT')\n",
        "#plt.show()"
      ],
      "id": "postal-disorder",
      "execution_count": null,
      "outputs": []
    },
    {
      "cell_type": "markdown",
      "metadata": {
        "id": "lasting-intervention"
      },
      "source": [
        "## Test splitting data"
      ],
      "id": "lasting-intervention"
    },
    {
      "cell_type": "code",
      "metadata": {
        "id": "prostate-thong"
      },
      "source": [
        "def custom_train_test_split(X, y):\n",
        "     \n",
        "    splitrate=-X.shape[0]//5*2\n",
        "    xval=X[splitrate:splitrate//2]\n",
        "    yval=y[splitrate:splitrate//2]\n",
        "    xtest=X[splitrate//2:]\n",
        "    ytest=y[splitrate//2:]\n",
        "    xtrain=X[:splitrate]\n",
        "    ytrain=y[:splitrate]\n",
        "    \n",
        "    return xtrain, xval, xtest, ytrain, yval, ytest "
      ],
      "id": "prostate-thong",
      "execution_count": null,
      "outputs": []
    },
    {
      "cell_type": "code",
      "metadata": {
        "id": "weekly-rebel"
      },
      "source": [
        "# splitting the data \n",
        "xtrain, xval, xtest, ytrain, yval, ytest = custom_train_test_split(X, y)"
      ],
      "id": "weekly-rebel",
      "execution_count": null,
      "outputs": []
    },
    {
      "cell_type": "code",
      "metadata": {
        "colab": {
          "base_uri": "https://localhost:8080/"
        },
        "id": "wound-heart",
        "outputId": "a6cfbc22-f009-4ea9-bc86-dcba53839be5"
      },
      "source": [
        "xtrain.shape, xval.shape, xtest.shape, ytrain.shape, yval.shape, ytest.shape"
      ],
      "id": "wound-heart",
      "execution_count": null,
      "outputs": [
        {
          "output_type": "execute_result",
          "data": {
            "text/plain": [
              "((217834, 32), (72612, 32), (72612, 32), (217834, 1), (72612, 1), (72612, 1))"
            ]
          },
          "metadata": {
            "tags": []
          },
          "execution_count": 36
        }
      ]
    },
    {
      "cell_type": "code",
      "metadata": {
        "colab": {
          "base_uri": "https://localhost:8080/"
        },
        "id": "available-plasma",
        "outputId": "d157a158-83f7-4260-bca8-3789147b6e6c"
      },
      "source": [
        "type(xtrain), type(xval), type(xtest), type(ytrain), type(yval), type(ytest)"
      ],
      "id": "available-plasma",
      "execution_count": null,
      "outputs": [
        {
          "output_type": "execute_result",
          "data": {
            "text/plain": [
              "(numpy.ndarray,\n",
              " numpy.ndarray,\n",
              " numpy.ndarray,\n",
              " numpy.ndarray,\n",
              " numpy.ndarray,\n",
              " numpy.ndarray)"
            ]
          },
          "metadata": {
            "tags": []
          },
          "execution_count": 37
        }
      ]
    },
    {
      "cell_type": "markdown",
      "metadata": {
        "id": "taken-raleigh"
      },
      "source": [
        "## Scaling data"
      ],
      "id": "taken-raleigh"
    },
    {
      "cell_type": "code",
      "metadata": {
        "id": "solved-bracket"
      },
      "source": [
        "scaler= StandardScaler()\n",
        "\n",
        "def data_scaler_train(X):\n",
        "    X_prep=scaler.fit_transform(X)\n",
        "    #do here your preprocessing\n",
        "    return X_prep\n",
        "def data_scaler_test(X):\n",
        "    X_prep=scaler.transform(X)\n",
        "    #do here your preprocessing\n",
        "    return X_prep"
      ],
      "id": "solved-bracket",
      "execution_count": null,
      "outputs": []
    },
    {
      "cell_type": "code",
      "metadata": {
        "id": "innocent-syndication"
      },
      "source": [
        "X_train_scaled= data_scaler_train(xtrain)\n",
        "X_val_scaled= data_scaler_test(xval)"
      ],
      "id": "innocent-syndication",
      "execution_count": null,
      "outputs": []
    },
    {
      "cell_type": "code",
      "metadata": {
        "colab": {
          "base_uri": "https://localhost:8080/"
        },
        "id": "posted-directory",
        "outputId": "c5ffb9d6-dbf4-49bc-b3e9-5ae36619ab34"
      },
      "source": [
        "X_train_scaled.shape, X_val_scaled.shape"
      ],
      "id": "posted-directory",
      "execution_count": null,
      "outputs": [
        {
          "output_type": "execute_result",
          "data": {
            "text/plain": [
              "((217834, 32), (72612, 32))"
            ]
          },
          "metadata": {
            "tags": []
          },
          "execution_count": 40
        }
      ]
    },
    {
      "cell_type": "code",
      "metadata": {
        "colab": {
          "base_uri": "https://localhost:8080/"
        },
        "id": "portuguese-robin",
        "outputId": "6b41cf5c-1254-498b-975c-fa3e9bafc18a"
      },
      "source": [
        "type(X_train_scaled), type(X_val_scaled)"
      ],
      "id": "portuguese-robin",
      "execution_count": null,
      "outputs": [
        {
          "output_type": "execute_result",
          "data": {
            "text/plain": [
              "(numpy.ndarray, numpy.ndarray)"
            ]
          },
          "metadata": {
            "tags": []
          },
          "execution_count": 41
        }
      ]
    },
    {
      "cell_type": "markdown",
      "metadata": {
        "id": "italian-sponsorship"
      },
      "source": [
        "## Generators"
      ],
      "id": "italian-sponsorship"
    },
    {
      "cell_type": "code",
      "metadata": {
        "id": "studied-index"
      },
      "source": [
        "time_steps = 1000\n",
        "subsample = 50"
      ],
      "id": "studied-index",
      "execution_count": null,
      "outputs": []
    },
    {
      "cell_type": "code",
      "metadata": {
        "id": "unlike-services"
      },
      "source": [
        "def generator(batch_size, xtrain, ytrain):\n",
        "    while 1:\n",
        "        x_time_data = np.zeros((batch_size, time_steps//subsample, 32))\n",
        "        yy = []\n",
        "        for i in range(batch_size):\n",
        "            random_index = np.random.randint(0, len(xtrain)-time_steps)\n",
        "            x_time_data[i] = xtrain[random_index:random_index+time_steps:subsample]\n",
        "            yy.append(ytrain[random_index + time_steps])\n",
        "        yy = np.asarray(yy)\n",
        "        yield x_time_data.reshape((x_time_data.shape[0],x_time_data.shape[1],  x_time_data.shape[2],1)), yy"
      ],
      "id": "unlike-services",
      "execution_count": null,
      "outputs": []
    },
    {
      "cell_type": "code",
      "metadata": {
        "id": "disturbed-mentor"
      },
      "source": [
        "def valgenerator(xval, yval):\n",
        "    while 1:\n",
        "        batch_size=32\n",
        "        x_time_data = np.zeros((batch_size, time_steps//subsample, 32))\n",
        "        yy = []\n",
        "        for i in range(batch_size):\n",
        "            random_index = np.random.randint(0, len(xval)-time_steps)\n",
        "            x_time_data[i] = xval[random_index:random_index+time_steps:subsample]\n",
        "            yy.append(yval[random_index + time_steps])\n",
        "        yy = np.asarray(yy)\n",
        "        yield x_time_data.reshape((x_time_data.shape[0],x_time_data.shape[1], x_time_data.shape[2],1)), yy"
      ],
      "id": "disturbed-mentor",
      "execution_count": null,
      "outputs": []
    },
    {
      "cell_type": "markdown",
      "metadata": {
        "id": "sized-operator"
      },
      "source": [
        "# CNN Model "
      ],
      "id": "sized-operator"
    },
    {
      "cell_type": "code",
      "metadata": {
        "id": "expected-husband"
      },
      "source": [
        "def CNN_model():\n",
        "  \n",
        "  load = 1\n",
        "  model = Sequential()\n",
        "\n",
        "  model.add(Conv2D(filters = 16, kernel_size = (7,7), padding = \"same\", activation = \"relu\", input_shape = ((time_steps//subsample), 32, 1)))\n",
        "  model.add(BatchNormalization())\n",
        "  #model.add(MaxPooling2D(pool_size = (3,3)))\n",
        "\n",
        "  model.add(Conv2D(filters = 32, kernel_size = (5,5), padding = \"same\", activation = \"relu\", input_shape = ((time_steps//subsample), 32, 1)))\n",
        "  model.add(BatchNormalization())\n",
        "  #model.add(MaxPooling2D(pool_size = (3,3)))\n",
        "\n",
        "  model.add(Conv2D(filters = 64, kernel_size = (3,3), padding = \"same\", activation = \"relu\", input_shape = ((time_steps//subsample), 32, 1)))\n",
        "  model.add(BatchNormalization())\n",
        "  #model.add(MaxPooling2D(pool_size = (3,3)))\n",
        "\n",
        "  model.add(Flatten())\n",
        " \n",
        "  #model.add(Dense(1024, activation = \"relu\"))\n",
        "  #model.add(BatchNormalization())\n",
        "  \n",
        "  #model.add(Dense(256, activation = \"relu\"))\n",
        "  #model.add(BatchNormalization())\n",
        "  #model.add(Dropout(0.25))\n",
        "\n",
        "  model.add(Dense(32, activation = \"relu\"))\n",
        "  model.add(BatchNormalization())\n",
        "  model.add(Dropout(0.25))\n",
        "\n",
        "  model.add(Dense(1, activation = \"sigmoid\"))\n",
        "\n",
        "\n",
        "  adam = Adam(lr = 0.001)\n",
        "\n",
        "  model.compile(optimizer = adam, loss = \"binary_crossentropy\", metrics = ['accuracy','mse'])\n",
        "\n",
        "  return model"
      ],
      "id": "expected-husband",
      "execution_count": null,
      "outputs": []
    },
    {
      "cell_type": "code",
      "metadata": {
        "id": "T5Vc2Tn0rvCo"
      },
      "source": [
        "model= CNN_model()"
      ],
      "id": "T5Vc2Tn0rvCo",
      "execution_count": null,
      "outputs": []
    },
    {
      "cell_type": "code",
      "metadata": {
        "colab": {
          "base_uri": "https://localhost:8080/"
        },
        "id": "XEju2n4wdMT9",
        "outputId": "bfe1d000-f741-48cd-9fa9-ed51d548d2bc"
      },
      "source": [
        "model.summary()"
      ],
      "id": "XEju2n4wdMT9",
      "execution_count": null,
      "outputs": [
        {
          "output_type": "stream",
          "text": [
            "Model: \"sequential\"\n",
            "_________________________________________________________________\n",
            "Layer (type)                 Output Shape              Param #   \n",
            "=================================================================\n",
            "conv2d (Conv2D)              (None, 20, 32, 16)        800       \n",
            "_________________________________________________________________\n",
            "batch_normalization (BatchNo (None, 20, 32, 16)        64        \n",
            "_________________________________________________________________\n",
            "conv2d_1 (Conv2D)            (None, 20, 32, 32)        12832     \n",
            "_________________________________________________________________\n",
            "batch_normalization_1 (Batch (None, 20, 32, 32)        128       \n",
            "_________________________________________________________________\n",
            "conv2d_2 (Conv2D)            (None, 20, 32, 64)        18496     \n",
            "_________________________________________________________________\n",
            "batch_normalization_2 (Batch (None, 20, 32, 64)        256       \n",
            "_________________________________________________________________\n",
            "flatten (Flatten)            (None, 40960)             0         \n",
            "_________________________________________________________________\n",
            "dense (Dense)                (None, 32)                1310752   \n",
            "_________________________________________________________________\n",
            "batch_normalization_3 (Batch (None, 32)                128       \n",
            "_________________________________________________________________\n",
            "dropout (Dropout)            (None, 32)                0         \n",
            "_________________________________________________________________\n",
            "dense_1 (Dense)              (None, 1)                 33        \n",
            "=================================================================\n",
            "Total params: 1,343,489\n",
            "Trainable params: 1,343,201\n",
            "Non-trainable params: 288\n",
            "_________________________________________________________________\n"
          ],
          "name": "stdout"
        }
      ]
    },
    {
      "cell_type": "code",
      "metadata": {
        "colab": {
          "base_uri": "https://localhost:8080/"
        },
        "id": "informational-stomach",
        "outputId": "b39989b8-fb4d-4c67-de91-92f7c6978166"
      },
      "source": [
        "es= EarlyStopping(patience=5)\n",
        "history =model.fit_generator(generator(32,X_train_scaled, ytrain), steps_per_epoch = 600, epochs = 50,validation_data=valgenerator(X_val_scaled, yval),\n",
        "                              validation_steps=200,callbacks=[es])"
      ],
      "id": "informational-stomach",
      "execution_count": null,
      "outputs": [
        {
          "output_type": "stream",
          "text": [
            "Epoch 1/50\n",
            " 31/600 [>.............................] - ETA: 2s - loss: 0.3515 - accuracy: 0.8558 - mse: 0.1096"
          ],
          "name": "stdout"
        },
        {
          "output_type": "stream",
          "text": [
            "/usr/local/lib/python3.7/dist-packages/tensorflow/python/keras/engine/training.py:1844: UserWarning: `Model.fit_generator` is deprecated and will be removed in a future version. Please use `Model.fit`, which supports generators.\n",
            "  warnings.warn('`Model.fit_generator` is deprecated and '\n"
          ],
          "name": "stderr"
        },
        {
          "output_type": "stream",
          "text": [
            "600/600 [==============================] - 4s 6ms/step - loss: 0.3378 - accuracy: 0.8514 - mse: 0.1058 - val_loss: 0.6632 - val_accuracy: 0.6973 - val_mse: 0.2110\n",
            "Epoch 2/50\n",
            "600/600 [==============================] - 3s 6ms/step - loss: 0.3237 - accuracy: 0.8610 - mse: 0.1008 - val_loss: 0.6834 - val_accuracy: 0.6811 - val_mse: 0.2189\n",
            "Epoch 3/50\n",
            "600/600 [==============================] - 3s 6ms/step - loss: 0.3007 - accuracy: 0.8724 - mse: 0.0925 - val_loss: 0.7181 - val_accuracy: 0.6727 - val_mse: 0.2274\n",
            "Epoch 4/50\n",
            "600/600 [==============================] - 3s 6ms/step - loss: 0.2866 - accuracy: 0.8781 - mse: 0.0881 - val_loss: 0.6827 - val_accuracy: 0.6900 - val_mse: 0.2170\n",
            "Epoch 5/50\n",
            "600/600 [==============================] - 3s 6ms/step - loss: 0.2798 - accuracy: 0.8823 - mse: 0.0855 - val_loss: 0.7338 - val_accuracy: 0.6872 - val_mse: 0.2228\n",
            "Epoch 6/50\n",
            "600/600 [==============================] - 3s 6ms/step - loss: 0.2543 - accuracy: 0.8952 - mse: 0.0770 - val_loss: 0.7540 - val_accuracy: 0.6861 - val_mse: 0.2250\n"
          ],
          "name": "stdout"
        }
      ]
    },
    {
      "cell_type": "code",
      "metadata": {
        "id": "worse-minute",
        "colab": {
          "base_uri": "https://localhost:8080/",
          "height": 390
        },
        "outputId": "3270cc9e-64a5-4389-9d86-9ed95a2b1671"
      },
      "source": [
        "def plot_training_history(history):\n",
        "    acc = history.history['accuracy']\n",
        "    loss = history.history['loss']\n",
        "    val_acc = history.history['val_accuracy']\n",
        "    val_loss = history.history['val_loss']\n",
        "    epochs = range(len(acc))\n",
        " \n",
        "    plt.figure(figsize=(15, 6))\n",
        "    plt.subplot(1, 2, 1)\n",
        "    plt.plot(epochs, acc, 'b', label='Training acc',linewidth=2)\n",
        "    plt.plot(epochs, val_acc, 'r--', label='Validation acc',linewidth=2)\n",
        "    plt.title('Training  accuracy')\n",
        "    plt.legend()\n",
        " \n",
        "    plt.subplot(1, 2, 2)\n",
        "    plt.plot(epochs, loss, 'b', label='Training loss')\n",
        "    plt.plot(epochs, val_loss, 'k', label='Validationloss ')\n",
        "    plt.title('Training loss')\n",
        "    plt.legend()\n",
        " \n",
        "    plt.show()\n",
        "plot_training_history(history)\n",
        "\n",
        "\n"
      ],
      "id": "worse-minute",
      "execution_count": null,
      "outputs": [
        {
          "output_type": "display_data",
          "data": {
            "image/png": "[encoded data removed]",
            "text/plain": [
              "<Figure size 1080x432 with 2 Axes>"
            ]
          },
          "metadata": {
            "tags": [],
            "needs_background": "light"
          }
        }
      ]
    },
    {
      "cell_type": "code",
      "metadata": {
        "id": "IRxXcT3El4Cz"
      },
      "source": [
        "time_frame =1000\n",
        "steps=50"
      ],
      "id": "IRxXcT3El4Cz",
      "execution_count": null,
      "outputs": []
    },
    {
      "cell_type": "code",
      "metadata": {
        "id": "f0PY9IZkowJ8"
      },
      "source": [
        "def test_generator(xtest, ytest):\n",
        "    while 1:\n",
        "        batch_size = 32\n",
        "        x_time_data = np.zeros((batch_size, time_frame//steps, 32))\n",
        "        yy = []\n",
        "        for i in range(batch_size):\n",
        "            random_index = np.random.randint(0, len(xtest)-time_frame)\n",
        "            x_time_data[i] = xtest[random_index:random_index+time_frame:steps]\n",
        "            yy.append(ytest[random_index + time_frame])\n",
        "        yy = np.asarray(yy)\n",
        "        yield x_time_data.reshape((x_time_data.shape[0],x_time_data.shape[1], x_time_data.shape[2], 1)), yy"
      ],
      "id": "f0PY9IZkowJ8",
      "execution_count": null,
      "outputs": []
    },
    {
      "cell_type": "code",
      "metadata": {
        "id": "4eloRdQMpBC3"
      },
      "source": [
        "#final generator for testing \n",
        "def batching(xtest, ytest):\n",
        "  time_frame =1000\n",
        "  steps=50  \n",
        "  batch_size = int(len(xtest)/time_frame)\n",
        "  \n",
        "  x_time_data = np.zeros((batch_size, time_frame//steps, 32))\n",
        "  index = 0\n",
        "  yy = []\n",
        "\n",
        "  for i in range(batch_size):\n",
        "\n",
        "    x_time_data[i] = xtest[index:index+time_frame:steps]\n",
        "            \n",
        "    yy.append(ytest[index + time_frame -1])\n",
        "\n",
        "    index+=time_frame\n",
        "\n",
        "  yy = np.asarray(yy)\n",
        "\n",
        "  return  x_time_data.reshape((x_time_data.shape[0],x_time_data.shape[1], x_time_data.shape[2], 1)), yy"
      ],
      "id": "4eloRdQMpBC3",
      "execution_count": null,
      "outputs": []
    },
    {
      "cell_type": "code",
      "metadata": {
        "id": "yDdahPaaZY0_"
      },
      "source": [
        "def threshold_optimizer(preds_proba, thresh):\n",
        "  return [[1 if p > thresh else 0  for p in proba] for proba in preds_proba]"
      ],
      "id": "yDdahPaaZY0_",
      "execution_count": null,
      "outputs": []
    },
    {
      "cell_type": "code",
      "metadata": {
        "id": "f4r-EZlXbHOO"
      },
      "source": [
        "def threshold_optimizer(preds_proba, thresh):\n"
      ],
      "id": "f4r-EZlXbHOO",
      "execution_count": null,
      "outputs": []
    },
    {
      "cell_type": "code",
      "metadata": {
        "id": "6tHt-tYIcnOl"
      },
      "source": [
        "def preloaded_predictions(xtest, ytest):\n",
        "  X_test_scaled = data_scaler_test(xtest)\n",
        "  x, y = batching(X_test_scaled, ytest)\n",
        "  pred= model.predict(x)\n",
        "  predictions = threshold_optimizer(pred, 0.5)\n",
        "  labels = {0 : 'Handstart (HS)',\n",
        "                   1 : \"Grasping (GS)\",\n",
        "                   2 : \"Lift (LT)\",\n",
        "                   3 : \"Hold (HD)\",\n",
        "                   4 : \"Replace (RP)\",\n",
        "                   5 : \"Release (RL)\"}\n",
        "  labeled_predictions=[]\n",
        "  predictions = np.asarray(predictions)\n",
        "  for pred in predictions:\n",
        "    #rounded_pred=np.round(pred)\n",
        "    movement_index = np.where(pred == 1)[0]\n",
        "    if len(movement_index) == 0:\n",
        "      labeled_predictions.append([\"No movement\"])\n",
        "    else:\n",
        "      movement_labels=[]\n",
        "      for index in movement_index:\n",
        "        movement_labels.append(labels[index])\n",
        "      labeled_predictions.append(movement_labels)   \n",
        "  return labeled_predictions, y, predictions"
      ],
      "id": "6tHt-tYIcnOl",
      "execution_count": null,
      "outputs": []
    },
    {
      "cell_type": "code",
      "metadata": {
        "id": "0TvaU5E7bGUy"
      },
      "source": [
        "def preoload_movement_detected(xtest, ytest):\n",
        "  X_test_scaled = data_scaler_test(xtest)\n",
        "  x, y = batching(X_test_scaled, ytest)\n",
        "  pred= model.predict(x)\n",
        "  predictions = threshold_optimizer(pred, 0.5)\n",
        "  return predictions, y"
      ],
      "id": "0TvaU5E7bGUy",
      "execution_count": null,
      "outputs": []
    },
    {
      "cell_type": "code",
      "metadata": {
        "id": "DmRHrCBPrHZN"
      },
      "source": [
        "movement_predictions, yy = preoload_movement_detected(xtest, ytest)"
      ],
      "id": "DmRHrCBPrHZN",
      "execution_count": null,
      "outputs": []
    },
    {
      "cell_type": "code",
      "metadata": {
        "id": "R1ItBQKN4VYM"
      },
      "source": [
        "movement_predictions_thresh05, yy_thresh05 = preoload_movement_detected(xtest, ytest)"
      ],
      "id": "R1ItBQKN4VYM",
      "execution_count": null,
      "outputs": []
    },
    {
      "cell_type": "code",
      "metadata": {
        "colab": {
          "base_uri": "https://localhost:8080/"
        },
        "id": "KoVALaKUx06u",
        "outputId": "2eddda12-7a12-4ad1-9fbb-32f9df0f8dbe"
      },
      "source": [
        "yy.sum()"
      ],
      "id": "KoVALaKUx06u",
      "execution_count": null,
      "outputs": [
        {
          "output_type": "execute_result",
          "data": {
            "text/plain": [
              "46.0"
            ]
          },
          "metadata": {
            "tags": []
          },
          "execution_count": 61
        }
      ]
    },
    {
      "cell_type": "code",
      "metadata": {
        "id": "0qTcEOopmd7Y"
      },
      "source": [
        "labeled_predictions, y, predictions = preloaded_predictions(xtrain, ytrain)"
      ],
      "id": "0qTcEOopmd7Y",
      "execution_count": null,
      "outputs": []
    },
    {
      "cell_type": "code",
      "metadata": {
        "colab": {
          "base_uri": "https://localhost:8080/"
        },
        "id": "iyxf1xszcMcC",
        "outputId": "e50fc93c-b313-413c-a1b1-683d2455d2ac"
      },
      "source": [
        "y"
      ],
      "id": "iyxf1xszcMcC",
      "execution_count": null,
      "outputs": [
        {
          "output_type": "execute_result",
          "data": {
            "text/plain": [
              "array([[0., 0., 0., 0., 0., 0.],\n",
              "       [0., 0., 0., 0., 0., 0.],\n",
              "       [0., 0., 0., 0., 0., 0.],\n",
              "       ...,\n",
              "       [0., 0., 0., 0., 0., 0.],\n",
              "       [0., 0., 0., 0., 0., 0.],\n",
              "       [0., 0., 0., 0., 0., 0.]])"
            ]
          },
          "metadata": {
            "tags": []
          },
          "execution_count": 73
        }
      ]
    },
    {
      "cell_type": "code",
      "metadata": {
        "id": "Z6zGQl9qaGQ8"
      },
      "source": [
        "for i in range(len(labeled_predictions)):\n",
        "  if labeled_predictions[i] != ['No movement']:\n",
        "    print(i)"
      ],
      "id": "Z6zGQl9qaGQ8",
      "execution_count": null,
      "outputs": []
    },
    {
      "cell_type": "code",
      "metadata": {
        "id": "Q1Xv5ia0aV7P"
      },
      "source": [
        "for i in range(len(y)):\n",
        "  if y[i].sum() > 0:\n",
        "    print(i)"
      ],
      "id": "Q1Xv5ia0aV7P",
      "execution_count": null,
      "outputs": []
    },
    {
      "cell_type": "code",
      "metadata": {
        "id": "eKNvif7xa_Ko",
        "colab": {
          "base_uri": "https://localhost:8080/"
        },
        "outputId": "a7f196d9-6a25-4059-bbbb-dc27742e2883"
      },
      "source": [
        "print(classification_report(yy_thresh05, np.asarray(movement_predictions_thresh05).flatten()))"
      ],
      "id": "eKNvif7xa_Ko",
      "execution_count": null,
      "outputs": [
        {
          "output_type": "stream",
          "text": [
            "              precision    recall  f1-score   support\n",
            "\n",
            "         0.0       0.50      0.74      0.60        31\n",
            "         1.0       0.69      0.44      0.54        41\n",
            "\n",
            "    accuracy                           0.57        72\n",
            "   macro avg       0.60      0.59      0.57        72\n",
            "weighted avg       0.61      0.57      0.56        72\n",
            "\n"
          ],
          "name": "stdout"
        }
      ]
    },
    {
      "cell_type": "code",
      "metadata": {
        "colab": {
          "base_uri": "https://localhost:8080/"
        },
        "id": "3KNx0WGG8EPO",
        "outputId": "c47db058-a8be-4356-b564-2d8f4ea7bada"
      },
      "source": [
        "print(classification_report(yy_thresh02, np.asarray(movement_predictions_thresh02).flatten()))"
      ],
      "id": "3KNx0WGG8EPO",
      "execution_count": null,
      "outputs": [
        {
          "output_type": "stream",
          "text": [
            "              precision    recall  f1-score   support\n",
            "\n",
            "         0.0       0.86      0.92      0.89       234\n",
            "         1.0       0.40      0.26      0.32        46\n",
            "\n",
            "    accuracy                           0.81       280\n",
            "   macro avg       0.63      0.59      0.60       280\n",
            "weighted avg       0.79      0.81      0.80       280\n",
            "\n"
          ],
          "name": "stdout"
        }
      ]
    },
    {
      "cell_type": "code",
      "metadata": {
        "colab": {
          "base_uri": "https://localhost:8080/"
        },
        "id": "nhSt3rM66wTR",
        "outputId": "026647cc-f2ed-4b06-9f26-64758d52b387"
      },
      "source": [
        "print(classification_report(yy_thresh05, np.asarray(movement_predictions_thresh05).flatten()))"
      ],
      "id": "nhSt3rM66wTR",
      "execution_count": null,
      "outputs": [
        {
          "output_type": "stream",
          "text": [
            "              precision    recall  f1-score   support\n",
            "\n",
            "         0.0       0.85      0.99      0.91       234\n",
            "         1.0       0.62      0.11      0.19        46\n",
            "\n",
            "    accuracy                           0.84       280\n",
            "   macro avg       0.74      0.55      0.55       280\n",
            "weighted avg       0.81      0.84      0.79       280\n",
            "\n"
          ],
          "name": "stdout"
        }
      ]
    },
    {
      "cell_type": "code",
      "metadata": {
        "colab": {
          "base_uri": "https://localhost:8080/"
        },
        "id": "b1DU3EZW31et",
        "outputId": "79d9d583-f3a8-4801-b2b2-514cc33157fc"
      },
      "source": [
        "l=[\"Handstart (HS)\",\"Grasping (GS)\",\"Lift (LT)\",\"Hold (HD)\",\"Replace (RP)\",\"Release (RL)\"]\n",
        "print(classification_report(yy, np.asarray(movement_predictions).flatten()))"
      ],
      "id": "b1DU3EZW31et",
      "execution_count": null,
      "outputs": [
        {
          "output_type": "stream",
          "text": [
            "              precision    recall  f1-score   support\n",
            "\n",
            "         0.0       0.86      0.97      0.91       234\n",
            "         1.0       0.59      0.22      0.32        46\n",
            "\n",
            "    accuracy                           0.85       280\n",
            "   macro avg       0.73      0.59      0.62       280\n",
            "weighted avg       0.82      0.85      0.82       280\n",
            "\n"
          ],
          "name": "stdout"
        }
      ]
    },
    {
      "cell_type": "code",
      "metadata": {
        "id": "02IHtDWntQ7O"
      },
      "source": [
        "#add the different subjects selection\r\n",
        "def search(second_segment_number):\r\n",
        "  return all_predictions[second_segment_number]"
      ],
      "id": "02IHtDWntQ7O",
      "execution_count": null,
      "outputs": []
    },
    {
      "cell_type": "code",
      "metadata": {
        "id": "nwUhxLdgn1UT",
        "colab": {
          "base_uri": "https://localhost:8080/"
        },
        "outputId": "f1793235-7060-4a71-d7b2-5f8031f543f9"
      },
      "source": [
        "l=[\"Handstart (HS)\",\"Grasping (GS)\",\"Lift (LT)\",\"Hold (HD)\",\"Replace (RP)\",\"Release (RL)\"]\n",
        "print(classification_report(y, predictions, target_names=l))"
      ],
      "id": "nwUhxLdgn1UT",
      "execution_count": null,
      "outputs": [
        {
          "output_type": "stream",
          "text": [
            "                precision    recall  f1-score   support\n",
            "\n",
            "Handstart (HS)       0.00      0.00      0.00        24\n",
            " Grasping (GS)       0.58      0.44      0.50        16\n",
            "     Lift (LT)       0.46      0.43      0.44        14\n",
            "     Hold (HD)       0.50      0.29      0.36        14\n",
            "  Replace (RP)       0.67      0.08      0.15        24\n",
            "  Release (RL)       0.33      0.07      0.11        15\n",
            "\n",
            "     micro avg       0.51      0.19      0.27       107\n",
            "     macro avg       0.42      0.22      0.26       107\n",
            "  weighted avg       0.41      0.19      0.23       107\n",
            "   samples avg       0.01      0.02      0.01       107\n",
            "\n"
          ],
          "name": "stdout"
        },
        {
          "output_type": "stream",
          "text": [
            "/usr/local/lib/python3.7/dist-packages/sklearn/metrics/_classification.py:1272: UndefinedMetricWarning: Precision and F-score are ill-defined and being set to 0.0 in labels with no predicted samples. Use `zero_division` parameter to control this behavior.\n",
            "  _warn_prf(average, modifier, msg_start, len(result))\n",
            "/usr/local/lib/python3.7/dist-packages/sklearn/metrics/_classification.py:1272: UndefinedMetricWarning: Precision and F-score are ill-defined and being set to 0.0 in samples with no predicted labels. Use `zero_division` parameter to control this behavior.\n",
            "  _warn_prf(average, modifier, msg_start, len(result))\n",
            "/usr/local/lib/python3.7/dist-packages/sklearn/metrics/_classification.py:1272: UndefinedMetricWarning: Recall and F-score are ill-defined and being set to 0.0 in samples with no true labels. Use `zero_division` parameter to control this behavior.\n",
            "  _warn_prf(average, modifier, msg_start, len(result))\n"
          ],
          "name": "stderr"
        }
      ]
    },
    {
      "cell_type": "code",
      "metadata": {
        "colab": {
          "base_uri": "https://localhost:8080/"
        },
        "id": "EHsQdLUJjLVb",
        "outputId": "980b32e5-b001-4445-ef74-22b89c2c9fee"
      },
      "source": [
        "y"
      ],
      "id": "EHsQdLUJjLVb",
      "execution_count": null,
      "outputs": [
        {
          "output_type": "execute_result",
          "data": {
            "text/plain": [
              "array([[0., 0., 0., 0., 0., 0.],\n",
              "       [0., 0., 0., 0., 0., 0.],\n",
              "       [0., 0., 0., 0., 0., 0.],\n",
              "       ...,\n",
              "       [0., 0., 0., 0., 0., 0.],\n",
              "       [0., 0., 0., 0., 0., 0.],\n",
              "       [0., 0., 0., 0., 0., 0.]])"
            ]
          },
          "metadata": {
            "tags": []
          },
          "execution_count": 106
        }
      ]
    },
    {
      "cell_type": "code",
      "metadata": {
        "colab": {
          "base_uri": "https://localhost:8080/",
          "height": 317
        },
        "id": "rk-w_Zqmim9E",
        "outputId": "433f0667-53dd-48e4-97d1-1f0a90fb99ba"
      },
      "source": [
        "from sklearn.metrics import confusion_matrix\n",
        "\n",
        "confusion_matrix(y, predictions)"
      ],
      "id": "rk-w_Zqmim9E",
      "execution_count": null,
      "outputs": [
        {
          "output_type": "error",
          "ename": "ValueError",
          "evalue": "ignored",
          "traceback": [
            "\u001b[0;31m---------------------------------------------------------------------------\u001b[0m",
            "\u001b[0;31mValueError\u001b[0m                                Traceback (most recent call last)",
            "\u001b[0;32m<ipython-input-101-ab79f4b93d36>\u001b[0m in \u001b[0;36m<module>\u001b[0;34m()\u001b[0m\n\u001b[1;32m      1\u001b[0m \u001b[0;32mfrom\u001b[0m \u001b[0msklearn\u001b[0m\u001b[0;34m.\u001b[0m\u001b[0mmetrics\u001b[0m \u001b[0;32mimport\u001b[0m \u001b[0mconfusion_matrix\u001b[0m\u001b[0;34m\u001b[0m\u001b[0;34m\u001b[0m\u001b[0m\n\u001b[1;32m      2\u001b[0m \u001b[0;34m\u001b[0m\u001b[0m\n\u001b[0;32m----> 3\u001b[0;31m \u001b[0mconfusion_matrix\u001b[0m\u001b[0;34m(\u001b[0m\u001b[0my\u001b[0m\u001b[0;34m,\u001b[0m \u001b[0mpredictions\u001b[0m\u001b[0;34m)\u001b[0m\u001b[0;34m\u001b[0m\u001b[0;34m\u001b[0m\u001b[0m\n\u001b[0m",
            "\u001b[0;32m/usr/local/lib/python3.7/dist-packages/sklearn/metrics/_classification.py\u001b[0m in \u001b[0;36mconfusion_matrix\u001b[0;34m(y_true, y_pred, labels, sample_weight, normalize)\u001b[0m\n\u001b[1;32m    268\u001b[0m     \u001b[0my_type\u001b[0m\u001b[0;34m,\u001b[0m \u001b[0my_true\u001b[0m\u001b[0;34m,\u001b[0m \u001b[0my_pred\u001b[0m \u001b[0;34m=\u001b[0m \u001b[0m_check_targets\u001b[0m\u001b[0;34m(\u001b[0m\u001b[0my_true\u001b[0m\u001b[0;34m,\u001b[0m \u001b[0my_pred\u001b[0m\u001b[0;34m)\u001b[0m\u001b[0;34m\u001b[0m\u001b[0;34m\u001b[0m\u001b[0m\n\u001b[1;32m    269\u001b[0m     \u001b[0;32mif\u001b[0m \u001b[0my_type\u001b[0m \u001b[0;32mnot\u001b[0m \u001b[0;32min\u001b[0m \u001b[0;34m(\u001b[0m\u001b[0;34m\"binary\"\u001b[0m\u001b[0;34m,\u001b[0m \u001b[0;34m\"multiclass\"\u001b[0m\u001b[0;34m)\u001b[0m\u001b[0;34m:\u001b[0m\u001b[0;34m\u001b[0m\u001b[0;34m\u001b[0m\u001b[0m\n\u001b[0;32m--> 270\u001b[0;31m         \u001b[0;32mraise\u001b[0m \u001b[0mValueError\u001b[0m\u001b[0;34m(\u001b[0m\u001b[0;34m\"%s is not supported\"\u001b[0m \u001b[0;34m%\u001b[0m \u001b[0my_type\u001b[0m\u001b[0;34m)\u001b[0m\u001b[0;34m\u001b[0m\u001b[0;34m\u001b[0m\u001b[0m\n\u001b[0m\u001b[1;32m    271\u001b[0m \u001b[0;34m\u001b[0m\u001b[0m\n\u001b[1;32m    272\u001b[0m     \u001b[0;32mif\u001b[0m \u001b[0mlabels\u001b[0m \u001b[0;32mis\u001b[0m \u001b[0;32mNone\u001b[0m\u001b[0;34m:\u001b[0m\u001b[0;34m\u001b[0m\u001b[0;34m\u001b[0m\u001b[0m\n",
            "\u001b[0;31mValueError\u001b[0m: multilabel-indicator is not supported"
          ]
        }
      ]
    },
    {
      "cell_type": "markdown",
      "metadata": {
        "id": "Yo4WK6haH532"
      },
      "source": [
        "Predic"
      ],
      "id": "Yo4WK6haH532"
    },
    {
      "cell_type": "code",
      "metadata": {
        "colab": {
          "base_uri": "https://localhost:8080/"
        },
        "id": "u5iRH4K0eGOV",
        "outputId": "7fc58bf1-5880-4112-8067-86c1cd76b68c"
      },
      "source": [
        "l=[\"Handstart (HS)\",\"Grasping (GS)\",\"Lift (LT)\",\"Hold (HD)\",\"Replace (RP)\",\"Release (RL)\"]\n",
        "print(classification_report(y, predictions, target_names=l))"
      ],
      "id": "u5iRH4K0eGOV",
      "execution_count": null,
      "outputs": [
        {
          "output_type": "stream",
          "text": [
            "                precision    recall  f1-score   support\n",
            "\n",
            "Handstart (HS)       0.00      0.00      0.00        10\n",
            " Grasping (GS)       0.60      0.75      0.67         4\n",
            "     Lift (LT)       0.67      0.40      0.50         5\n",
            "     Hold (HD)       0.00      0.00      0.00         8\n",
            "  Replace (RP)       0.00      0.00      0.00         9\n",
            "  Release (RL)       0.00      0.00      0.00         3\n",
            "\n",
            "     micro avg       0.56      0.13      0.21        39\n",
            "     macro avg       0.21      0.19      0.19        39\n",
            "  weighted avg       0.15      0.13      0.13        39\n",
            "   samples avg       0.01      0.01      0.01        39\n",
            "\n"
          ],
          "name": "stdout"
        },
        {
          "output_type": "stream",
          "text": [
            "/usr/local/lib/python3.7/dist-packages/sklearn/metrics/_classification.py:1272: UndefinedMetricWarning: Precision and F-score are ill-defined and being set to 0.0 in labels with no predicted samples. Use `zero_division` parameter to control this behavior.\n",
            "  _warn_prf(average, modifier, msg_start, len(result))\n",
            "/usr/local/lib/python3.7/dist-packages/sklearn/metrics/_classification.py:1272: UndefinedMetricWarning: Precision and F-score are ill-defined and being set to 0.0 in samples with no predicted labels. Use `zero_division` parameter to control this behavior.\n",
            "  _warn_prf(average, modifier, msg_start, len(result))\n",
            "/usr/local/lib/python3.7/dist-packages/sklearn/metrics/_classification.py:1272: UndefinedMetricWarning: Recall and F-score are ill-defined and being set to 0.0 in samples with no true labels. Use `zero_division` parameter to control this behavior.\n",
            "  _warn_prf(average, modifier, msg_start, len(result))\n"
          ],
          "name": "stderr"
        }
      ]
    },
    {
      "cell_type": "code",
      "metadata": {
        "id": "Z9F-RcIsJLR9"
      },
      "source": [
        "def prediction_labels(gen_data):\n",
        "    predicted_labels = []\n",
        "    predictions=[]\n",
        "    y_test_=[]\n",
        "\n",
        "    for i in range(1):\n",
        "      x_test, y_test = next(gen_data)\n",
        "      while not 1 in y_test:\n",
        "          x_test, y_test = next(gen_data)\n",
        "      predicts= model.predict(x_test)\n",
        "      predictions.append(predicts)\n",
        "      y_test_.append(y_test)\n",
        "\n",
        "    labels = {0 : 'Handstart (HS)',\n",
        "                   1 : \"Grasping (GS)\",\n",
        "                   2 : \"Lift (LT)\",\n",
        "                   3 : \"Hold (HD)\",\n",
        "                   4 : \"Replace (RP)\",\n",
        "                   5 : \"Release (RL)\"}\n",
        "\n",
        "    for pred in predictions[0]:\n",
        "      list_to_np =np.asarray(np.round(pred))\n",
        "      pos_indices = np.where(list_to_np == 1)[1]\n",
        "      if len(pos_indices) ==0:\n",
        "          predicted_labels.append('No Movement')\n",
        "      else:\n",
        "          list_labeled_mov = []\n",
        "          for index in pos_indices:\n",
        "              list_labeled_mov.append(labels[index])\n",
        "          predicted_labels.append(list_labeled_mov)\n",
        "    return predicted_labels, y_test_\n"
      ],
      "id": "Z9F-RcIsJLR9",
      "execution_count": null,
      "outputs": []
    },
    {
      "cell_type": "code",
      "metadata": {
        "id": "rK24pqNpEY9R"
      },
      "source": [
        "\n",
        "#@title Get the segment, preprocess it, scale it, generator, feed it to the model, translate labels (make_prediction function)\n"
      ],
      "id": "rK24pqNpEY9R",
      "execution_count": null,
      "outputs": []
    },
    {
      "cell_type": "code",
      "metadata": {
        "id": "6x54E7RbU-dZ"
      },
      "source": [
        "def grab(subj_num,):\n",
        "  X ,y = loading_one_subject(subj_num)\n",
        "  X, y = preprocess_data(X,y)\n",
        "  xtrain, xval, xtest, ytrain, yval, ytest = custom_train_test_split(X, y)\n",
        "  X_test_scaled = data_scaler_test(xtest)\n",
        "  gen_data = testing_generator(xtest, ytest, 1000)\n",
        "\n",
        "  \n"
      ],
      "id": "6x54E7RbU-dZ",
      "execution_count": null,
      "outputs": []
    },
    {
      "cell_type": "code",
      "metadata": {
        "id": "P4kvS2Xw2VhS"
      },
      "source": [
        "#useless functions for now\n",
        "def tester_generator(xtest, time_steps= 1000, subsample=50):\n",
        "    while 1:\n",
        "        batch_size = 1\n",
        "        x_time_data = np.zeros((batch_size, time_steps//subsample, 32))\n",
        "        for i in range(batch_size):\n",
        "            random_index = np.random.randint(0, len(xtest)-time_steps)\n",
        "            x_time_data[i] = xtest[random_index:random_index+time_steps:subsample]\n",
        "        yield x_time_data.reshape((x_time_data.shape[0],x_time_data.shape[1], x_time_data.shape[2], 1))\n",
        "\n",
        "\n",
        "\n",
        "def prediction_test(df, num_test):\n",
        "  predictions = []\n",
        "  num_test = num_test\n",
        "  for i in range(num_test):\n",
        "      x_test= next(df)\n",
        "      predict = model.predict(x_test)\n",
        "      predictions.append(predict)\n",
        "  l=[\"Handstart (HS)\",\"Grasping (GS)\",\"Lift (LT)\",\"Hold (HD)\",\"Replace (RP)\",\"Release (RL)\"]\n",
        "  results=[]\n",
        "  for elem in np.round(predictions):\n",
        "    if elem[0][0] == 1:\n",
        "       results.append(l[0])\n",
        "    if elem[0][1] ==1:\n",
        "      results.append(l[1])\n",
        "    if elem[0][2] ==1:\n",
        "      results.append(l[2])\n",
        "    if elem[0][3] ==1:\n",
        "      results.append(l[3])\n",
        "    if elem[0][4] ==1:\n",
        "      results.append(l[4])\n",
        "    if elem[0][5] ==1:\n",
        "      results.append(l[5])\n",
        "  return np.reshape(results,(num_test,6))\n",
        "\n",
        "\n",
        "\n",
        "def scores(gen_data, num_test):\n",
        "  #scores = []\n",
        "  predictions=[]\n",
        "  x_test_=[]\n",
        "  y_test_=[]\n",
        "  num_test = num_test\n",
        "  for i in range(num_test):\n",
        "      x_test, y_test = next(gen_data)\n",
        "      while not 1 in y_test:\n",
        "          x_test, y_test = next(gen_data)\n",
        "      #score = model.evaluate(x_test, y_test, verbose=0)\n",
        "      predicts= model.predict(x_test)\n",
        "      predictions.append(predicts)\n",
        "      #scores.append(score[1])\n",
        "      x_test_.append(x_test)\n",
        "      y_test_.append(y_test)\n",
        "  #scores = np.asarray(scores)\n",
        "  #np.mean(scores),\n",
        "  return  x_test_, y_test_ , predictions\n",
        "  "
      ],
      "id": "P4kvS2Xw2VhS",
      "execution_count": null,
      "outputs": []
    },
    {
      "cell_type": "code",
      "metadata": {
        "id": "2LIayYHDZHrg"
      },
      "source": [
        ""
      ],
      "id": "2LIayYHDZHrg",
      "execution_count": null,
      "outputs": []
    },
    {
      "cell_type": "code",
      "metadata": {
        "id": "Cbf9GBSneDr7"
      },
      "source": [
        ""
      ],
      "id": "Cbf9GBSneDr7",
      "execution_count": null,
      "outputs": []
    }
  ]
}