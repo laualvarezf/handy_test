{
  "nbformat": 4,
  "nbformat_minor": 5,
  "metadata": {
    "kernelspec": {
      "display_name": "Python 3",
      "language": "python",
      "name": "python3"
    },
    "language_info": {
      "codemirror_mode": {
        "name": "ipython",
        "version": 3
      },
      "file_extension": ".py",
      "mimetype": "text/x-python",
      "name": "python",
      "nbconvert_exporter": "python",
      "pygments_lexer": "ipython3",
      "version": "3.8.6"
    },
    "toc": {
      "base_numbering": 1,
      "nav_menu": {},
      "number_sections": true,
      "sideBar": true,
      "skip_h1_title": false,
      "title_cell": "Table of Contents",
      "title_sidebar": "Contents",
      "toc_cell": false,
      "toc_position": {},
      "toc_section_display": true,
      "toc_window_display": false
    },
    "colab": {
      "name": "Hand_Motions_second_draft.ipynb",
      "provenance": [],
      "collapsed_sections": []
    },
    "accelerator": "GPU"
  },
  "cells": [
    {
      "cell_type": "code",
      "metadata": {
        "colab": {
          "base_uri": "https://localhost:8080/"
        },
        "id": "VZUs7sJhLGcB",
        "outputId": "fb9dca70-ecfc-4a5d-8825-e1d4925a487d"
      },
      "source": [
        "from google.colab import drive\n",
        "drive.mount('/content/drive/')"
      ],
      "id": "VZUs7sJhLGcB",
      "execution_count": 16,
      "outputs": [
        {
          "output_type": "stream",
          "text": [
            "Mounted at /content/drive/\n"
          ],
          "name": "stdout"
        }
      ]
    },
    {
      "cell_type": "code",
      "metadata": {
        "colab": {
          "base_uri": "https://localhost:8080/"
        },
        "id": "kwqG8R33N5M-",
        "outputId": "2e9b6635-e806-4ed2-9621-9973bbc08f64"
      },
      "source": [
        "! pip install mne"
      ],
      "id": "kwqG8R33N5M-",
      "execution_count": null,
      "outputs": [
        {
          "output_type": "stream",
          "text": [
            "Requirement already satisfied: mne in /usr/local/lib/python3.7/dist-packages (0.22.0)\n",
            "Requirement already satisfied: numpy>=1.11.3 in /usr/local/lib/python3.7/dist-packages (from mne) (1.19.5)\n",
            "Requirement already satisfied: scipy>=0.17.1 in /usr/local/lib/python3.7/dist-packages (from mne) (1.4.1)\n"
          ],
          "name": "stdout"
        }
      ]
    },
    {
      "cell_type": "code",
      "metadata": {
        "id": "representative-mapping"
      },
      "source": [
        "import pandas as pd\n",
        "from glob import glob\n",
        "import numpy as np\n",
        "import os\n",
        "\n",
        "import pywt\n",
        "import matplotlib.pyplot as plt\n",
        "from sklearn.preprocessing import StandardScaler\n",
        "from google.cloud import storage\n",
        "from tensorflow.keras.models import Sequential\n",
        "from tensorflow.keras.layers import Dense, Dropout\n",
        "from tensorflow.keras.layers import Embedding\n",
        "from tensorflow.keras.layers import LSTM, BatchNormalization, Conv2D, Flatten, MaxPooling2D, Dropout\n",
        "from tensorflow.keras.optimizers import Adam\n",
        "from tensorflow.keras.callbacks import EarlyStopping\n",
        "from sklearn.metrics import roc_curve, auc, roc_auc_score\n",
        "from sklearn.metrics import multilabel_confusion_matrix, classification_report\n",
        "import time\n"
      ],
      "id": "representative-mapping",
      "execution_count": 17,
      "outputs": []
    },
    {
      "cell_type": "markdown",
      "metadata": {
        "id": "fourth-milwaukee"
      },
      "source": [
        "## Functions to read data and load it"
      ],
      "id": "fourth-milwaukee"
    },
    {
      "cell_type": "code",
      "metadata": {
        "id": "typical-favorite"
      },
      "source": [
        "\n",
        "\n",
        "def prepare_data_train(fname):\n",
        "    \"\"\" read and prepare training data \"\"\"\n",
        "    # Read data\n",
        "    data = pd.read_csv(fname)\n",
        "    # events file\n",
        "    events_fname = fname.replace('_data','_events')\n",
        "    # read event file\n",
        "    labels= pd.read_csv(events_fname)\n",
        "    clean=data.drop(['id' ], axis=1)#remove id\n",
        "    labels=labels.drop(['id' ], axis=1)#remove id\n",
        "    return  clean,labels"
      ],
      "id": "typical-favorite",
      "execution_count": 18,
      "outputs": []
    },
    {
      "cell_type": "code",
      "metadata": {
        "id": "processed-frame"
      },
      "source": [
        "def loading_one_subject(subject_number):\n",
        "    y_raw= []\n",
        "    raw = []\n",
        "    fnames =  sorted(glob('/content/drive/MyDrive/train/subj%d_series*_data.csv' % (subject_number)))\n",
        "    for fname in fnames:\n",
        "        data,labels=prepare_data_train(fname)\n",
        "        raw.append(data)\n",
        "        y_raw.append(labels)\n",
        "    X = pd.concat(raw).reset_index()\n",
        "    X.drop(columns=\"index\", inplace=True)\n",
        "    y = pd.concat(y_raw).reset_index()\n",
        "    y.drop(columns=\"index\", inplace=True)\n",
        "    return X, y"
      ],
      "id": "processed-frame",
      "execution_count": 19,
      "outputs": []
    },
    {
      "cell_type": "code",
      "metadata": {
        "id": "level-gambling"
      },
      "source": [
        "X, y = loading_one_subject(1) "
      ],
      "id": "level-gambling",
      "execution_count": 20,
      "outputs": []
    },
    {
      "cell_type": "code",
      "metadata": {
        "colab": {
          "base_uri": "https://localhost:8080/"
        },
        "id": "stopped-intervention",
        "outputId": "ea48694c-e494-47fe-8277-08aaf575df44"
      },
      "source": [
        "X.shape, y.shape\n"
      ],
      "id": "stopped-intervention",
      "execution_count": 21,
      "outputs": [
        {
          "output_type": "execute_result",
          "data": {
            "text/plain": [
              "((1422392, 32), (1422392, 6))"
            ]
          },
          "metadata": {
            "tags": []
          },
          "execution_count": 21
        }
      ]
    },
    {
      "cell_type": "code",
      "metadata": {
        "colab": {
          "base_uri": "https://localhost:8080/"
        },
        "id": "indirect-development",
        "outputId": "c9790abc-90f7-42dc-fdf5-0dc0f83602cd"
      },
      "source": [
        "type(X),type(y)"
      ],
      "id": "indirect-development",
      "execution_count": 22,
      "outputs": [
        {
          "output_type": "execute_result",
          "data": {
            "text/plain": [
              "(pandas.core.frame.DataFrame, pandas.core.frame.DataFrame)"
            ]
          },
          "metadata": {
            "tags": []
          },
          "execution_count": 22
        }
      ]
    },
    {
      "cell_type": "markdown",
      "metadata": {
        "id": "cubic-approach"
      },
      "source": [
        "## Function for mean absolute deviation of a signal and wavelet_denoising"
      ],
      "id": "cubic-approach"
    },
    {
      "cell_type": "code",
      "metadata": {
        "id": "moderate-humanity"
      },
      "source": [
        "def convert_df_to_numpy(df):\n",
        "    return np.asarray(df.astype(float))\n",
        "  "
      ],
      "id": "moderate-humanity",
      "execution_count": 23,
      "outputs": []
    },
    {
      "cell_type": "code",
      "metadata": {
        "id": "greatest-start"
      },
      "source": [
        "def madev(d, axis=None):\n",
        "    \"\"\" Mean absolute deviation of a signal \"\"\"\n",
        "    return np.mean(np.absolute(d - np.mean(d, axis)), axis)"
      ],
      "id": "greatest-start",
      "execution_count": 24,
      "outputs": []
    },
    {
      "cell_type": "code",
      "metadata": {
        "id": "organic-thanksgiving"
      },
      "source": [
        "def wavelet_denoising(X, wavelet='db2', level=3):\n",
        "    coeff = pywt.wavedec(X, wavelet, mode=\"per\")\n",
        "    sigma = (1/0.6745) * madev(coeff[-level])\n",
        "    uthresh = sigma * np.sqrt(2 * np.log(len(X)))\n",
        "    coeff[1:] = (pywt.threshold(i, value=uthresh, mode='hard') for i in coeff[1:])\n",
        "    return pywt.waverec(coeff, wavelet, mode='per')"
      ],
      "id": "organic-thanksgiving",
      "execution_count": 25,
      "outputs": []
    },
    {
      "cell_type": "code",
      "metadata": {
        "id": "welcome-daughter"
      },
      "source": [
        "def preprocess_data(X, y):\n",
        "    X= convert_df_to_numpy(X)\n",
        "    y=convert_df_to_numpy(y)\n",
        "    X=wavelet_denoising(X)\n",
        "    return X, y"
      ],
      "id": "welcome-daughter",
      "execution_count": 26,
      "outputs": []
    },
    {
      "cell_type": "code",
      "metadata": {
        "id": "naughty-discount"
      },
      "source": [
        "X, y = preprocess_data(X,y)"
      ],
      "id": "naughty-discount",
      "execution_count": 27,
      "outputs": []
    },
    {
      "cell_type": "code",
      "metadata": {
        "scrolled": true,
        "colab": {
          "base_uri": "https://localhost:8080/"
        },
        "id": "married-farmer",
        "outputId": "bb324fb9-82f1-46e5-b080-177fee19779d"
      },
      "source": [
        "X.shape, y.shape"
      ],
      "id": "married-farmer",
      "execution_count": 28,
      "outputs": [
        {
          "output_type": "execute_result",
          "data": {
            "text/plain": [
              "((1422392, 32), (1422392, 6))"
            ]
          },
          "metadata": {
            "tags": []
          },
          "execution_count": 28
        }
      ]
    },
    {
      "cell_type": "code",
      "metadata": {
        "colab": {
          "base_uri": "https://localhost:8080/"
        },
        "id": "theoretical-uruguay",
        "outputId": "6aa03a53-0531-4a3c-d577-39b9bc872798"
      },
      "source": [
        "type(X), type(y)"
      ],
      "id": "theoretical-uruguay",
      "execution_count": 29,
      "outputs": [
        {
          "output_type": "execute_result",
          "data": {
            "text/plain": [
              "(numpy.ndarray, numpy.ndarray)"
            ]
          },
          "metadata": {
            "tags": []
          },
          "execution_count": 29
        }
      ]
    },
    {
      "cell_type": "markdown",
      "metadata": {
        "id": "coordinated-uganda"
      },
      "source": [
        "## Visualizing a signal before and after wavelet denoising"
      ],
      "id": "coordinated-uganda"
    },
    {
      "cell_type": "code",
      "metadata": {
        "id": "postal-disorder"
      },
      "source": [
        "#signal=pd.read_csv('../raw_date/train/subj1_series1_data.csv')\n",
        "#signal = signal.drop(\"id\", axis=1)\n",
        "#filtered = wavelet_denoising(signal, wavelet='db2', level=3)\n",
        "\n",
        "#import matplotlib.pyplot as plt\n",
        "#fig, ax = plt.subplots(figsize=(8,5))\n",
        "#ax.plot(signal.iloc[:10000,1], label='signal', color=\"b\", alpha=0.5,)\n",
        "#ax.plot(filtered[:10000,1], label='reconstructed signal',color=\"k\")\n",
        "#ax.legend(loc='upper left')\n",
        "#ax.set_title('Denoising with DWT')\n",
        "#plt.show()"
      ],
      "id": "postal-disorder",
      "execution_count": 30,
      "outputs": []
    },
    {
      "cell_type": "markdown",
      "metadata": {
        "id": "lasting-intervention"
      },
      "source": [
        "## Test splitting data"
      ],
      "id": "lasting-intervention"
    },
    {
      "cell_type": "code",
      "metadata": {
        "id": "prostate-thong"
      },
      "source": [
        "def custom_train_test_split(X, y):\n",
        "     \n",
        "    splitrate=-X.shape[0]//5*2\n",
        "    xval=X[splitrate:splitrate//2]\n",
        "    yval=y[splitrate:splitrate//2]\n",
        "    xtest=X[splitrate//2:]\n",
        "    ytest=y[splitrate//2:]\n",
        "    xtrain=X[:splitrate]\n",
        "    ytrain=y[:splitrate]\n",
        "    \n",
        "    return xtrain, xval, xtest, ytrain, yval, ytest "
      ],
      "id": "prostate-thong",
      "execution_count": 31,
      "outputs": []
    },
    {
      "cell_type": "code",
      "metadata": {
        "id": "weekly-rebel"
      },
      "source": [
        "# splitting the data \n",
        "xtrain, xval, xtest, ytrain, yval, ytest = custom_train_test_split(X, y)"
      ],
      "id": "weekly-rebel",
      "execution_count": 32,
      "outputs": []
    },
    {
      "cell_type": "code",
      "metadata": {
        "colab": {
          "base_uri": "https://localhost:8080/"
        },
        "id": "wound-heart",
        "outputId": "78e2063d-cbd5-43bb-beb2-cc9c9427543e"
      },
      "source": [
        "xtrain.shape, xval.shape, xtest.shape, ytrain.shape, yval.shape, ytest.shape"
      ],
      "id": "wound-heart",
      "execution_count": 33,
      "outputs": [
        {
          "output_type": "execute_result",
          "data": {
            "text/plain": [
              "((853434, 32),\n",
              " (284479, 32),\n",
              " (284479, 32),\n",
              " (853434, 6),\n",
              " (284479, 6),\n",
              " (284479, 6))"
            ]
          },
          "metadata": {
            "tags": []
          },
          "execution_count": 33
        }
      ]
    },
    {
      "cell_type": "code",
      "metadata": {
        "colab": {
          "base_uri": "https://localhost:8080/"
        },
        "id": "available-plasma",
        "outputId": "06cb741e-11b7-476a-cda2-61211f756f87"
      },
      "source": [
        "type(xtrain), type(xval), type(xtest), type(ytrain), type(yval), type(ytest)"
      ],
      "id": "available-plasma",
      "execution_count": 34,
      "outputs": [
        {
          "output_type": "execute_result",
          "data": {
            "text/plain": [
              "(numpy.ndarray,\n",
              " numpy.ndarray,\n",
              " numpy.ndarray,\n",
              " numpy.ndarray,\n",
              " numpy.ndarray,\n",
              " numpy.ndarray)"
            ]
          },
          "metadata": {
            "tags": []
          },
          "execution_count": 34
        }
      ]
    },
    {
      "cell_type": "markdown",
      "metadata": {
        "id": "taken-raleigh"
      },
      "source": [
        "## Scaling data"
      ],
      "id": "taken-raleigh"
    },
    {
      "cell_type": "code",
      "metadata": {
        "id": "solved-bracket"
      },
      "source": [
        "scaler= StandardScaler()\n",
        "\n",
        "def data_scaler_train(X):\n",
        "    X_prep=scaler.fit_transform(X)\n",
        "    #do here your preprocessing\n",
        "    return X_prep\n",
        "def data_scaler_test(X):\n",
        "    X_prep=scaler.transform(X)\n",
        "    #do here your preprocessing\n",
        "    return X_prep"
      ],
      "id": "solved-bracket",
      "execution_count": 41,
      "outputs": []
    },
    {
      "cell_type": "code",
      "metadata": {
        "id": "innocent-syndication"
      },
      "source": [
        "X_train_scaled= data_scaler_train(xtrain)\n",
        "X_val_scaled= data_scaler_test(xval)"
      ],
      "id": "innocent-syndication",
      "execution_count": 42,
      "outputs": []
    },
    {
      "cell_type": "code",
      "metadata": {
        "colab": {
          "base_uri": "https://localhost:8080/"
        },
        "id": "posted-directory",
        "outputId": "5fad11ae-f5f5-4963-ed4d-2818e131646a"
      },
      "source": [
        "X_train_scaled.shape, X_val_scaled.shape"
      ],
      "id": "posted-directory",
      "execution_count": 43,
      "outputs": [
        {
          "output_type": "execute_result",
          "data": {
            "text/plain": [
              "((853434, 32), (284479, 32))"
            ]
          },
          "metadata": {
            "tags": []
          },
          "execution_count": 43
        }
      ]
    },
    {
      "cell_type": "code",
      "metadata": {
        "colab": {
          "base_uri": "https://localhost:8080/"
        },
        "id": "portuguese-robin",
        "outputId": "cf936331-76b2-48fc-c5a9-42181d57c1ca"
      },
      "source": [
        "type(X_train_scaled), type(X_val_scaled)"
      ],
      "id": "portuguese-robin",
      "execution_count": 44,
      "outputs": [
        {
          "output_type": "execute_result",
          "data": {
            "text/plain": [
              "(numpy.ndarray, numpy.ndarray)"
            ]
          },
          "metadata": {
            "tags": []
          },
          "execution_count": 44
        }
      ]
    },
    {
      "cell_type": "markdown",
      "metadata": {
        "id": "italian-sponsorship"
      },
      "source": [
        "## Generators"
      ],
      "id": "italian-sponsorship"
    },
    {
      "cell_type": "code",
      "metadata": {
        "id": "studied-index"
      },
      "source": [
        "time_steps = 1000\n",
        "subsample = 50"
      ],
      "id": "studied-index",
      "execution_count": 45,
      "outputs": []
    },
    {
      "cell_type": "code",
      "metadata": {
        "id": "unlike-services"
      },
      "source": [
        "def generator(batch_size, xtrain, ytrain):\n",
        "    while 1:\n",
        "        x_time_data = np.zeros((batch_size, time_steps//subsample, 32))\n",
        "        yy = []\n",
        "        for i in range(batch_size):\n",
        "            random_index = np.random.randint(0, len(xtrain)-time_steps)\n",
        "            x_time_data[i] = xtrain[random_index:random_index+time_steps:subsample]\n",
        "            yy.append(ytrain[random_index + time_steps])\n",
        "        yy = np.asarray(yy)\n",
        "        yield x_time_data.reshape((x_time_data.shape[0],x_time_data.shape[1],  x_time_data.shape[2],1)), yy"
      ],
      "id": "unlike-services",
      "execution_count": 46,
      "outputs": []
    },
    {
      "cell_type": "code",
      "metadata": {
        "id": "disturbed-mentor"
      },
      "source": [
        "def valgenerator(xval, yval):\n",
        "    while 1:\n",
        "        batch_size=32\n",
        "        x_time_data = np.zeros((batch_size, time_steps//subsample, 32))\n",
        "        yy = []\n",
        "        for i in range(batch_size):\n",
        "            random_index = np.random.randint(0, len(xval)-time_steps)\n",
        "            x_time_data[i] = xval[random_index:random_index+time_steps:subsample]\n",
        "            yy.append(yval[random_index + time_steps])\n",
        "        yy = np.asarray(yy)\n",
        "        yield x_time_data.reshape((x_time_data.shape[0],x_time_data.shape[1], x_time_data.shape[2],1)), yy"
      ],
      "id": "disturbed-mentor",
      "execution_count": 47,
      "outputs": []
    },
    {
      "cell_type": "markdown",
      "metadata": {
        "id": "sized-operator"
      },
      "source": [
        "# CNN Model "
      ],
      "id": "sized-operator"
    },
    {
      "cell_type": "code",
      "metadata": {
        "id": "expected-husband"
      },
      "source": [
        "def CNN_model():\n",
        "  \n",
        "  load = 1\n",
        "  model = Sequential()\n",
        "\n",
        "  model.add(Conv2D(filters = 64, kernel_size = (7,7), padding = \"same\", activation = \"relu\", input_shape = ((time_steps//subsample), 32, 1)))\n",
        "  model.add(BatchNormalization())\n",
        "  #model.add(MaxPooling2D(pool_size = (3,3)))\n",
        "  model.add(Conv2D(filters = 64, kernel_size = (5,5), padding = \"same\", activation = \"relu\", input_shape = ((time_steps//subsample), 32, 1)))\n",
        "  model.add(BatchNormalization())\n",
        "  #model.add(MaxPooling2D(pool_size = (3,3)))\n",
        "  model.add(Conv2D(filters = 64, kernel_size = (3,3), padding = \"same\", activation = \"relu\", input_shape = ((time_steps//subsample), 32, 1)))\n",
        "  model.add(BatchNormalization())\n",
        "  #model.add(MaxPooling2D(pool_size = (3,3)))\n",
        "  model.add(Flatten())\n",
        "  #model.add(Dropout(0.2))\n",
        "  model.add(Dense(32, activation = \"relu\"))\n",
        "  model.add(BatchNormalization())\n",
        "  # model.add(Dropout(0.2))\n",
        "  model.add(Dense(6, activation = \"sigmoid\"))\n",
        "\n",
        "\n",
        "  adam = Adam(lr = 0.0001)\n",
        "\n",
        "  model.compile(optimizer = adam, loss = \"binary_crossentropy\", metrics = ['accuracy','mse'])\n",
        "\n",
        "  return model"
      ],
      "id": "expected-husband",
      "execution_count": 49,
      "outputs": []
    },
    {
      "cell_type": "code",
      "metadata": {
        "id": "T5Vc2Tn0rvCo"
      },
      "source": [
        "model= CNN_model()"
      ],
      "id": "T5Vc2Tn0rvCo",
      "execution_count": 50,
      "outputs": []
    },
    {
      "cell_type": "code",
      "metadata": {
        "colab": {
          "base_uri": "https://localhost:8080/"
        },
        "id": "informational-stomach",
        "outputId": "141f93a5-f85a-4259-cfda-3cd896351d96"
      },
      "source": [
        "es= EarlyStopping(patience=2)\n",
        "history =model.fit_generator(generator(32,X_train_scaled, ytrain), steps_per_epoch = 600, epochs = 50,validation_data=valgenerator(X_val_scaled, yval),\n",
        "                              validation_steps=200,callbacks=[es])"
      ],
      "id": "informational-stomach",
      "execution_count": 51,
      "outputs": [
        {
          "output_type": "stream",
          "text": [
            "/usr/local/lib/python3.7/dist-packages/tensorflow/python/keras/engine/training.py:1844: UserWarning: `Model.fit_generator` is deprecated and will be removed in a future version. Please use `Model.fit`, which supports generators.\n",
            "  warnings.warn('`Model.fit_generator` is deprecated and '\n"
          ],
          "name": "stderr"
        },
        {
          "output_type": "stream",
          "text": [
            "Epoch 1/50\n",
            "600/600 [==============================] - 41s 19ms/step - loss: 0.6863 - accuracy: 0.2224 - mse: 0.2445 - val_loss: 0.5878 - val_accuracy: 0.3281 - val_mse: 0.1981\n",
            "Epoch 2/50\n",
            "600/600 [==============================] - 11s 18ms/step - loss: 0.5508 - accuracy: 0.2670 - mse: 0.1803 - val_loss: 0.4436 - val_accuracy: 0.3116 - val_mse: 0.1299\n",
            "Epoch 3/50\n",
            "600/600 [==============================] - 11s 18ms/step - loss: 0.3745 - accuracy: 0.2714 - mse: 0.1006 - val_loss: 0.2624 - val_accuracy: 0.2867 - val_mse: 0.0572\n",
            "Epoch 4/50\n",
            "600/600 [==============================] - 11s 18ms/step - loss: 0.2314 - accuracy: 0.2837 - mse: 0.0486 - val_loss: 0.1564 - val_accuracy: 0.2209 - val_mse: 0.0275\n",
            "Epoch 5/50\n",
            "600/600 [==============================] - 11s 18ms/step - loss: 0.1530 - accuracy: 0.3129 - mse: 0.0289 - val_loss: 0.1152 - val_accuracy: 0.3166 - val_mse: 0.0201\n",
            "Epoch 6/50\n",
            "600/600 [==============================] - 11s 18ms/step - loss: 0.1123 - accuracy: 0.3351 - mse: 0.0216 - val_loss: 0.0928 - val_accuracy: 0.3527 - val_mse: 0.0166\n",
            "Epoch 7/50\n",
            "600/600 [==============================] - 11s 18ms/step - loss: 0.0909 - accuracy: 0.3785 - mse: 0.0190 - val_loss: 0.0739 - val_accuracy: 0.3587 - val_mse: 0.0154\n",
            "Epoch 8/50\n",
            "600/600 [==============================] - 11s 18ms/step - loss: 0.0812 - accuracy: 0.4081 - mse: 0.0183 - val_loss: 0.0705 - val_accuracy: 0.3902 - val_mse: 0.0150\n",
            "Epoch 9/50\n",
            "600/600 [==============================] - 11s 18ms/step - loss: 0.0727 - accuracy: 0.4051 - mse: 0.0172 - val_loss: 0.0643 - val_accuracy: 0.3817 - val_mse: 0.0148\n",
            "Epoch 10/50\n",
            "600/600 [==============================] - 11s 18ms/step - loss: 0.0674 - accuracy: 0.4050 - mse: 0.0166 - val_loss: 0.0621 - val_accuracy: 0.3186 - val_mse: 0.0142\n",
            "Epoch 11/50\n",
            "600/600 [==============================] - 11s 18ms/step - loss: 0.0642 - accuracy: 0.4401 - mse: 0.0160 - val_loss: 0.0647 - val_accuracy: 0.3345 - val_mse: 0.0154\n",
            "Epoch 12/50\n",
            "600/600 [==============================] - 11s 18ms/step - loss: 0.0569 - accuracy: 0.4448 - mse: 0.0145 - val_loss: 0.0649 - val_accuracy: 0.3453 - val_mse: 0.0156\n"
          ],
          "name": "stdout"
        }
      ]
    },
    {
      "cell_type": "code",
      "metadata": {
        "id": "worse-minute"
      },
      "source": [
        "def plot_training_history(history):\n",
        "    acc = history.history['accuracy']\n",
        "    loss = history.history['loss']\n",
        "    val_acc = history.history['val_accuracy']\n",
        "    val_loss = history.history['val_loss']\n",
        "    epochs = range(len(acc))\n",
        " \n",
        "    plt.figure(figsize=(15, 6))\n",
        "    plt.subplot(1, 2, 1)\n",
        "    plt.plot(epochs, acc, 'b', label='Training acc',linewidth=2)\n",
        "    plt.plot(epochs, val_acc, 'r--', label='Validation acc',linewidth=2)\n",
        "    plt.title('Training  accuracy')\n",
        "    plt.legend()\n",
        " \n",
        "    plt.subplot(1, 2, 2)\n",
        "    plt.plot(epochs, loss, 'b', label='Training loss')\n",
        "    plt.plot(epochs, val_loss, 'k', label='Validationloss ')\n",
        "    plt.title('Training loss')\n",
        "    plt.legend()\n",
        " \n",
        "    plt.show()\n",
        "plot_training_history(history)\n",
        "\n",
        "\n"
      ],
      "id": "worse-minute",
      "execution_count": null,
      "outputs": []
    },
    {
      "cell_type": "code",
      "metadata": {
        "id": "IRxXcT3El4Cz"
      },
      "source": [
        "time_frame =1000\n",
        "steps=50"
      ],
      "id": "IRxXcT3El4Cz",
      "execution_count": null,
      "outputs": []
    },
    {
      "cell_type": "code",
      "metadata": {
        "id": "f0PY9IZkowJ8"
      },
      "source": [
        "def test_generator(xtest, ytest):\n",
        "    while 1:\n",
        "        batch_size = 32\n",
        "        x_time_data = np.zeros((batch_size, time_frame//steps, 32))\n",
        "        yy = []\n",
        "        for i in range(batch_size):\n",
        "            random_index = np.random.randint(0, len(xtest)-time_frame)\n",
        "            x_time_data[i] = xtest[random_index:random_index+time_frame:steps]\n",
        "            yy.append(ytest[random_index + time_frame])\n",
        "        yy = np.asarray(yy)\n",
        "        yield x_time_data.reshape((x_time_data.shape[0],x_time_data.shape[1], x_time_data.shape[2], 1)), yy"
      ],
      "id": "f0PY9IZkowJ8",
      "execution_count": null,
      "outputs": []
    },
    {
      "cell_type": "code",
      "metadata": {
        "id": "4eloRdQMpBC3"
      },
      "source": [
        "#final generator for testing \n",
        "def batching(xtest, ytest):\n",
        "  time_frame =1000\n",
        "  steps=50  \n",
        "  batch_size = int(len(xtest)/time_frame)\n",
        "  \n",
        "  x_time_data = np.zeros((batch_size, time_frame//steps, 32))\n",
        "  index = 0\n",
        "  yy = []\n",
        "\n",
        "  for i in range(batch_size):\n",
        "\n",
        "    x_time_data[i] = xtest[index:index+time_frame:steps]\n",
        "            \n",
        "    yy.append(ytest[index + time_frame -1])\n",
        "\n",
        "    index+=time_frame\n",
        "\n",
        "  yy = np.asarray(yy)\n",
        "\n",
        "  return  x_time_data.reshape((x_time_data.shape[0],x_time_data.shape[1], x_time_data.shape[2], 1)), yy"
      ],
      "id": "4eloRdQMpBC3",
      "execution_count": 235,
      "outputs": []
    },
    {
      "cell_type": "code",
      "metadata": {
        "id": "Y6A5ffXkpY4t"
      },
      "source": [
        "X_test_scaled = data_scaler_test(xtest)"
      ],
      "id": "Y6A5ffXkpY4t",
      "execution_count": 236,
      "outputs": []
    },
    {
      "cell_type": "code",
      "metadata": {
        "id": "kj2xfEENeWs7"
      },
      "source": [
        "x, y = batching(X_test_scaled[:284000], ytest[:284000])"
      ],
      "id": "kj2xfEENeWs7",
      "execution_count": 237,
      "outputs": []
    },
    {
      "cell_type": "code",
      "metadata": {
        "colab": {
          "base_uri": "https://localhost:8080/"
        },
        "id": "Aj_d-Y9yfi_C",
        "outputId": "0173f4e7-056a-46de-9f6c-d1b716c7106c"
      },
      "source": [
        "len(y)"
      ],
      "id": "Aj_d-Y9yfi_C",
      "execution_count": 239,
      "outputs": [
        {
          "output_type": "execute_result",
          "data": {
            "text/plain": [
              "284"
            ]
          },
          "metadata": {
            "tags": []
          },
          "execution_count": 239
        }
      ]
    },
    {
      "cell_type": "code",
      "metadata": {
        "id": "ElUtJ0GUXhZ7"
      },
      "source": [
        "my_batch_x, my_batch_y= batching(X_test_scaled,ytest)"
      ],
      "id": "ElUtJ0GUXhZ7",
      "execution_count": 225,
      "outputs": []
    },
    {
      "cell_type": "code",
      "metadata": {
        "colab": {
          "base_uri": "https://localhost:8080/"
        },
        "id": "L3Nzx5JzYz3_",
        "outputId": "45f25535-f453-4871-ccbe-30734ce2763b"
      },
      "source": [
        "len(my_batch_x)"
      ],
      "id": "L3Nzx5JzYz3_",
      "execution_count": 219,
      "outputs": [
        {
          "output_type": "execute_result",
          "data": {
            "text/plain": [
              "5"
            ]
          },
          "metadata": {
            "tags": []
          },
          "execution_count": 219
        }
      ]
    },
    {
      "cell_type": "code",
      "metadata": {
        "id": "jP0ZZNvAZRsL"
      },
      "source": [
        "my_batch_predictions= model.predict(my_batch_x)"
      ],
      "id": "jP0ZZNvAZRsL",
      "execution_count": 194,
      "outputs": []
    },
    {
      "cell_type": "code",
      "metadata": {
        "id": "d2Crb23CZzLr"
      },
      "source": [
        "my_batch_first_pred= my_batch_predictions[0]"
      ],
      "id": "d2Crb23CZzLr",
      "execution_count": 197,
      "outputs": []
    },
    {
      "cell_type": "code",
      "metadata": {
        "id": "db7sHzMyaCSC"
      },
      "source": [
        "my_batch_first_pred_rounded = my_batch_first_pred.round()"
      ],
      "id": "db7sHzMyaCSC",
      "execution_count": 200,
      "outputs": []
    },
    {
      "cell_type": "code",
      "metadata": {
        "colab": {
          "base_uri": "https://localhost:8080/"
        },
        "id": "ZDWRg3GRaCD9",
        "outputId": "fc6dcb47-0559-42c8-f205-3482fde5368c"
      },
      "source": [
        "np.where(my_batch_first_pred_rounded == 1)"
      ],
      "id": "ZDWRg3GRaCD9",
      "execution_count": 201,
      "outputs": [
        {
          "output_type": "execute_result",
          "data": {
            "text/plain": [
              "(array([], dtype=int64),)"
            ]
          },
          "metadata": {
            "tags": []
          },
          "execution_count": 201
        }
      ]
    },
    {
      "cell_type": "code",
      "metadata": {
        "id": "F2x_TryfaB3b"
      },
      "source": [
        "#we can now predict no movement"
      ],
      "id": "F2x_TryfaB3b",
      "execution_count": 196,
      "outputs": []
    },
    {
      "cell_type": "code",
      "metadata": {
        "id": "B7f92xzTaBqJ"
      },
      "source": [
        "my_batch_movement= my_batch_predictions[1]"
      ],
      "id": "B7f92xzTaBqJ",
      "execution_count": 203,
      "outputs": []
    },
    {
      "cell_type": "code",
      "metadata": {
        "id": "y7T7FuniaBfq"
      },
      "source": [
        "my_batch_mov_rounded = my_batch_movement.round()"
      ],
      "id": "y7T7FuniaBfq",
      "execution_count": 205,
      "outputs": []
    },
    {
      "cell_type": "code",
      "metadata": {
        "id": "f_EEnkfQaBUC"
      },
      "source": [
        "mov_indexes = np.where(my_batch_mov_rounded ==1)"
      ],
      "id": "f_EEnkfQaBUC",
      "execution_count": 207,
      "outputs": []
    },
    {
      "cell_type": "code",
      "metadata": {
        "colab": {
          "base_uri": "https://localhost:8080/"
        },
        "id": "mJvzonSfaBIe",
        "outputId": "75fbbe4c-445b-4154-c1de-c9de729da3bf"
      },
      "source": [
        "for i in mov_indexes[0]:\n",
        "  print(i)"
      ],
      "id": "mJvzonSfaBIe",
      "execution_count": 214,
      "outputs": [
        {
          "output_type": "stream",
          "text": [
            "3\n"
          ],
          "name": "stdout"
        }
      ]
    },
    {
      "cell_type": "code",
      "metadata": {
        "id": "lzdpYzUCaA0I"
      },
      "source": [
        " labels = {0 : 'Handstart (HS)',\n",
        "                   1 : \"Grasping (GS)\",\n",
        "                   2 : \"Lift (LT)\",\n",
        "                   3 : \"Hold (HD)\",\n",
        "                   4 : \"Replace (RP)\",\n",
        "                   5 : \"Release (RL)\"}\n"
      ],
      "id": "lzdpYzUCaA0I",
      "execution_count": 215,
      "outputs": []
    },
    {
      "cell_type": "code",
      "metadata": {
        "colab": {
          "base_uri": "https://localhost:8080/"
        },
        "id": "34thPIDYZ_9A",
        "outputId": "ede80952-1cc5-47b6-accb-a803de657fc8"
      },
      "source": [
        "for i in mov_indexes[0]:\n",
        "  print(labels[i])"
      ],
      "id": "34thPIDYZ_9A",
      "execution_count": 216,
      "outputs": [
        {
          "output_type": "stream",
          "text": [
            "Hold (HD)\n"
          ],
          "name": "stdout"
        }
      ]
    },
    {
      "cell_type": "code",
      "metadata": {
        "id": "6tHt-tYIcnOl"
      },
      "source": [
        "def preloaded_predictions():\n",
        "  my_batch_x, my_batch_y= batching(X_test_scaled,ytest)"
      ],
      "id": "6tHt-tYIcnOl",
      "execution_count": null,
      "outputs": []
    },
    {
      "cell_type": "code",
      "metadata": {
        "id": "nwUhxLdgn1UT"
      },
      "source": [
        "#np.round(predictions).flatten().reshape(160000,6)\n",
        "\n",
        "#np.asarray(y_test_).flatten().reshape(160000,6)\n",
        "#l=[\"Handstart (HS)\",\"Grasping (GS)\",\"Lift (LT)\",\"Hold (HD)\",\"Replace (RP)\",\"Release (RL)\"]\n",
        "#print(classification_report(np.asarray(y_test_).flatten().reshape(160000,6), np.round(predictions).flatten().reshape(160000,6), target_names=l))"
      ],
      "id": "nwUhxLdgn1UT",
      "execution_count": null,
      "outputs": []
    },
    {
      "cell_type": "code",
      "metadata": {
        "id": "6uB3b4I3GAhG"
      },
      "source": [
        ""
      ],
      "id": "6uB3b4I3GAhG",
      "execution_count": null,
      "outputs": []
    },
    {
      "cell_type": "markdown",
      "metadata": {
        "id": "Yo4WK6haH532"
      },
      "source": [
        "Predic"
      ],
      "id": "Yo4WK6haH532"
    },
    {
      "cell_type": "code",
      "metadata": {
        "id": "Z9F-RcIsJLR9"
      },
      "source": [
        "def prediction_labels(gen_data):\n",
        "    predicted_labels = []\n",
        "    predictions=[]\n",
        "    y_test_=[]\n",
        "\n",
        "    for i in range(1):\n",
        "      x_test, y_test = next(gen_data)\n",
        "      while not 1 in y_test:\n",
        "          x_test, y_test = next(gen_data)\n",
        "      predicts= model.predict(x_test)\n",
        "      predictions.append(predicts)\n",
        "      y_test_.append(y_test)\n",
        "\n",
        "    labels = {0 : 'Handstart (HS)',\n",
        "                   1 : \"Grasping (GS)\",\n",
        "                   2 : \"Lift (LT)\",\n",
        "                   3 : \"Hold (HD)\",\n",
        "                   4 : \"Replace (RP)\",\n",
        "                   5 : \"Release (RL)\"}\n",
        "\n",
        "    for pred in predictions[0]:\n",
        "      list_to_np =np.asarray(np.round(pred))\n",
        "      pos_indices = np.where(list_to_np == 1)[1]\n",
        "      if len(pos_indices) ==0:\n",
        "          predicted_labels.append('No Movement')\n",
        "      else:\n",
        "          list_labeled_mov = []\n",
        "          for index in pos_indices:\n",
        "              list_labeled_mov.append(labels[index])\n",
        "          predicted_labels.append(list_labeled_mov)\n",
        "    return predicted_labels, y_test_\n"
      ],
      "id": "Z9F-RcIsJLR9",
      "execution_count": 172,
      "outputs": []
    },
    {
      "cell_type": "code",
      "metadata": {
        "id": "rK24pqNpEY9R"
      },
      "source": [
        "\n",
        "#@title Get the segment, preprocess it, scale it, generator, feed it to the model, translate labels (make_prediction function)\n"
      ],
      "id": "rK24pqNpEY9R",
      "execution_count": 3,
      "outputs": []
    },
    {
      "cell_type": "code",
      "metadata": {
        "id": "6x54E7RbU-dZ"
      },
      "source": [
        "def grab(subj_num,):\n",
        "  X ,y = loading_one_subject(subj_num)\n",
        "  X, y = preprocess_data(X,y)\n",
        "  xtrain, xval, xtest, ytrain, yval, ytest = custom_train_test_split(X, y)\n",
        "  X_test_scaled = data_scaler_test(xtest)\n",
        "  gen_data = testing_generator(xtest, ytest, 1000)\n",
        "\n",
        "  \n"
      ],
      "id": "6x54E7RbU-dZ",
      "execution_count": null,
      "outputs": []
    },
    {
      "cell_type": "code",
      "metadata": {
        "id": "P4kvS2Xw2VhS"
      },
      "source": [
        "#useless functions for now\n",
        "def tester_generator(xtest, time_steps= 1000, subsample=50):\n",
        "    while 1:\n",
        "        batch_size = 1\n",
        "        x_time_data = np.zeros((batch_size, time_steps//subsample, 32))\n",
        "        for i in range(batch_size):\n",
        "            random_index = np.random.randint(0, len(xtest)-time_steps)\n",
        "            x_time_data[i] = xtest[random_index:random_index+time_steps:subsample]\n",
        "        yield x_time_data.reshape((x_time_data.shape[0],x_time_data.shape[1], x_time_data.shape[2], 1))\n",
        "\n",
        "\n",
        "\n",
        "def prediction_test(df, num_test):\n",
        "  predictions = []\n",
        "  num_test = num_test\n",
        "  for i in range(num_test):\n",
        "      x_test= next(df)\n",
        "      predict = model.predict(x_test)\n",
        "      predictions.append(predict)\n",
        "  l=[\"Handstart (HS)\",\"Grasping (GS)\",\"Lift (LT)\",\"Hold (HD)\",\"Replace (RP)\",\"Release (RL)\"]\n",
        "  results=[]\n",
        "  for elem in np.round(predictions):\n",
        "    if elem[0][0] == 1:\n",
        "       results.append(l[0])\n",
        "    if elem[0][1] ==1:\n",
        "      results.append(l[1])\n",
        "    if elem[0][2] ==1:\n",
        "      results.append(l[2])\n",
        "    if elem[0][3] ==1:\n",
        "      results.append(l[3])\n",
        "    if elem[0][4] ==1:\n",
        "      results.append(l[4])\n",
        "    if elem[0][5] ==1:\n",
        "      results.append(l[5])\n",
        "  return np.reshape(results,(num_test,6))\n",
        "\n",
        "\n",
        "\n",
        "def scores(gen_data, num_test):\n",
        "  #scores = []\n",
        "  predictions=[]\n",
        "  x_test_=[]\n",
        "  y_test_=[]\n",
        "  num_test = num_test\n",
        "  for i in range(num_test):\n",
        "      x_test, y_test = next(gen_data)\n",
        "      while not 1 in y_test:\n",
        "          x_test, y_test = next(gen_data)\n",
        "      #score = model.evaluate(x_test, y_test, verbose=0)\n",
        "      predicts= model.predict(x_test)\n",
        "      predictions.append(predicts)\n",
        "      #scores.append(score[1])\n",
        "      x_test_.append(x_test)\n",
        "      y_test_.append(y_test)\n",
        "  #scores = np.asarray(scores)\n",
        "  #np.mean(scores),\n",
        "  return  x_test_, y_test_ , predictions\n",
        "  "
      ],
      "id": "P4kvS2Xw2VhS",
      "execution_count": null,
      "outputs": []
    }
  ]
}