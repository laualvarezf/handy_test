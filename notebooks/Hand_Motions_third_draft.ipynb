{
  "nbformat": 4,
  "nbformat_minor": 5,
  "metadata": {
    "kernelspec": {
      "display_name": "Python 3",
      "language": "python",
      "name": "python3"
    },
    "language_info": {
      "codemirror_mode": {
        "name": "ipython",
        "version": 3
      },
      "file_extension": ".py",
      "mimetype": "text/x-python",
      "name": "python",
      "nbconvert_exporter": "python",
      "pygments_lexer": "ipython3",
      "version": "3.8.6"
    },
    "toc": {
      "base_numbering": 1,
      "nav_menu": {},
      "number_sections": true,
      "sideBar": true,
      "skip_h1_title": false,
      "title_cell": "Table of Contents",
      "title_sidebar": "Contents",
      "toc_cell": false,
      "toc_position": {},
      "toc_section_display": true,
      "toc_window_display": false
    },
    "colab": {
      "name": "Hand_Motions_second_draft.ipynb",
      "provenance": [],
      "collapsed_sections": []
    },
    "accelerator": "GPU"
  },
  "cells": [
    {
      "cell_type": "code",
      "metadata": {
        "colab": {
          "base_uri": "https://localhost:8080/"
        },
        "id": "VZUs7sJhLGcB",
        "outputId": "54d8ab2b-cdb0-4e4d-dbb0-0fa131c21fe8"
      },
      "source": [
        "from google.colab import drive\n",
        "drive.mount('/content/drive/')"
      ],
      "id": "VZUs7sJhLGcB",
      "execution_count": 1,
      "outputs": [
        {
          "output_type": "stream",
          "text": [
            "Drive already mounted at /content/drive/; to attempt to forcibly remount, call drive.mount(\"/content/drive/\", force_remount=True).\n"
          ],
          "name": "stdout"
        }
      ]
    },
    {
      "cell_type": "code",
      "metadata": {
        "colab": {
          "base_uri": "https://localhost:8080/"
        },
        "id": "kwqG8R33N5M-",
        "outputId": "2e9b6635-e806-4ed2-9621-9973bbc08f64"
      },
      "source": [
        "! pip install mne"
      ],
      "id": "kwqG8R33N5M-",
      "execution_count": 2,
      "outputs": [
        {
          "output_type": "stream",
          "text": [
            "Requirement already satisfied: mne in /usr/local/lib/python3.7/dist-packages (0.22.0)\n",
            "Requirement already satisfied: numpy>=1.11.3 in /usr/local/lib/python3.7/dist-packages (from mne) (1.19.5)\n",
            "Requirement already satisfied: scipy>=0.17.1 in /usr/local/lib/python3.7/dist-packages (from mne) (1.4.1)\n"
          ],
          "name": "stdout"
        }
      ]
    },
    {
      "cell_type": "code",
      "metadata": {
        "id": "representative-mapping"
      },
      "source": [
        "import pandas as pd\n",
        "from glob import glob\n",
        "import numpy as np\n",
        "import os\n",
        "import mne\n",
        "import pywt\n",
        "import matplotlib.pyplot as plt\n",
        "from sklearn.preprocessing import StandardScaler\n",
        "from google.cloud import storage\n",
        "from tensorflow.keras.models import Sequential\n",
        "from tensorflow.keras.layers import Dense, Dropout\n",
        "from tensorflow.keras.layers import Embedding\n",
        "from tensorflow.keras.layers import LSTM, BatchNormalization, Conv2D, Flatten, MaxPooling2D, Dropout\n",
        "from tensorflow.keras.optimizers import Adam\n",
        "from tensorflow.keras.callbacks import EarlyStopping\n",
        "from sklearn.metrics import roc_curve, auc, roc_auc_score\n",
        "from sklearn.metrics import multilabel_confusion_matrix, classification_report\n",
        "import time\n"
      ],
      "id": "representative-mapping",
      "execution_count": 1,
      "outputs": []
    },
    {
      "cell_type": "markdown",
      "metadata": {
        "id": "fourth-milwaukee"
      },
      "source": [
        "## Functions to read data and load it"
      ],
      "id": "fourth-milwaukee"
    },
    {
      "cell_type": "code",
      "metadata": {
        "id": "typical-favorite"
      },
      "source": [
        "\n",
        "\n",
        "def prepare_data_train(fname):\n",
        "    \"\"\" read and prepare training data \"\"\"\n",
        "    # Read data\n",
        "    data = pd.read_csv(fname)\n",
        "    # events file\n",
        "    events_fname = fname.replace('_data','_events')\n",
        "    # read event file\n",
        "    labels= pd.read_csv(events_fname)\n",
        "    clean=data.drop(['id' ], axis=1)#remove id\n",
        "    labels=labels.drop(['id' ], axis=1)#remove id\n",
        "    return  clean,labels"
      ],
      "id": "typical-favorite",
      "execution_count": 2,
      "outputs": []
    },
    {
      "cell_type": "code",
      "metadata": {
        "id": "processed-frame"
      },
      "source": [
        "def loading_one_subject(subject_number):\n",
        "    y_raw= []\n",
        "    raw = []\n",
        "    fnames =  sorted(glob('/content/drive/MyDrive/train/subj%d_series*_data.csv' % (subject_number)))\n",
        "    for fname in fnames:\n",
        "        data,labels=prepare_data_train(fname)\n",
        "        raw.append(data)\n",
        "        y_raw.append(labels)\n",
        "    X = pd.concat(raw).reset_index()\n",
        "    X.drop(columns=\"index\", inplace=True)\n",
        "    y = pd.concat(y_raw).reset_index()\n",
        "    y.drop(columns=\"index\", inplace=True)\n",
        "    return X, y"
      ],
      "id": "processed-frame",
      "execution_count": 3,
      "outputs": []
    },
    {
      "cell_type": "code",
      "metadata": {
        "id": "level-gambling"
      },
      "source": [
        "X, y = loading_one_subject(1) "
      ],
      "id": "level-gambling",
      "execution_count": 4,
      "outputs": []
    },
    {
      "cell_type": "code",
      "metadata": {
        "colab": {
          "base_uri": "https://localhost:8080/"
        },
        "id": "stopped-intervention",
        "outputId": "99d13602-b4c0-410b-928a-802aa06945a5"
      },
      "source": [
        "X.shape, y.shape\n"
      ],
      "id": "stopped-intervention",
      "execution_count": 5,
      "outputs": [
        {
          "output_type": "execute_result",
          "data": {
            "text/plain": [
              "((1422392, 32), (1422392, 6))"
            ]
          },
          "metadata": {
            "tags": []
          },
          "execution_count": 5
        }
      ]
    },
    {
      "cell_type": "code",
      "metadata": {
        "colab": {
          "base_uri": "https://localhost:8080/"
        },
        "id": "indirect-development",
        "outputId": "55e856f3-6d8c-4fb5-da7b-3ff04e90ca06"
      },
      "source": [
        "type(X),type(y)"
      ],
      "id": "indirect-development",
      "execution_count": 6,
      "outputs": [
        {
          "output_type": "execute_result",
          "data": {
            "text/plain": [
              "(pandas.core.frame.DataFrame, pandas.core.frame.DataFrame)"
            ]
          },
          "metadata": {
            "tags": []
          },
          "execution_count": 6
        }
      ]
    },
    {
      "cell_type": "markdown",
      "metadata": {
        "id": "cubic-approach"
      },
      "source": [
        "## Function for mean absolute deviation of a signal and wavelet_denoising"
      ],
      "id": "cubic-approach"
    },
    {
      "cell_type": "code",
      "metadata": {
        "id": "moderate-humanity"
      },
      "source": [
        "def convert_df_to_numpy(df):\n",
        "    return np.asarray(df.astype(float))\n",
        "  "
      ],
      "id": "moderate-humanity",
      "execution_count": 7,
      "outputs": []
    },
    {
      "cell_type": "code",
      "metadata": {
        "id": "greatest-start"
      },
      "source": [
        "def madev(d, axis=None):\n",
        "    \"\"\" Mean absolute deviation of a signal \"\"\"\n",
        "    return np.mean(np.absolute(d - np.mean(d, axis)), axis)"
      ],
      "id": "greatest-start",
      "execution_count": 8,
      "outputs": []
    },
    {
      "cell_type": "code",
      "metadata": {
        "id": "organic-thanksgiving"
      },
      "source": [
        "def wavelet_denoising(X, wavelet='db2', level=3):\n",
        "    coeff = pywt.wavedec(X, wavelet, mode=\"per\")\n",
        "    sigma = (1/0.6745) * madev(coeff[-level])\n",
        "    uthresh = sigma * np.sqrt(2 * np.log(len(X)))\n",
        "    coeff[1:] = (pywt.threshold(i, value=uthresh, mode='hard') for i in coeff[1:])\n",
        "    return pywt.waverec(coeff, wavelet, mode='per')"
      ],
      "id": "organic-thanksgiving",
      "execution_count": 9,
      "outputs": []
    },
    {
      "cell_type": "code",
      "metadata": {
        "id": "welcome-daughter"
      },
      "source": [
        "def preprocess_data(X, y):\n",
        "    X= convert_df_to_numpy(X)\n",
        "    y=convert_df_to_numpy(y)\n",
        "    X=wavelet_denoising(X)\n",
        "    return X, y"
      ],
      "id": "welcome-daughter",
      "execution_count": 10,
      "outputs": []
    },
    {
      "cell_type": "code",
      "metadata": {
        "id": "naughty-discount"
      },
      "source": [
        "X, y = preprocess_data(X,y)"
      ],
      "id": "naughty-discount",
      "execution_count": 11,
      "outputs": []
    },
    {
      "cell_type": "code",
      "metadata": {
        "scrolled": true,
        "colab": {
          "base_uri": "https://localhost:8080/"
        },
        "id": "married-farmer",
        "outputId": "a457cf53-330f-4625-e919-302c146f1ebd"
      },
      "source": [
        "X.shape, y.shape"
      ],
      "id": "married-farmer",
      "execution_count": 12,
      "outputs": [
        {
          "output_type": "execute_result",
          "data": {
            "text/plain": [
              "((1422392, 32), (1422392, 6))"
            ]
          },
          "metadata": {
            "tags": []
          },
          "execution_count": 12
        }
      ]
    },
    {
      "cell_type": "code",
      "metadata": {
        "colab": {
          "base_uri": "https://localhost:8080/"
        },
        "id": "theoretical-uruguay",
        "outputId": "ff37d5a8-9b57-47c8-d7fd-ae26ef94b5ef"
      },
      "source": [
        "type(X), type(y)"
      ],
      "id": "theoretical-uruguay",
      "execution_count": 13,
      "outputs": [
        {
          "output_type": "execute_result",
          "data": {
            "text/plain": [
              "(numpy.ndarray, numpy.ndarray)"
            ]
          },
          "metadata": {
            "tags": []
          },
          "execution_count": 13
        }
      ]
    },
    {
      "cell_type": "markdown",
      "metadata": {
        "id": "coordinated-uganda"
      },
      "source": [
        "## Visualizing a signal before and after wavelet denoising"
      ],
      "id": "coordinated-uganda"
    },
    {
      "cell_type": "code",
      "metadata": {
        "id": "postal-disorder"
      },
      "source": [
        "#signal=pd.read_csv('../raw_date/train/subj1_series1_data.csv')\n",
        "#signal = signal.drop(\"id\", axis=1)\n",
        "#filtered = wavelet_denoising(signal, wavelet='db2', level=3)\n",
        "\n",
        "#import matplotlib.pyplot as plt\n",
        "#fig, ax = plt.subplots(figsize=(8,5))\n",
        "#ax.plot(signal.iloc[:10000,1], label='signal', color=\"b\", alpha=0.5,)\n",
        "#ax.plot(filtered[:10000,1], label='reconstructed signal',color=\"k\")\n",
        "#ax.legend(loc='upper left')\n",
        "#ax.set_title('Denoising with DWT')\n",
        "#plt.show()"
      ],
      "id": "postal-disorder",
      "execution_count": 16,
      "outputs": []
    },
    {
      "cell_type": "markdown",
      "metadata": {
        "id": "lasting-intervention"
      },
      "source": [
        "## Test splitting data"
      ],
      "id": "lasting-intervention"
    },
    {
      "cell_type": "code",
      "metadata": {
        "id": "prostate-thong"
      },
      "source": [
        "def custom_train_test_split(X, y):\n",
        "     \n",
        "    splitrate=-X.shape[0]//5*2\n",
        "    xval=X[splitrate:splitrate//2]\n",
        "    yval=y[splitrate:splitrate//2]\n",
        "    xtest=X[splitrate//2:]\n",
        "    ytest=y[splitrate//2:]\n",
        "    xtrain=X[:splitrate]\n",
        "    ytrain=y[:splitrate]\n",
        "    \n",
        "    return xtrain, xval, xtest, ytrain, yval, ytest "
      ],
      "id": "prostate-thong",
      "execution_count": 14,
      "outputs": []
    },
    {
      "cell_type": "code",
      "metadata": {
        "id": "weekly-rebel"
      },
      "source": [
        "# splitting the data \n",
        "xtrain, xval, xtest, ytrain, yval, ytest = custom_train_test_split(X, y)"
      ],
      "id": "weekly-rebel",
      "execution_count": 15,
      "outputs": []
    },
    {
      "cell_type": "code",
      "metadata": {
        "colab": {
          "base_uri": "https://localhost:8080/"
        },
        "id": "wound-heart",
        "outputId": "1778b110-0601-451a-dab8-6dc908bb94d2"
      },
      "source": [
        "xtrain.shape, xval.shape, xtest.shape, ytrain.shape, yval.shape, ytest.shape"
      ],
      "id": "wound-heart",
      "execution_count": 16,
      "outputs": [
        {
          "output_type": "execute_result",
          "data": {
            "text/plain": [
              "((853434, 32),\n",
              " (284479, 32),\n",
              " (284479, 32),\n",
              " (853434, 6),\n",
              " (284479, 6),\n",
              " (284479, 6))"
            ]
          },
          "metadata": {
            "tags": []
          },
          "execution_count": 16
        }
      ]
    },
    {
      "cell_type": "code",
      "metadata": {
        "colab": {
          "base_uri": "https://localhost:8080/"
        },
        "id": "available-plasma",
        "outputId": "10684669-04ba-4527-e44e-2884b86a11ee"
      },
      "source": [
        "type(xtrain), type(xval), type(xtest), type(ytrain), type(yval), type(ytest)"
      ],
      "id": "available-plasma",
      "execution_count": 17,
      "outputs": [
        {
          "output_type": "execute_result",
          "data": {
            "text/plain": [
              "(numpy.ndarray,\n",
              " numpy.ndarray,\n",
              " numpy.ndarray,\n",
              " numpy.ndarray,\n",
              " numpy.ndarray,\n",
              " numpy.ndarray)"
            ]
          },
          "metadata": {
            "tags": []
          },
          "execution_count": 17
        }
      ]
    },
    {
      "cell_type": "markdown",
      "metadata": {
        "id": "taken-raleigh"
      },
      "source": [
        "## Scaling data"
      ],
      "id": "taken-raleigh"
    },
    {
      "cell_type": "code",
      "metadata": {
        "id": "solved-bracket"
      },
      "source": [
        "scaler= StandardScaler()\n",
        "def data_scaler_train(X):\n",
        "    X_prep=scaler.fit_transform(X)\n",
        "    #do here your preprocessing\n",
        "    return X_prep\n",
        "def data_scaler_test(X):\n",
        "    X_prep=scaler.transform(X)\n",
        "    #do here your preprocessing\n",
        "    return X_prep"
      ],
      "id": "solved-bracket",
      "execution_count": 18,
      "outputs": []
    },
    {
      "cell_type": "code",
      "metadata": {
        "id": "innocent-syndication"
      },
      "source": [
        "X_train_scaled= data_scaler_train(xtrain)\n",
        "X_val_scaled= data_scaler_test(xval)"
      ],
      "id": "innocent-syndication",
      "execution_count": 19,
      "outputs": []
    },
    {
      "cell_type": "code",
      "metadata": {
        "colab": {
          "base_uri": "https://localhost:8080/"
        },
        "id": "posted-directory",
        "outputId": "71b78be9-dea9-4469-ce2f-a0987908d75b"
      },
      "source": [
        "X_train_scaled.shape, X_val_scaled.shape"
      ],
      "id": "posted-directory",
      "execution_count": 20,
      "outputs": [
        {
          "output_type": "execute_result",
          "data": {
            "text/plain": [
              "((853434, 32), (284479, 32))"
            ]
          },
          "metadata": {
            "tags": []
          },
          "execution_count": 20
        }
      ]
    },
    {
      "cell_type": "code",
      "metadata": {
        "colab": {
          "base_uri": "https://localhost:8080/"
        },
        "id": "portuguese-robin",
        "outputId": "bc027223-e424-47fc-81c5-758c62af95d0"
      },
      "source": [
        "type(X_train_scaled), type(X_val_scaled)"
      ],
      "id": "portuguese-robin",
      "execution_count": 21,
      "outputs": [
        {
          "output_type": "execute_result",
          "data": {
            "text/plain": [
              "(numpy.ndarray, numpy.ndarray)"
            ]
          },
          "metadata": {
            "tags": []
          },
          "execution_count": 21
        }
      ]
    },
    {
      "cell_type": "markdown",
      "metadata": {
        "id": "italian-sponsorship"
      },
      "source": [
        "## Generators"
      ],
      "id": "italian-sponsorship"
    },
    {
      "cell_type": "code",
      "metadata": {
        "id": "studied-index"
      },
      "source": [
        "time_steps = 1000\n",
        "subsample = 50"
      ],
      "id": "studied-index",
      "execution_count": 22,
      "outputs": []
    },
    {
      "cell_type": "code",
      "metadata": {
        "id": "unlike-services"
      },
      "source": [
        "def generator(batch_size, xtrain, ytrain):\n",
        "    while 1:\n",
        "        x_time_data = np.zeros((batch_size, time_steps//subsample, 32))\n",
        "        yy = []\n",
        "        for i in range(batch_size):\n",
        "            random_index = np.random.randint(0, len(xtrain)-time_steps)\n",
        "            x_time_data[i] = xtrain[random_index:random_index+time_steps:subsample]\n",
        "            yy.append(ytrain[random_index + time_steps])\n",
        "        yy = np.asarray(yy)\n",
        "        yield x_time_data.reshape((x_time_data.shape[0],x_time_data.shape[1],  x_time_data.shape[2],1)), yy"
      ],
      "id": "unlike-services",
      "execution_count": 23,
      "outputs": []
    },
    {
      "cell_type": "code",
      "metadata": {
        "id": "disturbed-mentor"
      },
      "source": [
        "def valgenerator(xval, yval):\n",
        "    while 1:\n",
        "        batch_size=32\n",
        "        x_time_data = np.zeros((batch_size, time_steps//subsample, 32))\n",
        "        yy = []\n",
        "        for i in range(batch_size):\n",
        "            random_index = np.random.randint(0, len(xval)-time_steps)\n",
        "            x_time_data[i] = xval[random_index:random_index+time_steps:subsample]\n",
        "            yy.append(yval[random_index + time_steps])\n",
        "        yy = np.asarray(yy)\n",
        "        yield x_time_data.reshape((x_time_data.shape[0],x_time_data.shape[1], x_time_data.shape[2],1)), yy"
      ],
      "id": "disturbed-mentor",
      "execution_count": 24,
      "outputs": []
    },
    {
      "cell_type": "markdown",
      "metadata": {
        "id": "sized-operator"
      },
      "source": [
        "# CNN Model "
      ],
      "id": "sized-operator"
    },
    {
      "cell_type": "code",
      "metadata": {
        "colab": {
          "base_uri": "https://localhost:8080/"
        },
        "id": "expected-husband",
        "outputId": "ed00524b-7897-43e2-ee2e-9a7fd4533c25"
      },
      "source": [
        "load = 1\n",
        "\n",
        "model = Sequential()\n",
        "\n",
        "model.add(Conv2D(filters = 64, kernel_size = (7,7), padding = \"same\", activation = \"relu\", input_shape = ((time_steps//subsample), 32, 1)))\n",
        "model.add(BatchNormalization())\n",
        "#model.add(MaxPooling2D(pool_size = (3,3)))\n",
        "model.add(Conv2D(filters = 64, kernel_size = (5,5), padding = \"same\", activation = \"relu\", input_shape = ((time_steps//subsample), 32, 1)))\n",
        "model.add(BatchNormalization())\n",
        "#model.add(MaxPooling2D(pool_size = (3,3)))\n",
        "model.add(Conv2D(filters = 64, kernel_size = (3,3), padding = \"same\", activation = \"relu\", input_shape = ((time_steps//subsample), 32, 1)))\n",
        "model.add(BatchNormalization())\n",
        "#model.add(MaxPooling2D(pool_size = (3,3)))\n",
        "model.add(Flatten())\n",
        "#model.add(Dropout(0.2))\n",
        "model.add(Dense(32, activation = \"relu\"))\n",
        "model.add(BatchNormalization())\n",
        "# model.add(Dropout(0.2))\n",
        "model.add(Dense(6, activation = \"sigmoid\"))\n",
        "\n",
        "\n",
        "adam = Adam(lr = 0.0001)\n",
        "\n",
        "model.compile(optimizer = adam, loss = \"binary_crossentropy\", metrics = ['accuracy','mse'])\n",
        "\n",
        "model.summary()"
      ],
      "id": "expected-husband",
      "execution_count": 27,
      "outputs": [
        {
          "output_type": "stream",
          "text": [
            "Model: \"sequential\"\n",
            "_________________________________________________________________\n",
            "Layer (type)                 Output Shape              Param #   \n",
            "=================================================================\n",
            "conv2d (Conv2D)              (None, 20, 32, 64)        3200      \n",
            "_________________________________________________________________\n",
            "batch_normalization (BatchNo (None, 20, 32, 64)        256       \n",
            "_________________________________________________________________\n",
            "conv2d_1 (Conv2D)            (None, 20, 32, 64)        102464    \n",
            "_________________________________________________________________\n",
            "batch_normalization_1 (Batch (None, 20, 32, 64)        256       \n",
            "_________________________________________________________________\n",
            "conv2d_2 (Conv2D)            (None, 20, 32, 64)        36928     \n",
            "_________________________________________________________________\n",
            "batch_normalization_2 (Batch (None, 20, 32, 64)        256       \n",
            "_________________________________________________________________\n",
            "flatten (Flatten)            (None, 40960)             0         \n",
            "_________________________________________________________________\n",
            "dense (Dense)                (None, 32)                1310752   \n",
            "_________________________________________________________________\n",
            "batch_normalization_3 (Batch (None, 32)                128       \n",
            "_________________________________________________________________\n",
            "dense_1 (Dense)              (None, 6)                 198       \n",
            "=================================================================\n",
            "Total params: 1,454,438\n",
            "Trainable params: 1,453,990\n",
            "Non-trainable params: 448\n",
            "_________________________________________________________________\n"
          ],
          "name": "stdout"
        }
      ]
    },
    {
      "cell_type": "code",
      "metadata": {
        "colab": {
          "base_uri": "https://localhost:8080/"
        },
        "id": "informational-stomach",
        "outputId": "c7054117-68f3-4c8e-9b91-d51a3dfbee61"
      },
      "source": [
        "es= EarlyStopping(patience=2)\n",
        "history =model.fit_generator(generator(32,X_train_scaled, ytrain), steps_per_epoch = 600, epochs = 50,validation_data=valgenerator(X_val_scaled, yval),\n",
        "                              validation_steps=200,callbacks=[es])"
      ],
      "id": "informational-stomach",
      "execution_count": 28,
      "outputs": [
        {
          "output_type": "stream",
          "text": [
            "/usr/local/lib/python3.7/dist-packages/tensorflow/python/keras/engine/training.py:1844: UserWarning: `Model.fit_generator` is deprecated and will be removed in a future version. Please use `Model.fit`, which supports generators.\n",
            "  warnings.warn('`Model.fit_generator` is deprecated and '\n"
          ],
          "name": "stderr"
        },
        {
          "output_type": "stream",
          "text": [
            "Epoch 1/50\n",
            "600/600 [==============================] - 8s 9ms/step - loss: 0.6858 - accuracy: 0.1841 - mse: 0.2449 - val_loss: 0.5490 - val_accuracy: 0.1503 - val_mse: 0.1797\n",
            "Epoch 2/50\n",
            "600/600 [==============================] - 5s 9ms/step - loss: 0.5500 - accuracy: 0.1865 - mse: 0.1799 - val_loss: 0.4160 - val_accuracy: 0.1331 - val_mse: 0.1176\n",
            "Epoch 3/50\n",
            "600/600 [==============================] - 5s 9ms/step - loss: 0.3787 - accuracy: 0.1599 - mse: 0.1022 - val_loss: 0.2522 - val_accuracy: 0.1486 - val_mse: 0.0541\n",
            "Epoch 4/50\n",
            "600/600 [==============================] - 5s 8ms/step - loss: 0.2350 - accuracy: 0.1843 - mse: 0.0493 - val_loss: 0.1493 - val_accuracy: 0.1648 - val_mse: 0.0262\n",
            "Epoch 5/50\n",
            "600/600 [==============================] - 5s 8ms/step - loss: 0.1532 - accuracy: 0.2298 - mse: 0.0282 - val_loss: 0.1119 - val_accuracy: 0.2125 - val_mse: 0.0195\n",
            "Epoch 6/50\n",
            "600/600 [==============================] - 5s 8ms/step - loss: 0.1137 - accuracy: 0.2668 - mse: 0.0218 - val_loss: 0.0910 - val_accuracy: 0.2456 - val_mse: 0.0170\n",
            "Epoch 7/50\n",
            "600/600 [==============================] - 5s 8ms/step - loss: 0.0935 - accuracy: 0.3120 - mse: 0.0195 - val_loss: 0.0775 - val_accuracy: 0.2509 - val_mse: 0.0160\n",
            "Epoch 8/50\n",
            "600/600 [==============================] - 5s 8ms/step - loss: 0.0818 - accuracy: 0.3523 - mse: 0.0185 - val_loss: 0.0698 - val_accuracy: 0.2895 - val_mse: 0.0149\n",
            "Epoch 9/50\n",
            "600/600 [==============================] - 5s 8ms/step - loss: 0.0729 - accuracy: 0.3626 - mse: 0.0171 - val_loss: 0.0637 - val_accuracy: 0.3388 - val_mse: 0.0147\n",
            "Epoch 10/50\n",
            "600/600 [==============================] - 5s 8ms/step - loss: 0.0649 - accuracy: 0.3861 - mse: 0.0157 - val_loss: 0.0649 - val_accuracy: 0.3269 - val_mse: 0.0154\n",
            "Epoch 11/50\n",
            "600/600 [==============================] - 5s 8ms/step - loss: 0.0631 - accuracy: 0.3973 - mse: 0.0158 - val_loss: 0.0596 - val_accuracy: 0.3361 - val_mse: 0.0139\n",
            "Epoch 12/50\n",
            "600/600 [==============================] - 5s 9ms/step - loss: 0.0580 - accuracy: 0.4115 - mse: 0.0148 - val_loss: 0.0641 - val_accuracy: 0.3611 - val_mse: 0.0157\n",
            "Epoch 13/50\n",
            "600/600 [==============================] - 5s 8ms/step - loss: 0.0573 - accuracy: 0.4254 - mse: 0.0150 - val_loss: 0.0576 - val_accuracy: 0.3536 - val_mse: 0.0137\n",
            "Epoch 14/50\n",
            "600/600 [==============================] - 5s 8ms/step - loss: 0.0554 - accuracy: 0.4340 - mse: 0.0147 - val_loss: 0.0632 - val_accuracy: 0.4133 - val_mse: 0.0153\n",
            "Epoch 15/50\n",
            "600/600 [==============================] - 5s 8ms/step - loss: 0.0532 - accuracy: 0.4391 - mse: 0.0143 - val_loss: 0.0665 - val_accuracy: 0.4023 - val_mse: 0.0162\n"
          ],
          "name": "stdout"
        }
      ]
    },
    {
      "cell_type": "code",
      "metadata": {
        "colab": {
          "base_uri": "https://localhost:8080/",
          "height": 390
        },
        "id": "worse-minute",
        "outputId": "eca5a023-fbc1-43c3-f819-d281160924f5"
      },
      "source": [
        "def plot_training_history(history):\n",
        "    acc = history.history['accuracy']\n",
        "    loss = history.history['loss']\n",
        "    val_acc = history.history['val_accuracy']\n",
        "    val_loss = history.history['val_loss']\n",
        "    epochs = range(len(acc))\n",
        " \n",
        "    plt.figure(figsize=(15, 6))\n",
        "    plt.subplot(1, 2, 1)\n",
        "    plt.plot(epochs, acc, 'b', label='Training acc',linewidth=2)\n",
        "    plt.plot(epochs, val_acc, 'r--', label='Validation acc',linewidth=2)\n",
        "    plt.title('Training  accuracy')\n",
        "    plt.legend()\n",
        " \n",
        "    plt.subplot(1, 2, 2)\n",
        "    plt.plot(epochs, loss, 'b', label='Training loss')\n",
        "    plt.plot(epochs, val_loss, 'k', label='Validationloss ')\n",
        "    plt.title('Training loss')\n",
        "    plt.legend()\n",
        " \n",
        "    plt.show()\n",
        "plot_training_history(history)\n",
        "\n",
        "\n"
      ],
      "id": "worse-minute",
      "execution_count": 29,
      "outputs": [
        {
          "output_type": "display_data",
          "data": {
            "image/png": "[encoded data removed]",
            "text/plain": [
              "<Figure size 1080x432 with 2 Axes>"
            ]
          },
          "metadata": {
            "tags": [],
            "needs_background": "light"
          }
        }
      ]
    },
    {
      "cell_type": "code",
      "metadata": {
        "id": "aCYjRXFolxz7"
      },
      "source": [
        "# TESTING with Unseen Data"
      ],
      "id": "aCYjRXFolxz7",
      "execution_count": 31,
      "outputs": []
    },
    {
      "cell_type": "code",
      "metadata": {
        "id": "f0PY9IZkowJ8"
      },
      "source": [
        "def test_generator(xtest, ytest):\n",
        "    while 1:\n",
        "        batch_size = 32\n",
        "        x_time_data = np.zeros((batch_size, time_steps//subsample, 32))\n",
        "        yy = []\n",
        "        for i in range(batch_size):\n",
        "            random_index = np.random.randint(0, len(xtest)-time_steps)\n",
        "            x_time_data[i] = xtest[random_index:random_index+time_steps:subsample]\n",
        "            yy.append(ytest[random_index + time_steps])\n",
        "        yy = np.asarray(yy)\n",
        "        yield x_time_data.reshape((x_time_data.shape[0],x_time_data.shape[1], x_time_data.shape[2], 1)), yy"
      ],
      "id": "f0PY9IZkowJ8",
      "execution_count": 38,
      "outputs": []
    },
    {
      "cell_type": "code",
      "metadata": {
        "id": "Y6A5ffXkpY4t"
      },
      "source": [
        "X_test_scaled = data_scaler_test(xtest)"
      ],
      "id": "Y6A5ffXkpY4t",
      "execution_count": 39,
      "outputs": []
    },
    {
      "cell_type": "code",
      "metadata": {
        "colab": {
          "base_uri": "https://localhost:8080/"
        },
        "id": "4Jz-XN0Fezm7",
        "outputId": "6ad6a7db-cbac-4381-af60-732aa4badc54"
      },
      "source": [
        "\n",
        "X_test_scaled.shape"
      ],
      "id": "4Jz-XN0Fezm7",
      "execution_count": 40,
      "outputs": [
        {
          "output_type": "execute_result",
          "data": {
            "text/plain": [
              "(284479, 32)"
            ]
          },
          "metadata": {
            "tags": []
          },
          "execution_count": 40
        }
      ]
    },
    {
      "cell_type": "code",
      "metadata": {
        "id": "aRxWHPWne4Fy"
      },
      "source": [
        "gen_data = test_generator(X_test_scaled, ytest)"
      ],
      "id": "aRxWHPWne4Fy",
      "execution_count": 41,
      "outputs": []
    },
    {
      "cell_type": "code",
      "metadata": {
        "id": "nu2UydMCqJtI"
      },
      "source": [
        "\n",
        "def scores(gen_data, num_test):\n",
        "  #scores = []\n",
        "  predictions=[]\n",
        "  x_test_=[]\n",
        "  y_test_=[]\n",
        "  num_test = num_test\n",
        "  for i in range(num_test):\n",
        "      x_test, y_test = next(gen_data)\n",
        "      while not 1 in y_test:\n",
        "          x_test, y_test = next(gen_data)\n",
        "      #score = model.evaluate(x_test, y_test, verbose=0)\n",
        "      predicts= model.predict(x_test)\n",
        "      predictions.append(predicts)\n",
        "      #scores.append(score[1])\n",
        "      x_test_.append(x_test)\n",
        "      y_test_.append(y_test)\n",
        "  #scores = np.asarray(scores)\n",
        "  #np.mean(scores),\n",
        "  return  x_test_, y_test_ , predictions\n",
        "  "
      ],
      "id": "nu2UydMCqJtI",
      "execution_count": 52,
      "outputs": []
    },
    {
      "cell_type": "code",
      "metadata": {
        "id": "jDn5krOHIQcT"
      },
      "source": [
        "x_test_, y_test_, predictions = scores(gen_data, 5000)"
      ],
      "id": "jDn5krOHIQcT",
      "execution_count": 68,
      "outputs": []
    },
    {
      "cell_type": "code",
      "metadata": {
        "colab": {
          "base_uri": "https://localhost:8080/"
        },
        "id": "JTMmUJ1Pm0Mf",
        "outputId": "1272ede0-c248-4e51-df62-3aa4c1d180b7"
      },
      "source": [
        "np.shape(np.round(predictions))"
      ],
      "id": "JTMmUJ1Pm0Mf",
      "execution_count": 69,
      "outputs": [
        {
          "output_type": "execute_result",
          "data": {
            "text/plain": [
              "(5000, 32, 6)"
            ]
          },
          "metadata": {
            "tags": []
          },
          "execution_count": 69
        }
      ]
    },
    {
      "cell_type": "code",
      "metadata": {
        "colab": {
          "base_uri": "https://localhost:8080/"
        },
        "id": "FXQn4glJ92gL",
        "outputId": "56ff3cf3-54ec-4688-ef0e-2b7d18e2299e"
      },
      "source": [
        "np.round(predictions).flatten().reshape(160000,6)\n"
      ],
      "id": "FXQn4glJ92gL",
      "execution_count": 72,
      "outputs": [
        {
          "output_type": "execute_result",
          "data": {
            "text/plain": [
              "array([[0., 0., 0., 0., 0., 0.],\n",
              "       [1., 0., 1., 0., 0., 0.],\n",
              "       [0., 0., 0., 0., 0., 0.],\n",
              "       ...,\n",
              "       [0., 0., 0., 0., 0., 0.],\n",
              "       [0., 0., 0., 0., 0., 0.],\n",
              "       [0., 0., 0., 0., 0., 0.]], dtype=float32)"
            ]
          },
          "metadata": {
            "tags": []
          },
          "execution_count": 72
        }
      ]
    },
    {
      "cell_type": "code",
      "metadata": {
        "colab": {
          "base_uri": "https://localhost:8080/"
        },
        "id": "vCMLAauPmUMd",
        "outputId": "47da5045-3e1c-4b9f-f76a-014475003bc0"
      },
      "source": [
        "np.asarray(y_test_).flatten().reshape(160000,6)"
      ],
      "id": "vCMLAauPmUMd",
      "execution_count": 71,
      "outputs": [
        {
          "output_type": "execute_result",
          "data": {
            "text/plain": [
              "array([[1., 0., 0., 0., 0., 0.],\n",
              "       [0., 1., 1., 1., 0., 0.],\n",
              "       [0., 0., 0., 0., 0., 0.],\n",
              "       ...,\n",
              "       [0., 1., 1., 0., 0., 0.],\n",
              "       [0., 0., 0., 0., 0., 0.],\n",
              "       [0., 0., 0., 0., 0., 0.]])"
            ]
          },
          "metadata": {
            "tags": []
          },
          "execution_count": 71
        }
      ]
    },
    {
      "cell_type": "code",
      "metadata": {
        "colab": {
          "base_uri": "https://localhost:8080/"
        },
        "id": "nwUhxLdgn1UT",
        "outputId": "bf45dad7-aa9f-4007-a0d1-1e11684f3887"
      },
      "source": [
        " l=[\"Handstart (HS)\",\"Grasping (GS)\",\"Lift (LT)\",\"Hold (HD)\",\"Replace (RP)\",\"Release (RL)\"]\n",
        "print(classification_report(np.asarray(y_test_).flatten().reshape(160000,6), np.round(predictions).flatten().reshape(160000,6), target_names=l))"
      ],
      "id": "nwUhxLdgn1UT",
      "execution_count": 70,
      "outputs": [
        {
          "output_type": "stream",
          "text": [
            "                precision    recall  f1-score   support\n",
            "\n",
            "Handstart (HS)       0.39      0.03      0.06      6074\n",
            " Grasping (GS)       0.67      0.27      0.38      6273\n",
            "     Lift (LT)       0.67      0.24      0.36      6242\n",
            "     Hold (HD)       0.50      0.11      0.19      6300\n",
            "  Replace (RP)       0.61      0.29      0.40      6292\n",
            "  Release (RL)       0.58      0.24      0.34      6300\n",
            "\n",
            "     micro avg       0.60      0.20      0.30     37481\n",
            "     macro avg       0.57      0.20      0.28     37481\n",
            "  weighted avg       0.57      0.20      0.29     37481\n",
            "   samples avg       0.03      0.03      0.03     37481\n",
            "\n"
          ],
          "name": "stdout"
        },
        {
          "output_type": "stream",
          "text": [
            "/usr/local/lib/python3.7/dist-packages/sklearn/metrics/_classification.py:1272: UndefinedMetricWarning: Precision and F-score are ill-defined and being set to 0.0 in samples with no predicted labels. Use `zero_division` parameter to control this behavior.\n",
            "  _warn_prf(average, modifier, msg_start, len(result))\n",
            "/usr/local/lib/python3.7/dist-packages/sklearn/metrics/_classification.py:1272: UndefinedMetricWarning: Recall and F-score are ill-defined and being set to 0.0 in samples with no true labels. Use `zero_division` parameter to control this behavior.\n",
            "  _warn_prf(average, modifier, msg_start, len(result))\n"
          ],
          "name": "stderr"
        }
      ]
    },
    {
      "cell_type": "code",
      "metadata": {
        "id": "6uB3b4I3GAhG"
      },
      "source": [
        "def tester_generator(xtest, time_steps= 1000, subsample=50):\n",
        "    while 1:\n",
        "        batch_size = 1\n",
        "        x_time_data = np.zeros((batch_size, time_steps//subsample, 32))\n",
        "        for i in range(batch_size):\n",
        "            random_index = np.random.randint(0, len(xtest)-time_steps)\n",
        "            x_time_data[i] = xtest[random_index:random_index+time_steps:subsample]\n",
        "        yield x_time_data.reshape((x_time_data.shape[0],x_time_data.shape[1], x_time_data.shape[2], 1))"
      ],
      "id": "6uB3b4I3GAhG",
      "execution_count": 84,
      "outputs": []
    },
    {
      "cell_type": "code",
      "metadata": {
        "id": "hd6qAm6DGuWe"
      },
      "source": [
        "gen_data2 = tester_generator(X_test_scaled)"
      ],
      "id": "hd6qAm6DGuWe",
      "execution_count": 85,
      "outputs": []
    },
    {
      "cell_type": "markdown",
      "metadata": {
        "id": "Yo4WK6haH532"
      },
      "source": [
        "Predic"
      ],
      "id": "Yo4WK6haH532"
    },
    {
      "cell_type": "code",
      "metadata": {
        "id": "32KWU0lyAAYf"
      },
      "source": [
        "def prediction_test(df, num_test):\n",
        "  predictions = []\n",
        "  num_test = num_test\n",
        "  for i in range(num_test):\n",
        "      x_test= next(df)\n",
        "      predict = model.predict(x_test)\n",
        "      predictions.append(predict)\n",
        "  l=[\"Handstart (HS)\",\"Grasping (GS)\",\"Lift (LT)\",\"Hold (HD)\",\"Replace (RP)\",\"Release (RL)\"]\n",
        "  results=[]\n",
        "  for elem in np.round(predictions):\n",
        "    if elem[0][0] == 1:\n",
        "       results.append(l[0])\n",
        "    if elem[0][1] ==1:\n",
        "      results.append(l[1])\n",
        "    if elem[0][2] ==1:\n",
        "      results.append(l[2])\n",
        "    if elem[0][3] ==1:\n",
        "      results.append(l[3])\n",
        "    if elem[0][4] ==1:\n",
        "      results.append(l[4])\n",
        "    if elem[0][5] ==1:\n",
        "      results.append(l[5])\n",
        "  return np.reshape(results,(num_test,6))"
      ],
      "id": "32KWU0lyAAYf",
      "execution_count": 137,
      "outputs": []
    },
    {
      "cell_type": "code",
      "metadata": {
        "id": "6wdXry98V9U1"
      },
      "source": [
        "#preds = [[[0., 1., 0., 0., 0., 0.]],\n",
        "        [[0., 0., 0., 0., 0., 0.]],\n",
        "        [[0., 0., 0., 0., 1., 0.]],\n",
        "        [[0., 1., 0., 0., 0., 0.]],\n",
        "        [[0., 0., 0., 1., 1., 0.]],\n",
        "        [[0., 0., 0., 0., 0., 0.]],\n",
        "        [[0., 0., 0., 0., 0., 0.]],\n",
        "        [[1., 1., 1., 1., 1., 1.]],\n",
        "        [[0., 0., 0., 0., 1., 0.]],\n",
        "        [[0., 0., 0., 1., 0., 0.]]]"
      ],
      "id": "6wdXry98V9U1",
      "execution_count": 123,
      "outputs": []
    },
    {
      "cell_type": "code",
      "metadata": {
        "id": "Z9F-RcIsJLR9"
      },
      "source": [
        "def prediction_labels(pred_list):\n",
        "    predicted_labels = []\n",
        "    labels = {0 : 'Handstart (HS)',\n",
        "                   1 : \"Grasping (GS)\",\n",
        "                   2 : \"Lift (LT)\",\n",
        "                   3 : \"Hold (HD)\",\n",
        "                   4 : \"Replace (RP)\",\n",
        "                   5 : \"Release (RL)\"}\n",
        "    for pred in pred_list:\n",
        "\n",
        "        list_to_np = np.array(pred[0])\n",
        "        pos_indices = np.where(list_to_np == 1)[0]\n",
        "        if len(pos_indices) ==0:\n",
        "            predicted_labels.append('No Movement')\n",
        "        else:\n",
        "            list_labeled_mov = []\n",
        "            for index in pos_indices:\n",
        "                list_labeled_mov.append(labels[index])\n",
        "            predicted_labels.append(list_labeled_mov)\n",
        "    return predicted_labels\n",
        "prediction_labels(preds)"
      ],
      "id": "Z9F-RcIsJLR9",
      "execution_count": null,
      "outputs": []
    },
    {
      "cell_type": "code",
      "metadata": {
        "id": "rK24pqNpEY9R"
      },
      "source": [
        ""
      ],
      "id": "rK24pqNpEY9R",
      "execution_count": null,
      "outputs": []
    }
  ]
}