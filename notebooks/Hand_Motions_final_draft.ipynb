{
  "nbformat": 4,
  "nbformat_minor": 5,
  "metadata": {
    "kernelspec": {
      "display_name": "Python 3",
      "language": "python",
      "name": "python3"
    },
    "language_info": {
      "codemirror_mode": {
        "name": "ipython",
        "version": 3
      },
      "file_extension": ".py",
      "mimetype": "text/x-python",
      "name": "python",
      "nbconvert_exporter": "python",
      "pygments_lexer": "ipython3",
      "version": "3.8.6"
    },
    "toc": {
      "base_numbering": 1,
      "nav_menu": {},
      "number_sections": true,
      "sideBar": true,
      "skip_h1_title": false,
      "title_cell": "Table of Contents",
      "title_sidebar": "Contents",
      "toc_cell": false,
      "toc_position": {},
      "toc_section_display": true,
      "toc_window_display": false
    },
    "colab": {
      "name": "Copy of Hand_Motions_fourth_draft.ipynb",
      "provenance": [],
      "collapsed_sections": [],
      "toc_visible": true
    },
    "accelerator": "GPU"
  },
  "cells": [
    {
      "cell_type": "code",
      "metadata": {
        "colab": {
          "base_uri": "https://localhost:8080/"
        },
        "id": "VZUs7sJhLGcB",
        "outputId": "c22e3161-31ec-4237-a5c3-d158f42b3479"
      },
      "source": [
        "from google.colab import drive\n",
        "drive.mount('/content/drive/')"
      ],
      "id": "VZUs7sJhLGcB",
      "execution_count": null,
      "outputs": [
        {
          "output_type": "stream",
          "text": [
            "Mounted at /content/drive/\n"
          ],
          "name": "stdout"
        }
      ]
    },
    {
      "cell_type": "code",
      "metadata": {
        "colab": {
          "base_uri": "https://localhost:8080/"
        },
        "id": "kwqG8R33N5M-",
        "outputId": "2e9b6635-e806-4ed2-9621-9973bbc08f64"
      },
      "source": [
        "! pip install mne"
      ],
      "id": "kwqG8R33N5M-",
      "execution_count": null,
      "outputs": [
        {
          "output_type": "stream",
          "text": [
            "Requirement already satisfied: mne in /usr/local/lib/python3.7/dist-packages (0.22.0)\n",
            "Requirement already satisfied: numpy>=1.11.3 in /usr/local/lib/python3.7/dist-packages (from mne) (1.19.5)\n",
            "Requirement already satisfied: scipy>=0.17.1 in /usr/local/lib/python3.7/dist-packages (from mne) (1.4.1)\n"
          ],
          "name": "stdout"
        }
      ]
    },
    {
      "cell_type": "code",
      "metadata": {
        "id": "representative-mapping"
      },
      "source": [
        "import pandas as pd\n",
        "from glob import glob\n",
        "import numpy as np\n",
        "import os\n",
        "\n",
        "import pywt\n",
        "import matplotlib.pyplot as plt\n",
        "from sklearn.preprocessing import StandardScaler\n",
        "from google.cloud import storage\n",
        "from tensorflow.keras.models import Sequential\n",
        "from tensorflow.keras.layers import Dense, Dropout\n",
        "from tensorflow.keras.layers import Embedding\n",
        "from tensorflow.keras.layers import LSTM, BatchNormalization, Conv2D, Flatten, MaxPooling2D, Dropout\n",
        "from tensorflow.keras.optimizers import Adam\n",
        "from tensorflow.keras.callbacks import EarlyStopping\n",
        "from sklearn.metrics import roc_curve, auc, roc_auc_score\n",
        "from sklearn.metrics import multilabel_confusion_matrix, classification_report\n",
        "import time\n"
      ],
      "id": "representative-mapping",
      "execution_count": null,
      "outputs": []
    },
    {
      "cell_type": "markdown",
      "metadata": {
        "id": "fourth-milwaukee"
      },
      "source": [
        "## Functions to read data and load it"
      ],
      "id": "fourth-milwaukee"
    },
    {
      "cell_type": "code",
      "metadata": {
        "id": "typical-favorite"
      },
      "source": [
        "\n",
        "\n",
        "def prepare_data_train(fname):\n",
        "    \"\"\" read and prepare training data \"\"\"\n",
        "    # Read data\n",
        "    data = pd.read_csv(fname)\n",
        "    # events file\n",
        "    events_fname = fname.replace('_data','_events')\n",
        "    # read event file\n",
        "    labels= pd.read_csv(events_fname)\n",
        "    clean=data.drop(['id' ], axis=1)#remove id\n",
        "    labels=labels.drop(['id' ], axis=1)#remove id\n",
        "    return  clean,labels"
      ],
      "id": "typical-favorite",
      "execution_count": null,
      "outputs": []
    },
    {
      "cell_type": "code",
      "metadata": {
        "id": "processed-frame"
      },
      "source": [
        "def loading_one_subject(subject_number):\n",
        "    y_raw= []\n",
        "    raw = []\n",
        "    fnames =  sorted(glob('/content/drive/MyDrive/data/hand_motion/train/subj%d_series*_data.csv' % (subject_number)))\n",
        "    for fname in fnames:\n",
        "        data,labels=prepare_data_train(fname)\n",
        "        raw.append(data)\n",
        "        y_raw.append(labels)\n",
        "    X = pd.concat(raw).reset_index()\n",
        "    X.drop(columns=\"index\", inplace=True)\n",
        "    y = pd.concat(y_raw).reset_index()\n",
        "    y.drop(columns=\"index\", inplace=True)\n",
        "    return X, y"
      ],
      "id": "processed-frame",
      "execution_count": null,
      "outputs": []
    },
    {
      "cell_type": "code",
      "metadata": {
        "id": "level-gambling"
      },
      "source": [
        "X, y = loading_one_subject(1) "
      ],
      "id": "level-gambling",
      "execution_count": null,
      "outputs": []
    },
    {
      "cell_type": "code",
      "metadata": {
        "colab": {
          "base_uri": "https://localhost:8080/"
        },
        "id": "stopped-intervention",
        "outputId": "e03c093f-375c-4a7f-f78e-d1287f8f6391"
      },
      "source": [
        "X.shape, y.shape\n"
      ],
      "id": "stopped-intervention",
      "execution_count": null,
      "outputs": [
        {
          "output_type": "execute_result",
          "data": {
            "text/plain": [
              "((1422392, 32), (1422392, 6))"
            ]
          },
          "metadata": {
            "tags": []
          },
          "execution_count": 8
        }
      ]
    },
    {
      "cell_type": "code",
      "metadata": {
        "colab": {
          "base_uri": "https://localhost:8080/"
        },
        "id": "indirect-development",
        "outputId": "ef2e1824-de92-4c89-fce3-1c0deb19df6d"
      },
      "source": [
        "type(X),type(y)"
      ],
      "id": "indirect-development",
      "execution_count": null,
      "outputs": [
        {
          "output_type": "execute_result",
          "data": {
            "text/plain": [
              "(pandas.core.frame.DataFrame, pandas.core.frame.DataFrame)"
            ]
          },
          "metadata": {
            "tags": []
          },
          "execution_count": 9
        }
      ]
    },
    {
      "cell_type": "markdown",
      "metadata": {
        "id": "cubic-approach"
      },
      "source": [
        "## Function for mean absolute deviation of a signal and wavelet_denoising"
      ],
      "id": "cubic-approach"
    },
    {
      "cell_type": "code",
      "metadata": {
        "id": "moderate-humanity"
      },
      "source": [
        "def convert_df_to_numpy(df):\n",
        "    return np.asarray(df.astype(float))\n",
        "  "
      ],
      "id": "moderate-humanity",
      "execution_count": null,
      "outputs": []
    },
    {
      "cell_type": "code",
      "metadata": {
        "id": "greatest-start"
      },
      "source": [
        "def madev(d, axis=None):\n",
        "    \"\"\" Mean absolute deviation of a signal \"\"\"\n",
        "    return np.mean(np.absolute(d - np.mean(d, axis)), axis)"
      ],
      "id": "greatest-start",
      "execution_count": null,
      "outputs": []
    },
    {
      "cell_type": "code",
      "metadata": {
        "id": "organic-thanksgiving"
      },
      "source": [
        "def wavelet_denoising(X, wavelet='db2', level=3):\n",
        "    coeff = pywt.wavedec(X, wavelet, mode=\"per\")\n",
        "    sigma = (1/0.6745) * madev(coeff[-level])\n",
        "    uthresh = sigma * np.sqrt(2 * np.log(len(X)))\n",
        "    coeff[1:] = (pywt.threshold(i, value=uthresh, mode='hard') for i in coeff[1:])\n",
        "    return pywt.waverec(coeff, wavelet, mode='per')"
      ],
      "id": "organic-thanksgiving",
      "execution_count": null,
      "outputs": []
    },
    {
      "cell_type": "code",
      "metadata": {
        "id": "welcome-daughter"
      },
      "source": [
        "def preprocess_data(X, y):\n",
        "    X= convert_df_to_numpy(X)\n",
        "    y=convert_df_to_numpy(y)\n",
        "    X=wavelet_denoising(X)\n",
        "    return X, y"
      ],
      "id": "welcome-daughter",
      "execution_count": null,
      "outputs": []
    },
    {
      "cell_type": "code",
      "metadata": {
        "id": "naughty-discount"
      },
      "source": [
        "X, y = preprocess_data(X,y)"
      ],
      "id": "naughty-discount",
      "execution_count": null,
      "outputs": []
    },
    {
      "cell_type": "code",
      "metadata": {
        "scrolled": true,
        "colab": {
          "base_uri": "https://localhost:8080/"
        },
        "id": "married-farmer",
        "outputId": "fb102ff2-4c12-45a5-c5ff-38db5c936a0d"
      },
      "source": [
        "X.shape, y.shape"
      ],
      "id": "married-farmer",
      "execution_count": null,
      "outputs": [
        {
          "output_type": "execute_result",
          "data": {
            "text/plain": [
              "((1422392, 32), (1422392, 6))"
            ]
          },
          "metadata": {
            "tags": []
          },
          "execution_count": 16
        }
      ]
    },
    {
      "cell_type": "code",
      "metadata": {
        "colab": {
          "base_uri": "https://localhost:8080/"
        },
        "id": "theoretical-uruguay",
        "outputId": "43653dcd-e0cd-4c57-9e4d-34b3f4428880"
      },
      "source": [
        "type(X), type(y)"
      ],
      "id": "theoretical-uruguay",
      "execution_count": null,
      "outputs": [
        {
          "output_type": "execute_result",
          "data": {
            "text/plain": [
              "(numpy.ndarray, numpy.ndarray)"
            ]
          },
          "metadata": {
            "tags": []
          },
          "execution_count": 17
        }
      ]
    },
    {
      "cell_type": "markdown",
      "metadata": {
        "id": "coordinated-uganda"
      },
      "source": [
        "## Visualizing a signal before and after wavelet denoising"
      ],
      "id": "coordinated-uganda"
    },
    {
      "cell_type": "code",
      "metadata": {
        "id": "postal-disorder"
      },
      "source": [
        "#signal=pd.read_csv('../raw_date/train/subj1_series1_data.csv')\n",
        "#signal = signal.drop(\"id\", axis=1)\n",
        "#filtered = wavelet_denoising(signal, wavelet='db2', level=3)\n",
        "\n",
        "#import matplotlib.pyplot as plt\n",
        "#fig, ax = plt.subplots(figsize=(8,5))\n",
        "#ax.plot(signal.iloc[:10000,1], label='signal', color=\"b\", alpha=0.5,)\n",
        "#ax.plot(filtered[:10000,1], label='reconstructed signal',color=\"k\")\n",
        "#ax.legend(loc='upper left')\n",
        "#ax.set_title('Denoising with DWT')\n",
        "#plt.show()"
      ],
      "id": "postal-disorder",
      "execution_count": null,
      "outputs": []
    },
    {
      "cell_type": "markdown",
      "metadata": {
        "id": "lasting-intervention"
      },
      "source": [
        "## Test splitting data"
      ],
      "id": "lasting-intervention"
    },
    {
      "cell_type": "code",
      "metadata": {
        "id": "prostate-thong"
      },
      "source": [
        "def custom_train_test_split(X, y):\n",
        "     \n",
        "    splitrate=-X.shape[0]//5*2\n",
        "    xval=X[splitrate:splitrate//2]\n",
        "    yval=y[splitrate:splitrate//2]\n",
        "    xtest=X[splitrate//2:]\n",
        "    ytest=y[splitrate//2:]\n",
        "    xtrain=X[:splitrate]\n",
        "    ytrain=y[:splitrate]\n",
        "    \n",
        "    return xtrain, xval, xtest, ytrain, yval, ytest "
      ],
      "id": "prostate-thong",
      "execution_count": null,
      "outputs": []
    },
    {
      "cell_type": "code",
      "metadata": {
        "id": "weekly-rebel"
      },
      "source": [
        "# splitting the data \n",
        "xtrain, xval, xtest, ytrain, yval, ytest = custom_train_test_split(X, y)"
      ],
      "id": "weekly-rebel",
      "execution_count": null,
      "outputs": []
    },
    {
      "cell_type": "code",
      "metadata": {
        "colab": {
          "base_uri": "https://localhost:8080/"
        },
        "id": "wound-heart",
        "outputId": "239e2389-9c8f-4bb9-e523-2374e47b4e15"
      },
      "source": [
        "xtrain.shape, xval.shape, xtest.shape, ytrain.shape, yval.shape, ytest.shape"
      ],
      "id": "wound-heart",
      "execution_count": null,
      "outputs": [
        {
          "output_type": "execute_result",
          "data": {
            "text/plain": [
              "((853434, 32),\n",
              " (284479, 32),\n",
              " (284479, 32),\n",
              " (853434, 6),\n",
              " (284479, 6),\n",
              " (284479, 6))"
            ]
          },
          "metadata": {
            "tags": []
          },
          "execution_count": 20
        }
      ]
    },
    {
      "cell_type": "code",
      "metadata": {
        "colab": {
          "base_uri": "https://localhost:8080/"
        },
        "id": "available-plasma",
        "outputId": "6152948f-632b-4c12-9c87-92bb66aa8801"
      },
      "source": [
        "type(xtrain), type(xval), type(xtest), type(ytrain), type(yval), type(ytest)"
      ],
      "id": "available-plasma",
      "execution_count": null,
      "outputs": [
        {
          "output_type": "execute_result",
          "data": {
            "text/plain": [
              "(numpy.ndarray,\n",
              " numpy.ndarray,\n",
              " numpy.ndarray,\n",
              " numpy.ndarray,\n",
              " numpy.ndarray,\n",
              " numpy.ndarray)"
            ]
          },
          "metadata": {
            "tags": []
          },
          "execution_count": 21
        }
      ]
    },
    {
      "cell_type": "markdown",
      "metadata": {
        "id": "taken-raleigh"
      },
      "source": [
        "## Scaling data"
      ],
      "id": "taken-raleigh"
    },
    {
      "cell_type": "code",
      "metadata": {
        "id": "solved-bracket"
      },
      "source": [
        "scaler= StandardScaler()\n",
        "\n",
        "def data_scaler_train(X):\n",
        "    X_prep=scaler.fit_transform(X)\n",
        "    #do here your preprocessing\n",
        "    return X_prep\n",
        "def data_scaler_test(X):\n",
        "    X_prep=scaler.transform(X)\n",
        "    #do here your preprocessing\n",
        "    return X_prep"
      ],
      "id": "solved-bracket",
      "execution_count": null,
      "outputs": []
    },
    {
      "cell_type": "code",
      "metadata": {
        "id": "innocent-syndication"
      },
      "source": [
        "X_train_scaled= data_scaler_train(xtrain)\n",
        "X_val_scaled= data_scaler_test(xval)"
      ],
      "id": "innocent-syndication",
      "execution_count": null,
      "outputs": []
    },
    {
      "cell_type": "code",
      "metadata": {
        "colab": {
          "base_uri": "https://localhost:8080/"
        },
        "id": "posted-directory",
        "outputId": "b4dcf49a-4b0d-4324-f524-bd9ea5ec8c71"
      },
      "source": [
        "X_train_scaled.shape, X_val_scaled.shape"
      ],
      "id": "posted-directory",
      "execution_count": null,
      "outputs": [
        {
          "output_type": "execute_result",
          "data": {
            "text/plain": [
              "((853434, 32), (284479, 32))"
            ]
          },
          "metadata": {
            "tags": []
          },
          "execution_count": 24
        }
      ]
    },
    {
      "cell_type": "code",
      "metadata": {
        "colab": {
          "base_uri": "https://localhost:8080/"
        },
        "id": "portuguese-robin",
        "outputId": "1d26dbd0-a3e3-4d18-c508-e6a009ba23c3"
      },
      "source": [
        "type(X_train_scaled), type(X_val_scaled)"
      ],
      "id": "portuguese-robin",
      "execution_count": null,
      "outputs": [
        {
          "output_type": "execute_result",
          "data": {
            "text/plain": [
              "(numpy.ndarray, numpy.ndarray)"
            ]
          },
          "metadata": {
            "tags": []
          },
          "execution_count": 25
        }
      ]
    },
    {
      "cell_type": "markdown",
      "metadata": {
        "id": "italian-sponsorship"
      },
      "source": [
        "## Generators"
      ],
      "id": "italian-sponsorship"
    },
    {
      "cell_type": "code",
      "metadata": {
        "id": "studied-index"
      },
      "source": [
        "time_steps = 1000\n",
        "subsample = 50"
      ],
      "id": "studied-index",
      "execution_count": null,
      "outputs": []
    },
    {
      "cell_type": "code",
      "metadata": {
        "id": "unlike-services"
      },
      "source": [
        "def generator(batch_size, xtrain, ytrain):\n",
        "    while 1:\n",
        "        x_time_data = np.zeros((batch_size, time_steps//subsample, 32))\n",
        "        yy = []\n",
        "        for i in range(batch_size):\n",
        "            random_index = np.random.randint(0, len(xtrain)-time_steps)\n",
        "            x_time_data[i] = xtrain[random_index:random_index+time_steps:subsample]\n",
        "            yy.append(ytrain[random_index + time_steps])\n",
        "        yy = np.asarray(yy)\n",
        "        yield x_time_data.reshape((x_time_data.shape[0],x_time_data.shape[1],  x_time_data.shape[2],1)), yy"
      ],
      "id": "unlike-services",
      "execution_count": null,
      "outputs": []
    },
    {
      "cell_type": "code",
      "metadata": {
        "id": "disturbed-mentor"
      },
      "source": [
        "def valgenerator(xval, yval):\n",
        "    while 1:\n",
        "        batch_size=32\n",
        "        x_time_data = np.zeros((batch_size, time_steps//subsample, 32))\n",
        "        yy = []\n",
        "        for i in range(batch_size):\n",
        "            random_index = np.random.randint(0, len(xval)-time_steps)\n",
        "            x_time_data[i] = xval[random_index:random_index+time_steps:subsample]\n",
        "            yy.append(yval[random_index + time_steps])\n",
        "        yy = np.asarray(yy)\n",
        "        yield x_time_data.reshape((x_time_data.shape[0],x_time_data.shape[1], x_time_data.shape[2],1)), yy"
      ],
      "id": "disturbed-mentor",
      "execution_count": null,
      "outputs": []
    },
    {
      "cell_type": "markdown",
      "metadata": {
        "id": "sized-operator"
      },
      "source": [
        "# CNN Model "
      ],
      "id": "sized-operator"
    },
    {
      "cell_type": "code",
      "metadata": {
        "id": "expected-husband"
      },
      "source": [
        "def CNN_model():\n",
        "  \n",
        "  load = 1\n",
        "  model = Sequential()\n",
        "\n",
        "  model.add(Conv2D(filters = 64, kernel_size = (7,7), padding = \"same\", activation = \"relu\", input_shape = ((time_steps//subsample), 32, 1)))\n",
        "  model.add(BatchNormalization())\n",
        "  #model.add(MaxPooling2D(pool_size = (3,3)))\n",
        "  model.add(Conv2D(filters = 64, kernel_size = (5,5), padding = \"same\", activation = \"relu\", input_shape = ((time_steps//subsample), 32, 1)))\n",
        "  model.add(BatchNormalization())\n",
        "  #model.add(MaxPooling2D(pool_size = (3,3)))\n",
        "  model.add(Conv2D(filters = 64, kernel_size = (3,3), padding = \"same\", activation = \"relu\", input_shape = ((time_steps//subsample), 32, 1)))\n",
        "  model.add(BatchNormalization())\n",
        "  #model.add(MaxPooling2D(pool_size = (3,3)))\n",
        "  model.add(Flatten())\n",
        "  #model.add(Dropout(0.2))\n",
        "  model.add(Dense(32, activation = \"relu\"))\n",
        "  model.add(BatchNormalization())\n",
        "  # model.add(Dropout(0.2))\n",
        "  model.add(Dense(6, activation = \"sigmoid\"))\n",
        "\n",
        "\n",
        "  adam = Adam(lr = 0.0001)\n",
        "\n",
        "  model.compile(optimizer = adam, loss = \"binary_crossentropy\", metrics = ['accuracy','mse'])\n",
        "\n",
        "  return model"
      ],
      "id": "expected-husband",
      "execution_count": null,
      "outputs": []
    },
    {
      "cell_type": "code",
      "metadata": {
        "id": "T5Vc2Tn0rvCo"
      },
      "source": [
        "model= CNN_model()"
      ],
      "id": "T5Vc2Tn0rvCo",
      "execution_count": null,
      "outputs": []
    },
    {
      "cell_type": "code",
      "metadata": {
        "colab": {
          "base_uri": "https://localhost:8080/"
        },
        "id": "informational-stomach",
        "outputId": "3e615c98-e61e-4d9c-c641-013f8ca6f491"
      },
      "source": [
        "es= EarlyStopping(patience=2)\n",
        "history =model.fit_generator(generator(32,X_train_scaled, ytrain), steps_per_epoch = 600, epochs = 50,validation_data=valgenerator(X_val_scaled, yval),\n",
        "                              validation_steps=200,callbacks=[es])"
      ],
      "id": "informational-stomach",
      "execution_count": null,
      "outputs": [
        {
          "output_type": "stream",
          "text": [
            "/usr/local/lib/python3.7/dist-packages/tensorflow/python/keras/engine/training.py:1844: UserWarning: `Model.fit_generator` is deprecated and will be removed in a future version. Please use `Model.fit`, which supports generators.\n",
            "  warnings.warn('`Model.fit_generator` is deprecated and '\n"
          ],
          "name": "stderr"
        },
        {
          "output_type": "stream",
          "text": [
            "Epoch 1/50\n",
            "600/600 [==============================] - 38s 9ms/step - loss: 0.6849 - accuracy: 0.1972 - mse: 0.2440 - val_loss: 0.5582 - val_accuracy: 0.1323 - val_mse: 0.1837\n",
            "Epoch 2/50\n",
            "600/600 [==============================] - 5s 8ms/step - loss: 0.5356 - accuracy: 0.2368 - mse: 0.1730 - val_loss: 0.4016 - val_accuracy: 0.1289 - val_mse: 0.1111\n",
            "Epoch 3/50\n",
            "600/600 [==============================] - 5s 8ms/step - loss: 0.3644 - accuracy: 0.2442 - mse: 0.0961 - val_loss: 0.2367 - val_accuracy: 0.2316 - val_mse: 0.0487\n",
            "Epoch 4/50\n",
            "600/600 [==============================] - 5s 8ms/step - loss: 0.2254 - accuracy: 0.2625 - mse: 0.0460 - val_loss: 0.1565 - val_accuracy: 0.3020 - val_mse: 0.0277\n",
            "Epoch 5/50\n",
            "600/600 [==============================] - 5s 8ms/step - loss: 0.1507 - accuracy: 0.2964 - mse: 0.0278 - val_loss: 0.1064 - val_accuracy: 0.2853 - val_mse: 0.0187\n",
            "Epoch 6/50\n",
            "600/600 [==============================] - 5s 8ms/step - loss: 0.1144 - accuracy: 0.3200 - mse: 0.0224 - val_loss: 0.0902 - val_accuracy: 0.3417 - val_mse: 0.0165\n",
            "Epoch 7/50\n",
            "600/600 [==============================] - 5s 8ms/step - loss: 0.0929 - accuracy: 0.3504 - mse: 0.0195 - val_loss: 0.0756 - val_accuracy: 0.3258 - val_mse: 0.0157\n",
            "Epoch 8/50\n",
            "600/600 [==============================] - 5s 8ms/step - loss: 0.0824 - accuracy: 0.3778 - mse: 0.0187 - val_loss: 0.0616 - val_accuracy: 0.3700 - val_mse: 0.0129\n",
            "Epoch 9/50\n",
            "600/600 [==============================] - 5s 8ms/step - loss: 0.0727 - accuracy: 0.3805 - mse: 0.0171 - val_loss: 0.0700 - val_accuracy: 0.2941 - val_mse: 0.0164\n",
            "Epoch 10/50\n",
            "600/600 [==============================] - 5s 8ms/step - loss: 0.0669 - accuracy: 0.3887 - mse: 0.0163 - val_loss: 0.0598 - val_accuracy: 0.3684 - val_mse: 0.0140\n",
            "Epoch 11/50\n",
            "600/600 [==============================] - 5s 8ms/step - loss: 0.0633 - accuracy: 0.4188 - mse: 0.0159 - val_loss: 0.0648 - val_accuracy: 0.3569 - val_mse: 0.0156\n",
            "Epoch 12/50\n",
            "600/600 [==============================] - 5s 8ms/step - loss: 0.0605 - accuracy: 0.4120 - mse: 0.0156 - val_loss: 0.0637 - val_accuracy: 0.4128 - val_mse: 0.0155\n"
          ],
          "name": "stdout"
        }
      ]
    },
    {
      "cell_type": "code",
      "metadata": {
        "id": "worse-minute",
        "colab": {
          "base_uri": "https://localhost:8080/",
          "height": 390
        },
        "outputId": "1292f68d-1742-46fe-f84a-699f5c66a290"
      },
      "source": [
        "def plot_training_history(history):\n",
        "    acc = history.history['accuracy']\n",
        "    loss = history.history['loss']\n",
        "    val_acc = history.history['val_accuracy']\n",
        "    val_loss = history.history['val_loss']\n",
        "    epochs = range(len(acc))\n",
        " \n",
        "    plt.figure(figsize=(15, 6))\n",
        "    plt.subplot(1, 2, 1)\n",
        "    plt.plot(epochs, acc, 'b', label='Training acc',linewidth=2)\n",
        "    plt.plot(epochs, val_acc, 'r--', label='Validation acc',linewidth=2)\n",
        "    plt.title('Training  accuracy')\n",
        "    plt.legend()\n",
        " \n",
        "    plt.subplot(1, 2, 2)\n",
        "    plt.plot(epochs, loss, 'b', label='Training loss')\n",
        "    plt.plot(epochs, val_loss, 'k', label='Validationloss ')\n",
        "    plt.title('Training loss')\n",
        "    plt.legend()\n",
        " \n",
        "    plt.show()\n",
        "plot_training_history(history)\n",
        "\n",
        "\n"
      ],
      "id": "worse-minute",
      "execution_count": null,
      "outputs": [
        {
          "output_type": "display_data",
          "data": {
            "image/png": "[encoded data removed]",
            "text/plain": [
              "<Figure size 1080x432 with 2 Axes>"
            ]
          },
          "metadata": {
            "tags": [],
            "needs_background": "light"
          }
        }
      ]
    },
    {
      "cell_type": "code",
      "metadata": {
        "id": "IRxXcT3El4Cz"
      },
      "source": [
        "time_frame =1000\n",
        "steps=50"
      ],
      "id": "IRxXcT3El4Cz",
      "execution_count": null,
      "outputs": []
    },
    {
      "cell_type": "code",
      "metadata": {
        "id": "f0PY9IZkowJ8"
      },
      "source": [
        "def test_generator(xtest, ytest):\n",
        "    while 1:\n",
        "        batch_size = 32\n",
        "        x_time_data = np.zeros((batch_size, time_frame//steps, 32))\n",
        "        yy = []\n",
        "        for i in range(batch_size):\n",
        "            random_index = np.random.randint(0, len(xtest)-time_frame)\n",
        "            x_time_data[i] = xtest[random_index:random_index+time_frame:steps]\n",
        "            yy.append(ytest[random_index + time_frame])\n",
        "        yy = np.asarray(yy)\n",
        "        yield x_time_data.reshape((x_time_data.shape[0],x_time_data.shape[1], x_time_data.shape[2], 1)), yy"
      ],
      "id": "f0PY9IZkowJ8",
      "execution_count": null,
      "outputs": []
    },
    {
      "cell_type": "code",
      "metadata": {
        "id": "4eloRdQMpBC3"
      },
      "source": [
        "#final generator for testing \n",
        "def batching(xtest, ytest):\n",
        "  time_frame =1000\n",
        "  steps=50  \n",
        "  batch_size = int(len(xtest)/time_frame)\n",
        "  \n",
        "  x_time_data = np.zeros((batch_size, time_frame//steps, 32))\n",
        "  index = 0\n",
        "  yy = []\n",
        "\n",
        "  for i in range(batch_size):\n",
        "\n",
        "    x_time_data[i] = xtest[index:index+time_frame:steps]\n",
        "            \n",
        "    yy.append(ytest[index + time_frame -1])\n",
        "\n",
        "    index+=time_frame\n",
        "\n",
        "  yy = np.asarray(yy)\n",
        "\n",
        "  return  x_time_data.reshape((x_time_data.shape[0],x_time_data.shape[1], x_time_data.shape[2], 1)), yy"
      ],
      "id": "4eloRdQMpBC3",
      "execution_count": null,
      "outputs": []
    },
    {
      "cell_type": "code",
      "metadata": {
        "id": "6tHt-tYIcnOl"
      },
      "source": [
        "def preloaded_predictions(xtest, ytest):\n",
        "  X_test_scaled = data_scaler_test(xtest)\n",
        "  x, y = batching(X_test_scaled, ytest)\n",
        "  predictions= model.predict(x)\n",
        "  labels = {0 : 'Handstart (HS)',\n",
        "                   1 : \"Grasping (GS)\",\n",
        "                   2 : \"Lift (LT)\",\n",
        "                   3 : \"Hold (HD)\",\n",
        "                   4 : \"Replace (RP)\",\n",
        "                   5 : \"Release (RL)\"}\n",
        "  labeled_predictions=[]\n",
        "\n",
        "  for pred in predictions:\n",
        "    rounded_pred=np.round(pred)\n",
        "    movement_index = np.where(rounded_pred == 1)[0]\n",
        "    if len(movement_index) == 0:\n",
        "      labeled_predictions.append([\"No movement\"])\n",
        "    else:\n",
        "      movement_labels=[]\n",
        "      for index in movement_index:\n",
        "        movement_labels.append(labels[index])\n",
        "      labeled_predictions.append(movement_labels)   \n",
        "  return labeled_predictions "
      ],
      "id": "6tHt-tYIcnOl",
      "execution_count": null,
      "outputs": []
    },
    {
      "cell_type": "code",
      "metadata": {
        "id": "DmRHrCBPrHZN"
      },
      "source": [
        "x, y = batching(X_test_scaled, ytest)"
      ],
      "id": "DmRHrCBPrHZN",
      "execution_count": null,
      "outputs": []
    },
    {
      "cell_type": "code",
      "metadata": {
        "colab": {
          "base_uri": "https://localhost:8080/"
        },
        "id": "KoVALaKUx06u",
        "outputId": "25b15ee7-fe10-4a75-b3de-b01723786321"
      },
      "source": [
        "len(y)"
      ],
      "id": "KoVALaKUx06u",
      "execution_count": null,
      "outputs": [
        {
          "output_type": "execute_result",
          "data": {
            "text/plain": [
              "284"
            ]
          },
          "metadata": {
            "tags": []
          },
          "execution_count": 82
        }
      ]
    },
    {
      "cell_type": "code",
      "metadata": {
        "colab": {
          "base_uri": "https://localhost:8080/"
        },
        "id": "0qTcEOopmd7Y",
        "outputId": "e975fa3d-0612-40f7-9549-326e52249d79"
      },
      "source": [
        "len(preloaded_predictions(xtest, ytest))"
      ],
      "id": "0qTcEOopmd7Y",
      "execution_count": null,
      "outputs": [
        {
          "output_type": "execute_result",
          "data": {
            "text/plain": [
              "284"
            ]
          },
          "metadata": {
            "tags": []
          },
          "execution_count": 66
        }
      ]
    },
    {
      "cell_type": "code",
      "metadata": {
        "id": "jDMZB6dbtEpy"
      },
      "source": [
        "all_predictions = preloaded_predictions(xtest, ytest)"
      ],
      "id": "jDMZB6dbtEpy",
      "execution_count": null,
      "outputs": []
    },
    {
      "cell_type": "code",
      "metadata": {
        "id": "02IHtDWntQ7O"
      },
      "source": [
        "#add the different subjects selection\r\n",
        "def search(second_segment_number):\r\n",
        "  return all_predictions[second_segment_number]"
      ],
      "id": "02IHtDWntQ7O",
      "execution_count": null,
      "outputs": []
    },
    {
      "cell_type": "code",
      "metadata": {
        "id": "nwUhxLdgn1UT"
      },
      "source": [
        "#np.round(predictions).flatten().reshape(160000,6)\n",
        "\n",
        "#np.asarray(y_test_).flatten().reshape(160000,6)\n",
        "#l=[\"Handstart (HS)\",\"Grasping (GS)\",\"Lift (LT)\",\"Hold (HD)\",\"Replace (RP)\",\"Release (RL)\"]\n",
        "#print(classification_report(np.asarray(y_test_).flatten().reshape(160000,6), np.round(predictions).flatten().reshape(160000,6), target_names=l))"
      ],
      "id": "nwUhxLdgn1UT",
      "execution_count": null,
      "outputs": []
    },
    {
      "cell_type": "markdown",
      "metadata": {
        "id": "Yo4WK6haH532"
      },
      "source": [
        "Predic"
      ],
      "id": "Yo4WK6haH532"
    },
    {
      "cell_type": "code",
      "metadata": {
        "id": "Z9F-RcIsJLR9"
      },
      "source": [
        "def prediction_labels(gen_data):\n",
        "    predicted_labels = []\n",
        "    predictions=[]\n",
        "    y_test_=[]\n",
        "\n",
        "    for i in range(1):\n",
        "      x_test, y_test = next(gen_data)\n",
        "      while not 1 in y_test:\n",
        "          x_test, y_test = next(gen_data)\n",
        "      predicts= model.predict(x_test)\n",
        "      predictions.append(predicts)\n",
        "      y_test_.append(y_test)\n",
        "\n",
        "    labels = {0 : 'Handstart (HS)',\n",
        "                   1 : \"Grasping (GS)\",\n",
        "                   2 : \"Lift (LT)\",\n",
        "                   3 : \"Hold (HD)\",\n",
        "                   4 : \"Replace (RP)\",\n",
        "                   5 : \"Release (RL)\"}\n",
        "\n",
        "    for pred in predictions[0]:\n",
        "      list_to_np =np.asarray(np.round(pred))\n",
        "      pos_indices = np.where(list_to_np == 1)[1]\n",
        "      if len(pos_indices) ==0:\n",
        "          predicted_labels.append('No Movement')\n",
        "      else:\n",
        "          list_labeled_mov = []\n",
        "          for index in pos_indices:\n",
        "              list_labeled_mov.append(labels[index])\n",
        "          predicted_labels.append(list_labeled_mov)\n",
        "    return predicted_labels, y_test_\n"
      ],
      "id": "Z9F-RcIsJLR9",
      "execution_count": null,
      "outputs": []
    },
    {
      "cell_type": "code",
      "metadata": {
        "id": "rK24pqNpEY9R"
      },
      "source": [
        "\n",
        "#@title Get the segment, preprocess it, scale it, generator, feed it to the model, translate labels (make_prediction function)\n"
      ],
      "id": "rK24pqNpEY9R",
      "execution_count": null,
      "outputs": []
    },
    {
      "cell_type": "code",
      "metadata": {
        "id": "6x54E7RbU-dZ"
      },
      "source": [
        "def grab(subj_num,):\n",
        "  X ,y = loading_one_subject(subj_num)\n",
        "  X, y = preprocess_data(X,y)\n",
        "  xtrain, xval, xtest, ytrain, yval, ytest = custom_train_test_split(X, y)\n",
        "  X_test_scaled = data_scaler_test(xtest)\n",
        "  gen_data = testing_generator(xtest, ytest, 1000)\n",
        "\n",
        "  \n"
      ],
      "id": "6x54E7RbU-dZ",
      "execution_count": null,
      "outputs": []
    },
    {
      "cell_type": "code",
      "metadata": {
        "id": "P4kvS2Xw2VhS"
      },
      "source": [
        "#useless functions for now\n",
        "def tester_generator(xtest, time_steps= 1000, subsample=50):\n",
        "    while 1:\n",
        "        batch_size = 1\n",
        "        x_time_data = np.zeros((batch_size, time_steps//subsample, 32))\n",
        "        for i in range(batch_size):\n",
        "            random_index = np.random.randint(0, len(xtest)-time_steps)\n",
        "            x_time_data[i] = xtest[random_index:random_index+time_steps:subsample]\n",
        "        yield x_time_data.reshape((x_time_data.shape[0],x_time_data.shape[1], x_time_data.shape[2], 1))\n",
        "\n",
        "\n",
        "\n",
        "def prediction_test(df, num_test):\n",
        "  predictions = []\n",
        "  num_test = num_test\n",
        "  for i in range(num_test):\n",
        "      x_test= next(df)\n",
        "      predict = model.predict(x_test)\n",
        "      predictions.append(predict)\n",
        "  l=[\"Handstart (HS)\",\"Grasping (GS)\",\"Lift (LT)\",\"Hold (HD)\",\"Replace (RP)\",\"Release (RL)\"]\n",
        "  results=[]\n",
        "  for elem in np.round(predictions):\n",
        "    if elem[0][0] == 1:\n",
        "       results.append(l[0])\n",
        "    if elem[0][1] ==1:\n",
        "      results.append(l[1])\n",
        "    if elem[0][2] ==1:\n",
        "      results.append(l[2])\n",
        "    if elem[0][3] ==1:\n",
        "      results.append(l[3])\n",
        "    if elem[0][4] ==1:\n",
        "      results.append(l[4])\n",
        "    if elem[0][5] ==1:\n",
        "      results.append(l[5])\n",
        "  return np.reshape(results,(num_test,6))\n",
        "\n",
        "\n",
        "\n",
        "def scores(gen_data, num_test):\n",
        "  #scores = []\n",
        "  predictions=[]\n",
        "  x_test_=[]\n",
        "  y_test_=[]\n",
        "  num_test = num_test\n",
        "  for i in range(num_test):\n",
        "      x_test, y_test = next(gen_data)\n",
        "      while not 1 in y_test:\n",
        "          x_test, y_test = next(gen_data)\n",
        "      #score = model.evaluate(x_test, y_test, verbose=0)\n",
        "      predicts= model.predict(x_test)\n",
        "      predictions.append(predicts)\n",
        "      #scores.append(score[1])\n",
        "      x_test_.append(x_test)\n",
        "      y_test_.append(y_test)\n",
        "  #scores = np.asarray(scores)\n",
        "  #np.mean(scores),\n",
        "  return  x_test_, y_test_ , predictions\n",
        "  "
      ],
      "id": "P4kvS2Xw2VhS",
      "execution_count": null,
      "outputs": []
    }
  ]
}